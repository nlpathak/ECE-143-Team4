{
 "cells": [
  {
   "cell_type": "markdown",
   "metadata": {},
   "source": [
    "# Code Validation and Functional Tests\n",
    "## Group 4\n",
    "### Group Members\n",
    "- Aaron Hanna; A15683824\n",
    "- Nikhil Pathak; A14550488\n",
    "- Chris Light; A15694506\n",
    "- Raymond Urbina; A16099845\n",
    "- Sonya Mohammed "
   ]
  },
  {
   "cell_type": "code",
   "execution_count": null,
   "metadata": {},
   "outputs": [],
   "source": [
    "# Imports\n",
    "from math import ceil"
   ]
  },
  {
   "cell_type": "markdown",
   "metadata": {},
   "source": [
    "## Question 1: Powers of 3"
   ]
  },
  {
   "cell_type": "markdown",
   "metadata": {},
   "source": [
    "#### Validation Tests"
   ]
  },
  {
   "cell_type": "code",
   "execution_count": null,
   "metadata": {},
   "outputs": [],
   "source": [
    "# Check that input is an int in appropriate range\n",
    "assert isinstance(n,int), \"input must be an integer\"\n",
    "assert 1 <= n <= 40, \"int out of range\"\n",
    "\n",
    "# Check for docstring existence\n",
    "assert get_power_of3.__doc__ != None\n",
    "assert len(get_power_of3.__doc__)"
   ]
  },
  {
   "cell_type": "markdown",
   "metadata": {},
   "source": [
    "#### Functional Tests\n"
   ]
  },
  {
   "cell_type": "code",
   "execution_count": null,
   "metadata": {},
   "outputs": [],
   "source": [
    "# Test cases for right output\n",
    "assert len(get_power_of3(10)) == 4, \"checking correct output length\"\n",
    "\n",
    "assert get_power_of3(5) == [-1, -1, 1, 0], \"checking right output for n = 5\"\n",
    "assert get_power_of3(1) == [1, 0, 0, 0], \"checking right output for n = 1\"\n",
    "assert get_power_of3(40) == [1, 1, 1, 1], \"checking right output for n = 40\"\n",
    "assert get_power_of3(8) == [-1, 0, 1, 0], \"checking right output for n = 8\"\n",
    "assert get_power_of3(10) == [1, 0, 1, 0], \"checking right output for n = 10\""
   ]
  },
  {
   "cell_type": "markdown",
   "metadata": {},
   "source": [
    "## Question 2: Write Columns"
   ]
  },
  {
   "cell_type": "markdown",
   "metadata": {},
   "source": [
    "#### Validation Tests"
   ]
  },
  {
   "cell_type": "code",
   "execution_count": null,
   "metadata": {},
   "outputs": [],
   "source": [
    "# Check that the data input is a list of floats and/or ints\n",
    "assert isinstance(data,list), \"input must be a list\"\n",
    "assert all(isinstance(x, (float,int)) for x in data), \"list must only contain floats,ints\"\n",
    "\n",
    "# Check that the fname input is a string that is longer than 1 character\n",
    "assert isinstance(fname,str), \"input must be a string\"\n",
    "assert len(fname) > 0, \"file name invalid\"\n",
    "\n",
    "# Check for docstring existence\n",
    "assert write_columns.__doc__ != None, \"Missing a docstring\"\n",
    "assert len(write_columns.__doc__) > 0, \"Length of docstring must be greater than zero\""
   ]
  },
  {
   "cell_type": "markdown",
   "metadata": {},
   "source": [
    "#### Functional Tests"
   ]
  },
  {
   "cell_type": "code",
   "execution_count": null,
   "metadata": {},
   "outputs": [],
   "source": [
    "# Inputs for testing\n",
    "fname = 'out.csv'\n",
    "data = [0, 1.5, -1]\n",
    "\n",
    "# Hard coded approach to functional test (not generous with white spaces)\n",
    "write_columns(data, fname)\n",
    "with open(fname, 'r') as f:\n",
    "    lines = f.readlines()\n",
    "\n",
    "assert lines == ['0.00, 0.00, 0.00\\n', '1.50, 2.25, 1.25\\n', '-1.00, 1.00, 0.00\\n'], \"incorrect output \"\n",
    "\n",
    "# Hard coded approach to edge case functional test\n",
    "fname = 'out.csv'\n",
    "data = []\n",
    "\n",
    "write_columns(data, fname)\n",
    "with open(fname, 'r') as f:\n",
    "    lines = f.readlines()\n",
    "\n",
    "assert lines == []"
   ]
  },
  {
   "cell_type": "code",
   "execution_count": null,
   "metadata": {},
   "outputs": [],
   "source": [
    "# This is a generative test case approach\n",
    "\n",
    "# Inputs for function testing\n",
    "fname = 'out.csv'\n",
    "data = [0, 1, -5, 0.5]\n",
    "\n",
    "# Call function\n",
    "write_columns(data, fname)\n",
    "\n",
    "# Open file name that should have been written for reading\n",
    "with open(fname, 'r') as f:\n",
    "    # the number of lines written should match the number of elements in the data array\n",
    "    assert len(f.readlines()) == len(data)\n",
    "\n",
    "# Check that the calculations are correct and comma seperated via generative approach\n",
    "with open(fname, 'r') as f:\n",
    "    for d in data:\n",
    "        # Remove whitespace for different csv interpretations\n",
    "        line = f.readline().replace(' ', '')\n",
    "        expectString = f\"{d:.2f},{d**2:.2f},{(d+d**2)/3:.2f}\\n\"\n",
    "        assert line == expectString, \"miscalculation or wrong format\""
   ]
  },
  {
   "cell_type": "markdown",
   "metadata": {},
   "source": [
    "## Question 3: Non-Overlapping Sequences"
   ]
  },
  {
   "cell_type": "markdown",
   "metadata": {},
   "source": [
    "#### Validation Tests"
   ]
  },
  {
   "cell_type": "code",
   "execution_count": null,
   "metadata": {},
   "outputs": [],
   "source": [
    "# Inputs for testing\n",
    "fname = 'out.csv'\n",
    "words = ['this', 'is', 'a', 'test', 'of', 'the', 'code']\n",
    "\n",
    "# Check that the words input is a list of all strings\n",
    "assert isinstance(words,list), \"words input must be an list\"\n",
    "assert all(isinstance(word, str) for word in words), \"all types in list must be str\"\n",
    "\n",
    "# Check that the fname input is a string that is longer than 1 character\n",
    "assert isinstance(fname,str), \"input must be a string\"\n",
    "assert len(fname) > 0, \"file name invalid\"\n",
    "\n",
    "# Check for docstring existence\n",
    "assert write_chunks_of_five.__doc__ != None\n",
    "assert len(write_chunks_of_five.__doc__)"
   ]
  },
  {
   "cell_type": "markdown",
   "metadata": {},
   "source": [
    "#### Functional Tests"
   ]
  },
  {
   "cell_type": "code",
   "execution_count": null,
   "metadata": {},
   "outputs": [],
   "source": [
    "# Inputs for testing\n",
    "fname = 'out.csv'\n",
    "words = ['this', 'is', 'a', 'test', 'of', 'the', 'code']\n",
    "\n",
    "# Hard coded approach to functional test (not generous with white spaces)\n",
    "write_chunks_of_five(words, fname)\n",
    "with open(fname, 'r') as f:\n",
    "    lines = f.readlines()\n",
    "\n",
    "assert lines == ['this is a test of\\n', 'the code '], \"incorrect output \"\n",
    "\n",
    "# Hard coded approach to edge case functional test\n",
    "fname = 'out.csv'\n",
    "words = []\n",
    "\n",
    "write_chunks_of_five(words, fname)\n",
    "with open(fname, 'r') as f:\n",
    "    lines = f.readlines()\n",
    "\n",
    "assert lines == []"
   ]
  },
  {
   "cell_type": "code",
   "execution_count": null,
   "metadata": {},
   "outputs": [],
   "source": [
    "# This is a generative test case approach\n",
    "fname = 'out.csv'\n",
    "words = ['this', 'is', 'a', 'second', 'test', 'of', 'the', 'code']\n",
    "\n",
    "# call function that we are testing\n",
    "write_chunks_of_five(words, fname)\n",
    "\n",
    "# Check if length of rows in file matches words list\n",
    "# This also tests the empty words array edge case\n",
    "with open(fname, 'r') as f:\n",
    "    assert len(f.readlines()) == ceil(len(words) / 5)\n",
    "\n",
    "# Compares output with expected output\n",
    "with open(fname, 'r') as f:\n",
    "    expectString = ''\n",
    "    count = 0 \n",
    "    for w in words:\n",
    "        expectString += w + ' '\n",
    "        count += 1\n",
    "\n",
    "        if count == 5:\n",
    "            line = f.readline()\n",
    "            \n",
    "            # strip both strings of beginning and end whitespace in case of different formats\n",
    "            assert line.strip() == expectString.strip(), \"unexpected string found in file\"\n",
    "            count = 0\n",
    "            expectString = ''\n",
    "\n",
    "    # Last row if mod(len(words)) != 0 (leftover words)\n",
    "    if expectString != '':\n",
    "        line = f.readline()\n",
    "        \n",
    "        # strip both strings of beginning and end whitespace in case of different formats\n",
    "        assert line.strip() == expectString.strip(), \"last row incorrect\""
   ]
  }
 ],
 "metadata": {
  "kernelspec": {
   "display_name": "Python 3",
   "language": "python",
   "name": "python3"
  },
  "language_info": {
   "codemirror_mode": {
    "name": "ipython",
    "version": 3
   },
   "file_extension": ".py",
   "mimetype": "text/x-python",
   "name": "python",
   "nbconvert_exporter": "python",
   "pygments_lexer": "ipython3",
   "version": "3.6.9"
  }
 },
 "nbformat": 4,
 "nbformat_minor": 5
}
