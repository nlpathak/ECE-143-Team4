{
 "cells": [
  {
   "cell_type": "code",
   "execution_count": 1,
   "metadata": {},
   "outputs": [],
   "source": [
    "import pandas as pd\n",
    "import numpy as np\n",
    "import pickle\n",
    "from sklearn.model_selection import train_test_split\n",
    "\n",
    "from sklearn.feature_extraction.text import CountVectorizer, TfidfVectorizer\n",
    "from sklearn.linear_model import LogisticRegression\n",
    "\n",
    "import scipy.sparse"
   ]
  },
  {
   "cell_type": "markdown",
   "metadata": {},
   "source": [
    "# Data Loading Stage + Pre-processing"
   ]
  },
  {
   "cell_type": "code",
   "execution_count": 2,
   "metadata": {},
   "outputs": [],
   "source": [
    "# From https://www.kaggle.com/kazanova/sentiment140\n",
    "# Added custom column header line to the csv after download\n",
    "df = pd.read_csv('training.1600000.processed.noemoticon.csv', encoding='latin-1')"
   ]
  },
  {
   "cell_type": "code",
   "execution_count": 3,
   "metadata": {},
   "outputs": [
    {
     "data": {
      "text/html": [
       "<div>\n",
       "<style scoped>\n",
       "    .dataframe tbody tr th:only-of-type {\n",
       "        vertical-align: middle;\n",
       "    }\n",
       "\n",
       "    .dataframe tbody tr th {\n",
       "        vertical-align: top;\n",
       "    }\n",
       "\n",
       "    .dataframe thead th {\n",
       "        text-align: right;\n",
       "    }\n",
       "</style>\n",
       "<table border=\"1\" class=\"dataframe\">\n",
       "  <thead>\n",
       "    <tr style=\"text-align: right;\">\n",
       "      <th></th>\n",
       "      <th>target</th>\n",
       "      <th>ids</th>\n",
       "      <th>date</th>\n",
       "      <th>flag</th>\n",
       "      <th>user</th>\n",
       "      <th>text</th>\n",
       "    </tr>\n",
       "  </thead>\n",
       "  <tbody>\n",
       "    <tr>\n",
       "      <th>0</th>\n",
       "      <td>0</td>\n",
       "      <td>1467810369</td>\n",
       "      <td>Mon Apr 06 22:19:45 PDT 2009</td>\n",
       "      <td>NO_QUERY</td>\n",
       "      <td>_TheSpecialOne_</td>\n",
       "      <td>@switchfoot http://twitpic.com/2y1zl - Awww, t...</td>\n",
       "    </tr>\n",
       "    <tr>\n",
       "      <th>1</th>\n",
       "      <td>0</td>\n",
       "      <td>1467810672</td>\n",
       "      <td>Mon Apr 06 22:19:49 PDT 2009</td>\n",
       "      <td>NO_QUERY</td>\n",
       "      <td>scotthamilton</td>\n",
       "      <td>is upset that he can't update his Facebook by ...</td>\n",
       "    </tr>\n",
       "    <tr>\n",
       "      <th>2</th>\n",
       "      <td>0</td>\n",
       "      <td>1467810917</td>\n",
       "      <td>Mon Apr 06 22:19:53 PDT 2009</td>\n",
       "      <td>NO_QUERY</td>\n",
       "      <td>mattycus</td>\n",
       "      <td>@Kenichan I dived many times for the ball. Man...</td>\n",
       "    </tr>\n",
       "    <tr>\n",
       "      <th>3</th>\n",
       "      <td>0</td>\n",
       "      <td>1467811184</td>\n",
       "      <td>Mon Apr 06 22:19:57 PDT 2009</td>\n",
       "      <td>NO_QUERY</td>\n",
       "      <td>ElleCTF</td>\n",
       "      <td>my whole body feels itchy and like its on fire</td>\n",
       "    </tr>\n",
       "    <tr>\n",
       "      <th>4</th>\n",
       "      <td>0</td>\n",
       "      <td>1467811193</td>\n",
       "      <td>Mon Apr 06 22:19:57 PDT 2009</td>\n",
       "      <td>NO_QUERY</td>\n",
       "      <td>Karoli</td>\n",
       "      <td>@nationwideclass no, it's not behaving at all....</td>\n",
       "    </tr>\n",
       "    <tr>\n",
       "      <th>5</th>\n",
       "      <td>0</td>\n",
       "      <td>1467811372</td>\n",
       "      <td>Mon Apr 06 22:20:00 PDT 2009</td>\n",
       "      <td>NO_QUERY</td>\n",
       "      <td>joy_wolf</td>\n",
       "      <td>@Kwesidei not the whole crew</td>\n",
       "    </tr>\n",
       "    <tr>\n",
       "      <th>6</th>\n",
       "      <td>0</td>\n",
       "      <td>1467811592</td>\n",
       "      <td>Mon Apr 06 22:20:03 PDT 2009</td>\n",
       "      <td>NO_QUERY</td>\n",
       "      <td>mybirch</td>\n",
       "      <td>Need a hug</td>\n",
       "    </tr>\n",
       "    <tr>\n",
       "      <th>7</th>\n",
       "      <td>0</td>\n",
       "      <td>1467811594</td>\n",
       "      <td>Mon Apr 06 22:20:03 PDT 2009</td>\n",
       "      <td>NO_QUERY</td>\n",
       "      <td>coZZ</td>\n",
       "      <td>@LOLTrish hey  long time no see! Yes.. Rains a...</td>\n",
       "    </tr>\n",
       "    <tr>\n",
       "      <th>8</th>\n",
       "      <td>0</td>\n",
       "      <td>1467811795</td>\n",
       "      <td>Mon Apr 06 22:20:05 PDT 2009</td>\n",
       "      <td>NO_QUERY</td>\n",
       "      <td>2Hood4Hollywood</td>\n",
       "      <td>@Tatiana_K nope they didn't have it</td>\n",
       "    </tr>\n",
       "    <tr>\n",
       "      <th>9</th>\n",
       "      <td>0</td>\n",
       "      <td>1467812025</td>\n",
       "      <td>Mon Apr 06 22:20:09 PDT 2009</td>\n",
       "      <td>NO_QUERY</td>\n",
       "      <td>mimismo</td>\n",
       "      <td>@twittera que me muera ?</td>\n",
       "    </tr>\n",
       "  </tbody>\n",
       "</table>\n",
       "</div>"
      ],
      "text/plain": [
       "   target         ids                          date      flag  \\\n",
       "0       0  1467810369  Mon Apr 06 22:19:45 PDT 2009  NO_QUERY   \n",
       "1       0  1467810672  Mon Apr 06 22:19:49 PDT 2009  NO_QUERY   \n",
       "2       0  1467810917  Mon Apr 06 22:19:53 PDT 2009  NO_QUERY   \n",
       "3       0  1467811184  Mon Apr 06 22:19:57 PDT 2009  NO_QUERY   \n",
       "4       0  1467811193  Mon Apr 06 22:19:57 PDT 2009  NO_QUERY   \n",
       "5       0  1467811372  Mon Apr 06 22:20:00 PDT 2009  NO_QUERY   \n",
       "6       0  1467811592  Mon Apr 06 22:20:03 PDT 2009  NO_QUERY   \n",
       "7       0  1467811594  Mon Apr 06 22:20:03 PDT 2009  NO_QUERY   \n",
       "8       0  1467811795  Mon Apr 06 22:20:05 PDT 2009  NO_QUERY   \n",
       "9       0  1467812025  Mon Apr 06 22:20:09 PDT 2009  NO_QUERY   \n",
       "\n",
       "              user                                               text  \n",
       "0  _TheSpecialOne_  @switchfoot http://twitpic.com/2y1zl - Awww, t...  \n",
       "1    scotthamilton  is upset that he can't update his Facebook by ...  \n",
       "2         mattycus  @Kenichan I dived many times for the ball. Man...  \n",
       "3          ElleCTF    my whole body feels itchy and like its on fire   \n",
       "4           Karoli  @nationwideclass no, it's not behaving at all....  \n",
       "5         joy_wolf                      @Kwesidei not the whole crew   \n",
       "6          mybirch                                        Need a hug   \n",
       "7             coZZ  @LOLTrish hey  long time no see! Yes.. Rains a...  \n",
       "8  2Hood4Hollywood               @Tatiana_K nope they didn't have it   \n",
       "9          mimismo                          @twittera que me muera ?   "
      ]
     },
     "execution_count": 3,
     "metadata": {},
     "output_type": "execute_result"
    }
   ],
   "source": [
    "df.head(10)"
   ]
  },
  {
   "cell_type": "code",
   "execution_count": 4,
   "metadata": {},
   "outputs": [
    {
     "data": {
      "text/html": [
       "<div>\n",
       "<style scoped>\n",
       "    .dataframe tbody tr th:only-of-type {\n",
       "        vertical-align: middle;\n",
       "    }\n",
       "\n",
       "    .dataframe tbody tr th {\n",
       "        vertical-align: top;\n",
       "    }\n",
       "\n",
       "    .dataframe thead th {\n",
       "        text-align: right;\n",
       "    }\n",
       "</style>\n",
       "<table border=\"1\" class=\"dataframe\">\n",
       "  <thead>\n",
       "    <tr style=\"text-align: right;\">\n",
       "      <th></th>\n",
       "      <th>target</th>\n",
       "      <th>text</th>\n",
       "    </tr>\n",
       "  </thead>\n",
       "  <tbody>\n",
       "    <tr>\n",
       "      <th>0</th>\n",
       "      <td>0</td>\n",
       "      <td>@switchfoot http://twitpic.com/2y1zl - Awww, t...</td>\n",
       "    </tr>\n",
       "    <tr>\n",
       "      <th>1</th>\n",
       "      <td>0</td>\n",
       "      <td>is upset that he can't update his Facebook by ...</td>\n",
       "    </tr>\n",
       "    <tr>\n",
       "      <th>2</th>\n",
       "      <td>0</td>\n",
       "      <td>@Kenichan I dived many times for the ball. Man...</td>\n",
       "    </tr>\n",
       "    <tr>\n",
       "      <th>3</th>\n",
       "      <td>0</td>\n",
       "      <td>my whole body feels itchy and like its on fire</td>\n",
       "    </tr>\n",
       "    <tr>\n",
       "      <th>4</th>\n",
       "      <td>0</td>\n",
       "      <td>@nationwideclass no, it's not behaving at all....</td>\n",
       "    </tr>\n",
       "    <tr>\n",
       "      <th>...</th>\n",
       "      <td>...</td>\n",
       "      <td>...</td>\n",
       "    </tr>\n",
       "    <tr>\n",
       "      <th>1599995</th>\n",
       "      <td>4</td>\n",
       "      <td>Just woke up. Having no school is the best fee...</td>\n",
       "    </tr>\n",
       "    <tr>\n",
       "      <th>1599996</th>\n",
       "      <td>4</td>\n",
       "      <td>TheWDB.com - Very cool to hear old Walt interv...</td>\n",
       "    </tr>\n",
       "    <tr>\n",
       "      <th>1599997</th>\n",
       "      <td>4</td>\n",
       "      <td>Are you ready for your MoJo Makeover? Ask me f...</td>\n",
       "    </tr>\n",
       "    <tr>\n",
       "      <th>1599998</th>\n",
       "      <td>4</td>\n",
       "      <td>Happy 38th Birthday to my boo of alll time!!! ...</td>\n",
       "    </tr>\n",
       "    <tr>\n",
       "      <th>1599999</th>\n",
       "      <td>4</td>\n",
       "      <td>happy #charitytuesday @theNSPCC @SparksCharity...</td>\n",
       "    </tr>\n",
       "  </tbody>\n",
       "</table>\n",
       "<p>1600000 rows × 2 columns</p>\n",
       "</div>"
      ],
      "text/plain": [
       "         target                                               text\n",
       "0             0  @switchfoot http://twitpic.com/2y1zl - Awww, t...\n",
       "1             0  is upset that he can't update his Facebook by ...\n",
       "2             0  @Kenichan I dived many times for the ball. Man...\n",
       "3             0    my whole body feels itchy and like its on fire \n",
       "4             0  @nationwideclass no, it's not behaving at all....\n",
       "...         ...                                                ...\n",
       "1599995       4  Just woke up. Having no school is the best fee...\n",
       "1599996       4  TheWDB.com - Very cool to hear old Walt interv...\n",
       "1599997       4  Are you ready for your MoJo Makeover? Ask me f...\n",
       "1599998       4  Happy 38th Birthday to my boo of alll time!!! ...\n",
       "1599999       4  happy #charitytuesday @theNSPCC @SparksCharity...\n",
       "\n",
       "[1600000 rows x 2 columns]"
      ]
     },
     "execution_count": 4,
     "metadata": {},
     "output_type": "execute_result"
    }
   ],
   "source": [
    "final_large_df = df.drop(['ids', 'date', 'flag', 'user'], axis=1) # drop cols that aren't useful for our model\n",
    "final_large_df"
   ]
  },
  {
   "cell_type": "code",
   "execution_count": 5,
   "metadata": {},
   "outputs": [
    {
     "name": "stdout",
     "output_type": "stream",
     "text": [
      "Number of Negative Sentiment Tweets: 800000\n",
      "Number of Neutral Sentiment Tweets: 0\n",
      "Number of Positive Sentiment Tweets: 800000\n"
     ]
    }
   ],
   "source": [
    "print('Number of Negative Sentiment Tweets:', len(final_large_df[final_large_df['target'] == 0]))\n",
    "print('Number of Neutral Sentiment Tweets:', len(final_large_df[final_large_df['target'] == 2]))\n",
    "print('Number of Positive Sentiment Tweets:', len(final_large_df[final_large_df['target'] == 4]))"
   ]
  },
  {
   "cell_type": "markdown",
   "metadata": {},
   "source": [
    "### Notice no neutral sentiment data and way too much data!"
   ]
  },
  {
   "cell_type": "code",
   "execution_count": 6,
   "metadata": {},
   "outputs": [],
   "source": [
    "final_large_df.target = final_large_df.target / 4 # convert the target column to 0 and 1 labels where 1 is positive"
   ]
  },
  {
   "cell_type": "code",
   "execution_count": 7,
   "metadata": {},
   "outputs": [
    {
     "data": {
      "text/html": [
       "<div>\n",
       "<style scoped>\n",
       "    .dataframe tbody tr th:only-of-type {\n",
       "        vertical-align: middle;\n",
       "    }\n",
       "\n",
       "    .dataframe tbody tr th {\n",
       "        vertical-align: top;\n",
       "    }\n",
       "\n",
       "    .dataframe thead th {\n",
       "        text-align: right;\n",
       "    }\n",
       "</style>\n",
       "<table border=\"1\" class=\"dataframe\">\n",
       "  <thead>\n",
       "    <tr style=\"text-align: right;\">\n",
       "      <th></th>\n",
       "      <th>target</th>\n",
       "      <th>text</th>\n",
       "    </tr>\n",
       "  </thead>\n",
       "  <tbody>\n",
       "    <tr>\n",
       "      <th>0</th>\n",
       "      <td>0.0</td>\n",
       "      <td>@switchfoot http://twitpic.com/2y1zl - Awww, t...</td>\n",
       "    </tr>\n",
       "    <tr>\n",
       "      <th>1</th>\n",
       "      <td>0.0</td>\n",
       "      <td>is upset that he can't update his Facebook by ...</td>\n",
       "    </tr>\n",
       "    <tr>\n",
       "      <th>2</th>\n",
       "      <td>0.0</td>\n",
       "      <td>@Kenichan I dived many times for the ball. Man...</td>\n",
       "    </tr>\n",
       "    <tr>\n",
       "      <th>3</th>\n",
       "      <td>0.0</td>\n",
       "      <td>my whole body feels itchy and like its on fire</td>\n",
       "    </tr>\n",
       "    <tr>\n",
       "      <th>4</th>\n",
       "      <td>0.0</td>\n",
       "      <td>@nationwideclass no, it's not behaving at all....</td>\n",
       "    </tr>\n",
       "    <tr>\n",
       "      <th>...</th>\n",
       "      <td>...</td>\n",
       "      <td>...</td>\n",
       "    </tr>\n",
       "    <tr>\n",
       "      <th>1599995</th>\n",
       "      <td>1.0</td>\n",
       "      <td>Just woke up. Having no school is the best fee...</td>\n",
       "    </tr>\n",
       "    <tr>\n",
       "      <th>1599996</th>\n",
       "      <td>1.0</td>\n",
       "      <td>TheWDB.com - Very cool to hear old Walt interv...</td>\n",
       "    </tr>\n",
       "    <tr>\n",
       "      <th>1599997</th>\n",
       "      <td>1.0</td>\n",
       "      <td>Are you ready for your MoJo Makeover? Ask me f...</td>\n",
       "    </tr>\n",
       "    <tr>\n",
       "      <th>1599998</th>\n",
       "      <td>1.0</td>\n",
       "      <td>Happy 38th Birthday to my boo of alll time!!! ...</td>\n",
       "    </tr>\n",
       "    <tr>\n",
       "      <th>1599999</th>\n",
       "      <td>1.0</td>\n",
       "      <td>happy #charitytuesday @theNSPCC @SparksCharity...</td>\n",
       "    </tr>\n",
       "  </tbody>\n",
       "</table>\n",
       "<p>1600000 rows × 2 columns</p>\n",
       "</div>"
      ],
      "text/plain": [
       "         target                                               text\n",
       "0           0.0  @switchfoot http://twitpic.com/2y1zl - Awww, t...\n",
       "1           0.0  is upset that he can't update his Facebook by ...\n",
       "2           0.0  @Kenichan I dived many times for the ball. Man...\n",
       "3           0.0    my whole body feels itchy and like its on fire \n",
       "4           0.0  @nationwideclass no, it's not behaving at all....\n",
       "...         ...                                                ...\n",
       "1599995     1.0  Just woke up. Having no school is the best fee...\n",
       "1599996     1.0  TheWDB.com - Very cool to hear old Walt interv...\n",
       "1599997     1.0  Are you ready for your MoJo Makeover? Ask me f...\n",
       "1599998     1.0  Happy 38th Birthday to my boo of alll time!!! ...\n",
       "1599999     1.0  happy #charitytuesday @theNSPCC @SparksCharity...\n",
       "\n",
       "[1600000 rows x 2 columns]"
      ]
     },
     "execution_count": 7,
     "metadata": {},
     "output_type": "execute_result"
    }
   ],
   "source": [
    "final_large_df"
   ]
  },
  {
   "cell_type": "code",
   "execution_count": 8,
   "metadata": {},
   "outputs": [],
   "source": [
    "final_df = final_large_df.sample(200000)\n",
    "del final_large_df, df"
   ]
  },
  {
   "cell_type": "code",
   "execution_count": 9,
   "metadata": {},
   "outputs": [
    {
     "data": {
      "text/html": [
       "<div>\n",
       "<style scoped>\n",
       "    .dataframe tbody tr th:only-of-type {\n",
       "        vertical-align: middle;\n",
       "    }\n",
       "\n",
       "    .dataframe tbody tr th {\n",
       "        vertical-align: top;\n",
       "    }\n",
       "\n",
       "    .dataframe thead th {\n",
       "        text-align: right;\n",
       "    }\n",
       "</style>\n",
       "<table border=\"1\" class=\"dataframe\">\n",
       "  <thead>\n",
       "    <tr style=\"text-align: right;\">\n",
       "      <th></th>\n",
       "      <th>target</th>\n",
       "      <th>text</th>\n",
       "    </tr>\n",
       "  </thead>\n",
       "  <tbody>\n",
       "    <tr>\n",
       "      <th>240896</th>\n",
       "      <td>0.0</td>\n",
       "      <td>Too cold to get in the pool today.    But at l...</td>\n",
       "    </tr>\n",
       "    <tr>\n",
       "      <th>934807</th>\n",
       "      <td>1.0</td>\n",
       "      <td>@dangercharlie hey dude, what 5.1 speaker mode...</td>\n",
       "    </tr>\n",
       "    <tr>\n",
       "      <th>683004</th>\n",
       "      <td>0.0</td>\n",
       "      <td>I miss my guitar</td>\n",
       "    </tr>\n",
       "    <tr>\n",
       "      <th>1560026</th>\n",
       "      <td>1.0</td>\n",
       "      <td>@ThatGirlMacey darling I miss you!!! tell kenz...</td>\n",
       "    </tr>\n",
       "    <tr>\n",
       "      <th>190525</th>\n",
       "      <td>0.0</td>\n",
       "      <td>@cherrytreerec rawr!! please stop leaving Geor...</td>\n",
       "    </tr>\n",
       "    <tr>\n",
       "      <th>...</th>\n",
       "      <td>...</td>\n",
       "      <td>...</td>\n",
       "    </tr>\n",
       "    <tr>\n",
       "      <th>1242282</th>\n",
       "      <td>1.0</td>\n",
       "      <td>I drove to school. And apparently I still need...</td>\n",
       "    </tr>\n",
       "    <tr>\n",
       "      <th>1475603</th>\n",
       "      <td>1.0</td>\n",
       "      <td>Yay new phone today!</td>\n",
       "    </tr>\n",
       "    <tr>\n",
       "      <th>268434</th>\n",
       "      <td>0.0</td>\n",
       "      <td>I wish I were better at creating visually appe...</td>\n",
       "    </tr>\n",
       "    <tr>\n",
       "      <th>1009786</th>\n",
       "      <td>1.0</td>\n",
       "      <td>@LittleYellowJen Hey Jenn,How are You?What Yaa...</td>\n",
       "    </tr>\n",
       "    <tr>\n",
       "      <th>1350308</th>\n",
       "      <td>1.0</td>\n",
       "      <td>@matt_squire hey Matt please help me in making...</td>\n",
       "    </tr>\n",
       "  </tbody>\n",
       "</table>\n",
       "<p>200000 rows × 2 columns</p>\n",
       "</div>"
      ],
      "text/plain": [
       "         target                                               text\n",
       "240896      0.0  Too cold to get in the pool today.    But at l...\n",
       "934807      1.0  @dangercharlie hey dude, what 5.1 speaker mode...\n",
       "683004      0.0                                  I miss my guitar \n",
       "1560026     1.0  @ThatGirlMacey darling I miss you!!! tell kenz...\n",
       "190525      0.0  @cherrytreerec rawr!! please stop leaving Geor...\n",
       "...         ...                                                ...\n",
       "1242282     1.0  I drove to school. And apparently I still need...\n",
       "1475603     1.0                              Yay new phone today! \n",
       "268434      0.0  I wish I were better at creating visually appe...\n",
       "1009786     1.0  @LittleYellowJen Hey Jenn,How are You?What Yaa...\n",
       "1350308     1.0  @matt_squire hey Matt please help me in making...\n",
       "\n",
       "[200000 rows x 2 columns]"
      ]
     },
     "execution_count": 9,
     "metadata": {},
     "output_type": "execute_result"
    }
   ],
   "source": [
    "final_df"
   ]
  },
  {
   "cell_type": "markdown",
   "metadata": {},
   "source": [
    "### Split into Training and Test Splits for Model Evaluation"
   ]
  },
  {
   "cell_type": "code",
   "execution_count": 10,
   "metadata": {},
   "outputs": [],
   "source": [
    "train_df, test_df = train_test_split(final_df, test_size=0.20)"
   ]
  },
  {
   "cell_type": "code",
   "execution_count": 11,
   "metadata": {},
   "outputs": [
    {
     "name": "stdout",
     "output_type": "stream",
     "text": [
      "Training Set Stats:\n",
      "Size of Training Set: 160000\n",
      "Number of Negative Sentiment Tweets: 79975\n",
      "Number of Positive Sentiment Tweets: 80025\n"
     ]
    }
   ],
   "source": [
    "print('Training Set Stats:')\n",
    "print('Size of Training Set:', len(train_df))\n",
    "print('Number of Negative Sentiment Tweets:', len(train_df[train_df['target'] == 0]))\n",
    "print('Number of Positive Sentiment Tweets:', len(train_df[train_df['target'] == 1]))"
   ]
  },
  {
   "cell_type": "code",
   "execution_count": 12,
   "metadata": {},
   "outputs": [
    {
     "name": "stdout",
     "output_type": "stream",
     "text": [
      "Test Set Stats:\n",
      "Size of Test Set: 40000\n",
      "Number of Negative Sentiment Tweets: 19976\n",
      "Number of Positive Sentiment Tweets: 20024\n"
     ]
    }
   ],
   "source": [
    "print('Test Set Stats:')\n",
    "print('Size of Test Set:', len(test_df))\n",
    "print('Number of Negative Sentiment Tweets:', len(test_df[test_df['target'] == 0]))\n",
    "print('Number of Positive Sentiment Tweets:', len(test_df[test_df['target'] == 1]))"
   ]
  },
  {
   "cell_type": "markdown",
   "metadata": {},
   "source": [
    "# Count-Vectorizer Model "
   ]
  },
  {
   "cell_type": "code",
   "execution_count": 13,
   "metadata": {},
   "outputs": [],
   "source": [
    "count_vectorizer = CountVectorizer(stop_words='english', ngram_range=(1,3), max_features=100000)\n",
    "X_train = count_vectorizer.fit_transform([entry['text'] for i, entry in train_df.iterrows()])\n",
    "Y_train = np.array([int(entry['target']) for i, entry in train_df.iterrows()])\n",
    "\n",
    "X_test = count_vectorizer.transform([entry['text'] for i, entry in test_df.iterrows()])\n",
    "Y_test = np.array([int(entry['target']) for i, entry in test_df.iterrows()])"
   ]
  },
  {
   "cell_type": "code",
   "execution_count": 14,
   "metadata": {},
   "outputs": [
    {
     "data": {
      "text/plain": [
       "LogisticRegression(C=0.1, max_iter=15000)"
      ]
     },
     "execution_count": 14,
     "metadata": {},
     "output_type": "execute_result"
    }
   ],
   "source": [
    "count_vect_model = LogisticRegression(C = 0.1, max_iter=15000)\n",
    "count_vect_model.fit(X_train, Y_train)"
   ]
  },
  {
   "cell_type": "code",
   "execution_count": 15,
   "metadata": {},
   "outputs": [
    {
     "name": "stdout",
     "output_type": "stream",
     "text": [
      "Training Accuracy: 0.808075\n",
      "Testing Accuracy: 0.7655\n"
     ]
    }
   ],
   "source": [
    "print(f'Training Accuracy: {np.mean(count_vect_model.predict(X_train) == Y_train)}')\n",
    "print(f'Testing Accuracy: {np.mean(count_vect_model.predict(X_test) == Y_test)}')"
   ]
  },
  {
   "cell_type": "code",
   "execution_count": 16,
   "metadata": {},
   "outputs": [],
   "source": [
    "# Write everything to files\n",
    "pickle.dump(count_vectorizer, open('count_vectorizer.pickle', 'wb'))\n",
    "pickle.dump(count_vect_model, open('count_vect_model.pickle', 'wb'))\n",
    "scipy.sparse.save_npz('count_vect_X_train.npz', X_train)\n",
    "np.save('count_vect_Y_train.npy', Y_train)\n",
    "scipy.sparse.save_npz('count_vect_X_test.npz', X_test)\n",
    "np.save('count_vect_Y_test.npy', Y_test)"
   ]
  },
  {
   "cell_type": "code",
   "execution_count": 17,
   "metadata": {},
   "outputs": [
    {
     "name": "stdout",
     "output_type": "stream",
     "text": [
      "Pickled Training Accuracy: 0.808075\n",
      "Pickled Testing Accuracy: 0.7655\n"
     ]
    }
   ],
   "source": [
    "# Test that pickling is working\n",
    "read_vect = pickle.load(open('count_vectorizer.pickle', 'rb'))\n",
    "read_model = pickle.load(open('count_vect_model.pickle', 'rb'))\n",
    "\n",
    "read_X_train = scipy.sparse.load_npz('count_vect_X_train.npz')\n",
    "read_Y_train = np.load('count_vect_Y_train.npy')\n",
    "read_X_test = scipy.sparse.load_npz('count_vect_X_test.npz')\n",
    "read_Y_test = np.load('count_vect_Y_test.npy')\n",
    "print(f'Pickled Training Accuracy: {np.mean(read_model.predict(read_X_train) == read_Y_train)}')\n",
    "print(f'Pickled Testing Accuracy: {np.mean(read_model.predict(read_X_test) == read_Y_test)}')"
   ]
  },
  {
   "cell_type": "code",
   "execution_count": 18,
   "metadata": {},
   "outputs": [
    {
     "data": {
      "text/plain": [
       "0.808075"
      ]
     },
     "execution_count": 18,
     "metadata": {},
     "output_type": "execute_result"
    }
   ],
   "source": [
    "# Check probabilities work as expected\n",
    "np.mean(np.argmax(read_model.predict_proba(read_X_train), axis=1) == read_Y_train)"
   ]
  },
  {
   "cell_type": "markdown",
   "metadata": {},
   "source": [
    "# Tf-Idf Model"
   ]
  },
  {
   "cell_type": "code",
   "execution_count": 19,
   "metadata": {},
   "outputs": [],
   "source": [
    "tfidf_vectorizer = TfidfVectorizer(stop_words='english', ngram_range=(1,3), max_features=100000)\n",
    "X_train = tfidf_vectorizer.fit_transform([entry['text'] for i, entry in train_df.iterrows()])\n",
    "Y_train = np.array([int(entry['target']) for i, entry in train_df.iterrows()])\n",
    "\n",
    "X_test = tfidf_vectorizer.transform([entry['text'] for i, entry in test_df.iterrows()])\n",
    "Y_test = np.array([int(entry['target']) for i, entry in test_df.iterrows()])"
   ]
  },
  {
   "cell_type": "code",
   "execution_count": 20,
   "metadata": {},
   "outputs": [
    {
     "data": {
      "text/plain": [
       "LogisticRegression(C=1.5, max_iter=15000)"
      ]
     },
     "execution_count": 20,
     "metadata": {},
     "output_type": "execute_result"
    }
   ],
   "source": [
    "tfidf_model = LogisticRegression(C = 1.5, max_iter=15000)\n",
    "tfidf_model.fit(X_train, Y_train)"
   ]
  },
  {
   "cell_type": "code",
   "execution_count": 21,
   "metadata": {},
   "outputs": [
    {
     "name": "stdout",
     "output_type": "stream",
     "text": [
      "Training Accuracy: 0.84689375\n",
      "Testing Accuracy: 0.767125\n"
     ]
    }
   ],
   "source": [
    "print(f'Training Accuracy: {np.mean(tfidf_model.predict(X_train) == Y_train)}')\n",
    "print(f'Testing Accuracy: {np.mean(tfidf_model.predict(X_test) == Y_test)}')"
   ]
  },
  {
   "cell_type": "code",
   "execution_count": 22,
   "metadata": {},
   "outputs": [],
   "source": [
    "pickle.dump(tfidf_vectorizer, open('tfidf_vect.pickle', 'wb'))\n",
    "pickle.dump(tfidf_model, open('tfidf_model.pickle', 'wb'))\n",
    "scipy.sparse.save_npz('tfidf_vect_X_train.npz', X_train)\n",
    "np.save('tfidf_vect_Y_train.npy', Y_train)\n",
    "scipy.sparse.save_npz('tfidf_vect_X_test.npz', X_test)\n",
    "np.save('tfidf_vect_Y_test.npy', Y_test)"
   ]
  },
  {
   "cell_type": "code",
   "execution_count": 23,
   "metadata": {},
   "outputs": [
    {
     "name": "stdout",
     "output_type": "stream",
     "text": [
      "Pickled Training Accuracy: 0.84689375\n",
      "Pickled Testing Accuracy: 0.767125\n"
     ]
    }
   ],
   "source": [
    "# Test that pickling is working\n",
    "read_vect = pickle.load(open('tfidf_vect.pickle', 'rb'))\n",
    "read_model = pickle.load(open('tfidf_model.pickle', 'rb'))\n",
    "\n",
    "read_X_train = scipy.sparse.load_npz('tfidf_vect_X_train.npz')\n",
    "read_Y_train = np.load('tfidf_vect_Y_train.npy')\n",
    "read_X_test = scipy.sparse.load_npz('tfidf_vect_X_test.npz')\n",
    "read_Y_test = np.load('tfidf_vect_Y_test.npy')\n",
    "print(f'Pickled Training Accuracy: {np.mean(read_model.predict(read_X_train) == read_Y_train)}')\n",
    "print(f'Pickled Testing Accuracy: {np.mean(read_model.predict(read_X_test) == read_Y_test)}')"
   ]
  },
  {
   "cell_type": "markdown",
   "metadata": {},
   "source": [
    "# Model and Vectorizer Learned Information"
   ]
  },
  {
   "cell_type": "code",
   "execution_count": 24,
   "metadata": {},
   "outputs": [],
   "source": [
    "def getExtremeWords(vectorizer, model):\n",
    "    feature_names = np.array(read_vect.get_feature_names())\n",
    "    order = np.argsort(read_model.coef_)\n",
    "    \n",
    "    print(\"Top 50 Most Negative Words/Phrases in Order:\")\n",
    "    print(feature_names[order[0, :50]])\n",
    "    print()\n",
    "    print(\"Top 50 Most Positive Words/Phrases in Order:\")\n",
    "    print(feature_names[order[0, -50:]][::-1])\n",
    "    \n",
    "    return feature_names[order[0, :50]], feature_names[order[0, -50:]][::-1] # negative, positive    \n",
    "\n",
    "def predict(tweets, vectorizer, model):\n",
    "    tweet_vectors = vectorizer.transform(tweets)\n",
    "    preds = model.predict_proba(tweet_vectors)\n",
    "    returnList = []\n",
    "    for i, tweet in enumerate(tweets):\n",
    "        print(f'Tweet: {tweet}')\n",
    "        pred = \"Negative\" if np.argmax(preds[i]) == 0 else \"Positive\"\n",
    "        print(f'Prediction: {pred}')\n",
    "        print(f'Confidence of {pred} Prediction (0 to 1): {np.max(preds[i])}')\n",
    "        print()\n",
    "        returnList.append((tweet, pred, np.max(preds[i])))\n",
    "    return returnList\n",
    "\n",
    "def analyzeTweets(tweets, vectorizer, model):\n",
    "    returnList = []\n",
    "    for tweet in tweets:\n",
    "        tweetList = []\n",
    "        for word in tweet.split():\n",
    "            word = word.lower()\n",
    "            if word in vectorizer.get_feature_names():\n",
    "                index = vectorizer.get_feature_names().index(word)\n",
    "                print(f'Word: {word}, Connotation: {model.coef_[0, index]:.3f}')\n",
    "                tweetList.append((word, model.coef_[0, index]))\n",
    "            else: # not a top feature\n",
    "                print(f'Word: {word}, Connotation: {0:.3f}')\n",
    "                tweetList.append((word, 0))\n",
    "        returnList.append(tweetList)\n",
    "        print()\n",
    "    return returnList"
   ]
  },
  {
   "cell_type": "code",
   "execution_count": 34,
   "metadata": {},
   "outputs": [
    {
     "name": "stdout",
     "output_type": "stream",
     "text": [
      "Top 50 Most Negative Words/Phrases in Order:\n",
      "['sad' 'poor' 'miss' 'sick' 'wish' 'missing' 'hurts' 'sucks' 'sadly' 'ugh'\n",
      " 'headache' 'hate' 'unfortunately' 'lost' 'sorry' 'broke' 'upset' 'died'\n",
      " 'gutted' 'shame' 'didn' 'bummed' 'rip' 'horrible' 'stuck' 'depressed'\n",
      " 'lonely' 'disappointed' 'didnt' 'bummer' 'bad' 'broken' 'fail' 'fml'\n",
      " 'hurt' 'damn' 'stupid' 'worst' 'cancelled' 'depressing' 'burnt' 'anymore'\n",
      " 'goodbye' 'missed' 'won let' 'sigh' 'cold' 'ruined' 'awful' 'argh']\n",
      "\n",
      "Top 50 Most Positive Words/Phrases in Order:\n",
      "['thank' 'wish luck' 'glad' 'thanks' 'welcome' 'congrats' 'yay' 'proud'\n",
      " 'hello' 'great' 'excited' 'amazing' 'enjoy' 'yummy' 'awesome' 'hehehe'\n",
      " 'love' 'rocks' 'congratulations' 'smile' 'don forget' 'pleasure'\n",
      " 'followfriday' 'happy' 'good' 'hey' 'wasn bad' 'sweet' 'hi' 'www' 'nice'\n",
      " 'lovely' 'hah' 'hehe' 'enjoying' 'haha' 'cute' 'beautiful' 'wonderful'\n",
      " 'yum' 'best' 'fantastic' 'thx' 'woo' 'feels good' 'cheers' 'didn know'\n",
      " 'blessed' 'cool' 'did miss']\n"
     ]
    },
    {
     "data": {
      "text/plain": [
       "(array(['sad', 'poor', 'miss', 'sick', 'wish', 'missing', 'hurts', 'sucks',\n",
       "        'sadly', 'ugh', 'headache', 'hate', 'unfortunately', 'lost',\n",
       "        'sorry', 'broke', 'upset', 'died', 'gutted', 'shame', 'didn',\n",
       "        'bummed', 'rip', 'horrible', 'stuck', 'depressed', 'lonely',\n",
       "        'disappointed', 'didnt', 'bummer', 'bad', 'broken', 'fail', 'fml',\n",
       "        'hurt', 'damn', 'stupid', 'worst', 'cancelled', 'depressing',\n",
       "        'burnt', 'anymore', 'goodbye', 'missed', 'won let', 'sigh', 'cold',\n",
       "        'ruined', 'awful', 'argh'], dtype='<U50'),\n",
       " array(['thank', 'wish luck', 'glad', 'thanks', 'welcome', 'congrats',\n",
       "        'yay', 'proud', 'hello', 'great', 'excited', 'amazing', 'enjoy',\n",
       "        'yummy', 'awesome', 'hehehe', 'love', 'rocks', 'congratulations',\n",
       "        'smile', 'don forget', 'pleasure', 'followfriday', 'happy', 'good',\n",
       "        'hey', 'wasn bad', 'sweet', 'hi', 'www', 'nice', 'lovely', 'hah',\n",
       "        'hehe', 'enjoying', 'haha', 'cute', 'beautiful', 'wonderful',\n",
       "        'yum', 'best', 'fantastic', 'thx', 'woo', 'feels good', 'cheers',\n",
       "        'didn know', 'blessed', 'cool', 'did miss'], dtype='<U50'))"
      ]
     },
     "execution_count": 34,
     "metadata": {},
     "output_type": "execute_result"
    }
   ],
   "source": [
    "# read_vect = pickle.load(open('count_vectorizer.pickle', 'rb'))\n",
    "# read_model = pickle.load(open('count_vect_model.pickle', 'rb'))\n",
    "read_vect = pickle.load(open('tfidf_vect.pickle', 'rb'))\n",
    "read_model = pickle.load(open('tfidf_model.pickle', 'rb'))\n",
    "\n",
    "getExtremeWords(vectorizer=read_vect, model=read_model)"
   ]
  },
  {
   "cell_type": "code",
   "execution_count": 35,
   "metadata": {},
   "outputs": [
    {
     "name": "stdout",
     "output_type": "stream",
     "text": [
      "Tweet: This bag of chips is disgusting yuck\n",
      "Prediction: Negative\n",
      "Confidence of Negative Prediction (0 to 1): 0.9167198550280461\n",
      "\n",
      "Tweet: i really enjoy riding my bike\n",
      "Prediction: Positive\n",
      "Confidence of Positive Prediction (0 to 1): 0.7207037819787985\n",
      "\n",
      "Tweet: it will be 70 degrees tomorrow\n",
      "Prediction: Negative\n",
      "Confidence of Negative Prediction (0 to 1): 0.6973521159294283\n",
      "\n"
     ]
    },
    {
     "data": {
      "text/plain": [
       "[('This bag of chips is disgusting yuck', 'Negative', 0.9167198550280461),\n",
       " ('i really enjoy riding my bike', 'Positive', 0.7207037819787985),\n",
       " ('it will be 70 degrees tomorrow', 'Negative', 0.6973521159294283)]"
      ]
     },
     "execution_count": 35,
     "metadata": {},
     "output_type": "execute_result"
    }
   ],
   "source": [
    "tweets = ['This bag of chips is disgusting yuck', 'i really enjoy riding my bike', 'it will be 70 degrees tomorrow']\n",
    "predict(tweets, vectorizer=read_vect, model=read_model)"
   ]
  },
  {
   "cell_type": "code",
   "execution_count": 36,
   "metadata": {},
   "outputs": [
    {
     "name": "stdout",
     "output_type": "stream",
     "text": [
      "Word: this, Connotation: 0.000\n",
      "Word: bag, Connotation: -0.768\n",
      "Word: of, Connotation: 0.000\n",
      "Word: chips, Connotation: -0.434\n",
      "Word: is, Connotation: 0.000\n",
      "Word: disgusting, Connotation: -2.106\n",
      "Word: yuck, Connotation: -1.903\n",
      "\n",
      "Word: i, Connotation: 0.000\n",
      "Word: really, Connotation: -1.322\n",
      "Word: enjoy, Connotation: 3.873\n",
      "Word: riding, Connotation: 0.885\n",
      "Word: my, Connotation: 0.000\n",
      "Word: bike, Connotation: -0.749\n",
      "\n",
      "Word: it, Connotation: 0.000\n",
      "Word: will, Connotation: 0.000\n",
      "Word: be, Connotation: 0.000\n",
      "Word: 70, Connotation: -0.322\n",
      "Word: degrees, Connotation: -1.119\n",
      "Word: tomorrow, Connotation: -0.504\n",
      "\n"
     ]
    },
    {
     "data": {
      "text/plain": [
       "[[('this', 0),\n",
       "  ('bag', -0.7676308900636397),\n",
       "  ('of', 0),\n",
       "  ('chips', -0.4340794548860078),\n",
       "  ('is', 0),\n",
       "  ('disgusting', -2.1064971576633558),\n",
       "  ('yuck', -1.9027161148830867)],\n",
       " [('i', 0),\n",
       "  ('really', -1.322058977583383),\n",
       "  ('enjoy', 3.8730869175121194),\n",
       "  ('riding', 0.8852578225784922),\n",
       "  ('my', 0),\n",
       "  ('bike', -0.7492243265156054)],\n",
       " [('it', 0),\n",
       "  ('will', 0),\n",
       "  ('be', 0),\n",
       "  ('70', -0.3218051955543227),\n",
       "  ('degrees', -1.1191002712017417),\n",
       "  ('tomorrow', -0.5038635097220439)]]"
      ]
     },
     "execution_count": 36,
     "metadata": {},
     "output_type": "execute_result"
    }
   ],
   "source": [
    "analyzeTweets(tweets, vectorizer=read_vect, model=read_model)"
   ]
  },
  {
   "cell_type": "markdown",
   "metadata": {},
   "source": [
    "# Word2Vec Model \n",
    "### Generate similarity scores of words for visualization\n",
    "Referenced https://stackabuse.com/implementing-word2vec-with-gensim-library-in-python/ and https://radimrehurek.com/gensim/auto_examples/core/run_similarity_queries.html#sphx-glr-auto-examples-core-run-similarity-queries-py"
   ]
  },
  {
   "cell_type": "code",
   "execution_count": 64,
   "metadata": {},
   "outputs": [],
   "source": [
    "from gensim.models import Word2Vec\n",
    "import nltk"
   ]
  },
  {
   "cell_type": "code",
   "execution_count": 44,
   "metadata": {},
   "outputs": [],
   "source": [
    "tweets = [entry['text'].lower() for i, entry in train_df.iterrows()]\n",
    "words = [nltk.word_tokenize(tweet) for tweet in tweets]"
   ]
  },
  {
   "cell_type": "code",
   "execution_count": 69,
   "metadata": {},
   "outputs": [],
   "source": [
    "w2v = Word2Vec(words, min_count=5)\n",
    "w2v.save('word2vec.model') # write to file"
   ]
  },
  {
   "cell_type": "code",
   "execution_count": 75,
   "metadata": {},
   "outputs": [],
   "source": [
    "def getMostSimilarWords(tweets, w2v_model):\n",
    "    returnList = []\n",
    "    for tweet in tweets:\n",
    "        tweetList = []\n",
    "        for word in nltk.word_tokenize(tweet.lower()):\n",
    "            if word in w2v_model.wv.vocab:\n",
    "                tweetList.append((word, w2v_model.wv.most_similar(word)))\n",
    "            else:\n",
    "                tweetList.append((word, []))\n",
    "        returnList.append(tweetList)\n",
    "    return returnList"
   ]
  },
  {
   "cell_type": "code",
   "execution_count": 76,
   "metadata": {},
   "outputs": [
    {
     "data": {
      "text/plain": [
       "[[('this',\n",
       "   [('which', 0.5470501184463501),\n",
       "    ('every', 0.5380240678787231),\n",
       "    ('that', 0.5203024744987488),\n",
       "    ('next', 0.5154441595077515),\n",
       "    ('the', 0.4391019642353058),\n",
       "    ('another', 0.43191125988960266),\n",
       "    ('it', 0.41835126280784607),\n",
       "    ('whole', 0.41297590732574463),\n",
       "    ('freshmen', 0.3884333670139313),\n",
       "    ('mondays', 0.3726899027824402)]),\n",
       "  ('bag',\n",
       "   [('hand', 0.7896512746810913),\n",
       "    ('glass', 0.7822542190551758),\n",
       "    ('box', 0.7811943292617798),\n",
       "    ('bottle', 0.771240234375),\n",
       "    ('pair', 0.7673460245132446),\n",
       "    ('copy', 0.7571958303451538),\n",
       "    ('skin', 0.7563157081604004),\n",
       "    ('machine', 0.7542217373847961),\n",
       "    ('girlfriend', 0.7518826723098755),\n",
       "    ('glasses', 0.7501490712165833)]),\n",
       "  ('of',\n",
       "   [('other', 0.46072572469711304),\n",
       "    ('small', 0.4379080533981323),\n",
       "    ('under', 0.43616747856140137),\n",
       "    ('different', 0.4270317554473877),\n",
       "    ('fa', 0.422796368598938),\n",
       "    ('tends', 0.39759600162506104),\n",
       "    ('entire', 0.3906853497028351),\n",
       "    ('parking', 0.3826518654823303),\n",
       "    ('against', 0.3773459196090698),\n",
       "    ('behind', 0.37436145544052124)]),\n",
       "  ('chips',\n",
       "   [('sauce', 0.9024432897567749),\n",
       "    ('beans', 0.895279586315155),\n",
       "    ('rice', 0.8883534669876099),\n",
       "    ('homemade', 0.8859550356864929),\n",
       "    ('bacon', 0.8850288391113281),\n",
       "    ('sausage', 0.8838168382644653),\n",
       "    ('corn', 0.8770788311958313),\n",
       "    ('fries', 0.8729813098907471),\n",
       "    ('eggs', 0.8700343370437622),\n",
       "    ('strawberry', 0.8698853254318237)]),\n",
       "  ('is',\n",
       "   [('isnt', 0.659058690071106),\n",
       "    (\"'s\", 0.6443182229995728),\n",
       "    ('gets', 0.5903810262680054),\n",
       "    ('keeps', 0.5707875490188599),\n",
       "    ('was', 0.5692695379257202),\n",
       "    ('works', 0.5599523186683655),\n",
       "    ('goes', 0.5551953315734863),\n",
       "    ('feels', 0.5180164575576782),\n",
       "    ('knows', 0.4782184958457947),\n",
       "    ('happens', 0.4733828902244568)]),\n",
       "  ('disgusting',\n",
       "   [('badass', 0.8418064713478088),\n",
       "    ('grouchy', 0.8361077308654785),\n",
       "    ('unbelievable', 0.8343266248703003),\n",
       "    ('soggy', 0.8310939073562622),\n",
       "    ('leanne0710', 0.8292642831802368),\n",
       "    ('jelous', 0.8285032510757446),\n",
       "    ('jacob', 0.8280563354492188),\n",
       "    ('freaky', 0.8248544931411743),\n",
       "    ('horrid', 0.8241595029830933),\n",
       "    ('giddy', 0.8219877481460571)]),\n",
       "  ('yuck',\n",
       "   [('ughhhh', 0.8395258188247681),\n",
       "    ('waaaaa', 0.8314380645751953),\n",
       "    ('mmmmm', 0.8309372663497925),\n",
       "    ('ugghh', 0.8308776021003723),\n",
       "    ('boooo', 0.8300350308418274),\n",
       "    ('mmmmmm', 0.8243951797485352),\n",
       "    ('grrrrr', 0.8213199377059937),\n",
       "    ('bleh', 0.8212894201278687),\n",
       "    ('uda', 0.821283221244812),\n",
       "    ('urgh', 0.8191346526145935)])],\n",
       " [('i',\n",
       "   [('you', 0.5495135188102722),\n",
       "    ('we', 0.5026550889015198),\n",
       "    ('u', 0.4740790128707886),\n",
       "    ('myself', 0.45394209027290344),\n",
       "    ('him', 0.44631481170654297),\n",
       "    ('it', 0.4443345069885254),\n",
       "    ('them', 0.444332480430603),\n",
       "    ('someone', 0.42897123098373413),\n",
       "    ('they', 0.42694008350372314),\n",
       "    ('really', 0.41930028796195984)]),\n",
       "  ('really',\n",
       "   [('so', 0.6642950773239136),\n",
       "    ('actually', 0.5762996673583984),\n",
       "    ('kinda', 0.5547788739204407),\n",
       "    ('sooo', 0.5055681467056274),\n",
       "    ('seriously', 0.5040538311004639),\n",
       "    ('too', 0.49924349784851074),\n",
       "    ('cause', 0.48882317543029785),\n",
       "    ('very', 0.4875693619251251),\n",
       "    ('soooo', 0.48730212450027466),\n",
       "    ('soo', 0.4788501262664795)]),\n",
       "  ('enjoy',\n",
       "   [('enjoyed', 0.6010485887527466),\n",
       "    ('enjoying', 0.5529976487159729),\n",
       "    ('celebrate', 0.5339791774749756),\n",
       "    ('hows', 0.5323367118835449),\n",
       "    ('appreciate', 0.5143632888793945),\n",
       "    ('bring', 0.5091357231140137),\n",
       "    ('ruin', 0.5029310584068298),\n",
       "    ('spend', 0.5020409822463989),\n",
       "    ('support', 0.4822308421134949),\n",
       "    ('share', 0.48130589723587036)]),\n",
       "  ('riding',\n",
       "   [('picnic', 0.8092983961105347),\n",
       "    ('motorcycle', 0.8052635192871094),\n",
       "    ('tropical', 0.7832903265953064),\n",
       "    ('bonfire', 0.7830067873001099),\n",
       "    ('seminar', 0.7820206880569458),\n",
       "    ('liberty', 0.7814973592758179),\n",
       "    ('garage', 0.7813672423362732),\n",
       "    ('molly', 0.7788405418395996),\n",
       "    ('balcony', 0.7713570594787598),\n",
       "    ('theater', 0.771160364151001)]),\n",
       "  ('my',\n",
       "   [('his', 0.7925655245780945),\n",
       "    ('her', 0.7286635041236877),\n",
       "    ('your', 0.6280525922775269),\n",
       "    ('their', 0.5467482805252075),\n",
       "    ('our', 0.529853105545044),\n",
       "    ('broken', 0.5050407648086548),\n",
       "    ('touch', 0.4826675355434418),\n",
       "    ('ma', 0.48266202211380005),\n",
       "    ('wisdom', 0.47285589575767517),\n",
       "    ('mine', 0.4699375033378601)]),\n",
       "  ('bike',\n",
       "   [('ride', 0.7614628672599792),\n",
       "    ('session', 0.7327741384506226),\n",
       "    ('motorcycle', 0.7259963154792786),\n",
       "    ('repair', 0.7257038950920105),\n",
       "    ('road', 0.7188394069671631),\n",
       "    ('riding', 0.7074043154716492),\n",
       "    ('car', 0.7016843557357788),\n",
       "    ('bus', 0.6990340352058411),\n",
       "    ('mile', 0.6960457563400269),\n",
       "    ('desk', 0.6923110485076904)])],\n",
       " [('it',\n",
       "   [('that', 0.7491979002952576),\n",
       "    ('he', 0.6339783668518066),\n",
       "    ('everything', 0.6241620779037476),\n",
       "    ('mine', 0.6155524253845215),\n",
       "    ('she', 0.595931887626648),\n",
       "    ('which', 0.5570487380027771),\n",
       "    ('something', 0.5405933260917664),\n",
       "    ('there', 0.5137521028518677),\n",
       "    ('actually', 0.4893859624862671),\n",
       "    ('someone', 0.4887668490409851)]),\n",
       "  ('will',\n",
       "   [(\"'ll\", 0.9043096303939819),\n",
       "    ('may', 0.8287935853004456),\n",
       "    ('might', 0.8005561828613281),\n",
       "    ('shall', 0.7554904818534851),\n",
       "    ('should', 0.7425701022148132),\n",
       "    ('must', 0.7295541763305664),\n",
       "    ('can', 0.7205162048339844),\n",
       "    ('ill', 0.7176628112792969),\n",
       "    ('wont', 0.69068443775177),\n",
       "    (\"'d\", 0.6458402872085571)]),\n",
       "  ('be',\n",
       "   [('b', 0.7083565592765808),\n",
       "    ('stay', 0.6825955510139465),\n",
       "    ('happen', 0.6654990911483765),\n",
       "    ('start', 0.6615421772003174),\n",
       "    ('probably', 0.6400696039199829),\n",
       "    ('stop', 0.6288520693778992),\n",
       "    ('stick', 0.5982198715209961),\n",
       "    ('die', 0.5768648386001587),\n",
       "    ('pass', 0.569517970085144),\n",
       "    ('move', 0.568316638469696)]),\n",
       "  ('70',\n",
       "   [('80', 0.8104959726333618),\n",
       "    ('eight', 0.7987865209579468),\n",
       "    ('ncaa', 0.7978743314743042),\n",
       "    ('seven', 0.7950009107589722),\n",
       "    ('65', 0.7911332845687866),\n",
       "    ('90', 0.780827522277832),\n",
       "    ('27', 0.7778635025024414),\n",
       "    ('league', 0.7774122953414917),\n",
       "    ('monsoon', 0.7741639614105225),\n",
       "    ('cest', 0.7736806869506836)]),\n",
       "  ('degrees',\n",
       "   [('degree', 0.7169533967971802),\n",
       "    ('monsoon', 0.7097703814506531),\n",
       "    ('pouring', 0.7090166807174683),\n",
       "    ('80', 0.701723575592041),\n",
       "    ('70', 0.700792670249939),\n",
       "    ('gloomy', 0.6959151029586792),\n",
       "    ('90', 0.6943837404251099),\n",
       "    ('pm', 0.6870354413986206),\n",
       "    (\"o'clock\", 0.682308554649353),\n",
       "    ('rained', 0.6783724427223206)]),\n",
       "  ('tomorrow',\n",
       "   [('later', 0.6698342561721802),\n",
       "    ('tuesday', 0.6382237672805786),\n",
       "    ('thursday', 0.6353632211685181),\n",
       "    ('monday', 0.6126554012298584),\n",
       "    ('wednesday', 0.6074701547622681),\n",
       "    ('2morrow', 0.5982251763343811),\n",
       "    ('tonight', 0.5858003497123718),\n",
       "    ('tmrw', 0.5839264392852783),\n",
       "    ('study', 0.5782750844955444),\n",
       "    ('class', 0.5763795375823975)])]]"
      ]
     },
     "execution_count": 76,
     "metadata": {},
     "output_type": "execute_result"
    }
   ],
   "source": [
    "tweets = ['This bag of chips is disgusting yuck', 'i really enjoy riding my bike', 'it will be 70 degrees tomorrow']\n",
    "getMostSimilarWords(tweets, w2v_model=w2v)"
   ]
  },
  {
   "cell_type": "code",
   "execution_count": 77,
   "metadata": {},
   "outputs": [
    {
     "data": {
      "text/plain": [
       "[[('this',\n",
       "   [('which', 0.5470501184463501),\n",
       "    ('every', 0.5380240678787231),\n",
       "    ('that', 0.5203024744987488),\n",
       "    ('next', 0.5154441595077515),\n",
       "    ('the', 0.4391019642353058),\n",
       "    ('another', 0.43191125988960266),\n",
       "    ('it', 0.41835126280784607),\n",
       "    ('whole', 0.41297590732574463),\n",
       "    ('freshmen', 0.3884333670139313),\n",
       "    ('mondays', 0.3726899027824402)]),\n",
       "  ('bag',\n",
       "   [('hand', 0.7896512746810913),\n",
       "    ('glass', 0.7822542190551758),\n",
       "    ('box', 0.7811943292617798),\n",
       "    ('bottle', 0.771240234375),\n",
       "    ('pair', 0.7673460245132446),\n",
       "    ('copy', 0.7571958303451538),\n",
       "    ('skin', 0.7563157081604004),\n",
       "    ('machine', 0.7542217373847961),\n",
       "    ('girlfriend', 0.7518826723098755),\n",
       "    ('glasses', 0.7501490712165833)]),\n",
       "  ('of',\n",
       "   [('other', 0.46072572469711304),\n",
       "    ('small', 0.4379080533981323),\n",
       "    ('under', 0.43616747856140137),\n",
       "    ('different', 0.4270317554473877),\n",
       "    ('fa', 0.422796368598938),\n",
       "    ('tends', 0.39759600162506104),\n",
       "    ('entire', 0.3906853497028351),\n",
       "    ('parking', 0.3826518654823303),\n",
       "    ('against', 0.3773459196090698),\n",
       "    ('behind', 0.37436145544052124)]),\n",
       "  ('chips',\n",
       "   [('sauce', 0.9024432897567749),\n",
       "    ('beans', 0.895279586315155),\n",
       "    ('rice', 0.8883534669876099),\n",
       "    ('homemade', 0.8859550356864929),\n",
       "    ('bacon', 0.8850288391113281),\n",
       "    ('sausage', 0.8838168382644653),\n",
       "    ('corn', 0.8770788311958313),\n",
       "    ('fries', 0.8729813098907471),\n",
       "    ('eggs', 0.8700343370437622),\n",
       "    ('strawberry', 0.8698853254318237)]),\n",
       "  ('is',\n",
       "   [('isnt', 0.659058690071106),\n",
       "    (\"'s\", 0.6443182229995728),\n",
       "    ('gets', 0.5903810262680054),\n",
       "    ('keeps', 0.5707875490188599),\n",
       "    ('was', 0.5692695379257202),\n",
       "    ('works', 0.5599523186683655),\n",
       "    ('goes', 0.5551953315734863),\n",
       "    ('feels', 0.5180164575576782),\n",
       "    ('knows', 0.4782184958457947),\n",
       "    ('happens', 0.4733828902244568)]),\n",
       "  ('disgusting',\n",
       "   [('badass', 0.8418064713478088),\n",
       "    ('grouchy', 0.8361077308654785),\n",
       "    ('unbelievable', 0.8343266248703003),\n",
       "    ('soggy', 0.8310939073562622),\n",
       "    ('leanne0710', 0.8292642831802368),\n",
       "    ('jelous', 0.8285032510757446),\n",
       "    ('jacob', 0.8280563354492188),\n",
       "    ('freaky', 0.8248544931411743),\n",
       "    ('horrid', 0.8241595029830933),\n",
       "    ('giddy', 0.8219877481460571)]),\n",
       "  ('yuck',\n",
       "   [('ughhhh', 0.8395258188247681),\n",
       "    ('waaaaa', 0.8314380645751953),\n",
       "    ('mmmmm', 0.8309372663497925),\n",
       "    ('ugghh', 0.8308776021003723),\n",
       "    ('boooo', 0.8300350308418274),\n",
       "    ('mmmmmm', 0.8243951797485352),\n",
       "    ('grrrrr', 0.8213199377059937),\n",
       "    ('bleh', 0.8212894201278687),\n",
       "    ('uda', 0.821283221244812),\n",
       "    ('urgh', 0.8191346526145935)])],\n",
       " [('i',\n",
       "   [('you', 0.5495135188102722),\n",
       "    ('we', 0.5026550889015198),\n",
       "    ('u', 0.4740790128707886),\n",
       "    ('myself', 0.45394209027290344),\n",
       "    ('him', 0.44631481170654297),\n",
       "    ('it', 0.4443345069885254),\n",
       "    ('them', 0.444332480430603),\n",
       "    ('someone', 0.42897123098373413),\n",
       "    ('they', 0.42694008350372314),\n",
       "    ('really', 0.41930028796195984)]),\n",
       "  ('really',\n",
       "   [('so', 0.6642950773239136),\n",
       "    ('actually', 0.5762996673583984),\n",
       "    ('kinda', 0.5547788739204407),\n",
       "    ('sooo', 0.5055681467056274),\n",
       "    ('seriously', 0.5040538311004639),\n",
       "    ('too', 0.49924349784851074),\n",
       "    ('cause', 0.48882317543029785),\n",
       "    ('very', 0.4875693619251251),\n",
       "    ('soooo', 0.48730212450027466),\n",
       "    ('soo', 0.4788501262664795)]),\n",
       "  ('enjoy',\n",
       "   [('enjoyed', 0.6010485887527466),\n",
       "    ('enjoying', 0.5529976487159729),\n",
       "    ('celebrate', 0.5339791774749756),\n",
       "    ('hows', 0.5323367118835449),\n",
       "    ('appreciate', 0.5143632888793945),\n",
       "    ('bring', 0.5091357231140137),\n",
       "    ('ruin', 0.5029310584068298),\n",
       "    ('spend', 0.5020409822463989),\n",
       "    ('support', 0.4822308421134949),\n",
       "    ('share', 0.48130589723587036)]),\n",
       "  ('riding',\n",
       "   [('picnic', 0.8092983961105347),\n",
       "    ('motorcycle', 0.8052635192871094),\n",
       "    ('tropical', 0.7832903265953064),\n",
       "    ('bonfire', 0.7830067873001099),\n",
       "    ('seminar', 0.7820206880569458),\n",
       "    ('liberty', 0.7814973592758179),\n",
       "    ('garage', 0.7813672423362732),\n",
       "    ('molly', 0.7788405418395996),\n",
       "    ('balcony', 0.7713570594787598),\n",
       "    ('theater', 0.771160364151001)]),\n",
       "  ('my',\n",
       "   [('his', 0.7925655245780945),\n",
       "    ('her', 0.7286635041236877),\n",
       "    ('your', 0.6280525922775269),\n",
       "    ('their', 0.5467482805252075),\n",
       "    ('our', 0.529853105545044),\n",
       "    ('broken', 0.5050407648086548),\n",
       "    ('touch', 0.4826675355434418),\n",
       "    ('ma', 0.48266202211380005),\n",
       "    ('wisdom', 0.47285589575767517),\n",
       "    ('mine', 0.4699375033378601)]),\n",
       "  ('bike',\n",
       "   [('ride', 0.7614628672599792),\n",
       "    ('session', 0.7327741384506226),\n",
       "    ('motorcycle', 0.7259963154792786),\n",
       "    ('repair', 0.7257038950920105),\n",
       "    ('road', 0.7188394069671631),\n",
       "    ('riding', 0.7074043154716492),\n",
       "    ('car', 0.7016843557357788),\n",
       "    ('bus', 0.6990340352058411),\n",
       "    ('mile', 0.6960457563400269),\n",
       "    ('desk', 0.6923110485076904)])],\n",
       " [('it',\n",
       "   [('that', 0.7491979002952576),\n",
       "    ('he', 0.6339783668518066),\n",
       "    ('everything', 0.6241620779037476),\n",
       "    ('mine', 0.6155524253845215),\n",
       "    ('she', 0.595931887626648),\n",
       "    ('which', 0.5570487380027771),\n",
       "    ('something', 0.5405933260917664),\n",
       "    ('there', 0.5137521028518677),\n",
       "    ('actually', 0.4893859624862671),\n",
       "    ('someone', 0.4887668490409851)]),\n",
       "  ('will',\n",
       "   [(\"'ll\", 0.9043096303939819),\n",
       "    ('may', 0.8287935853004456),\n",
       "    ('might', 0.8005561828613281),\n",
       "    ('shall', 0.7554904818534851),\n",
       "    ('should', 0.7425701022148132),\n",
       "    ('must', 0.7295541763305664),\n",
       "    ('can', 0.7205162048339844),\n",
       "    ('ill', 0.7176628112792969),\n",
       "    ('wont', 0.69068443775177),\n",
       "    (\"'d\", 0.6458402872085571)]),\n",
       "  ('be',\n",
       "   [('b', 0.7083565592765808),\n",
       "    ('stay', 0.6825955510139465),\n",
       "    ('happen', 0.6654990911483765),\n",
       "    ('start', 0.6615421772003174),\n",
       "    ('probably', 0.6400696039199829),\n",
       "    ('stop', 0.6288520693778992),\n",
       "    ('stick', 0.5982198715209961),\n",
       "    ('die', 0.5768648386001587),\n",
       "    ('pass', 0.569517970085144),\n",
       "    ('move', 0.568316638469696)]),\n",
       "  ('70',\n",
       "   [('80', 0.8104959726333618),\n",
       "    ('eight', 0.7987865209579468),\n",
       "    ('ncaa', 0.7978743314743042),\n",
       "    ('seven', 0.7950009107589722),\n",
       "    ('65', 0.7911332845687866),\n",
       "    ('90', 0.780827522277832),\n",
       "    ('27', 0.7778635025024414),\n",
       "    ('league', 0.7774122953414917),\n",
       "    ('monsoon', 0.7741639614105225),\n",
       "    ('cest', 0.7736806869506836)]),\n",
       "  ('degrees',\n",
       "   [('degree', 0.7169533967971802),\n",
       "    ('monsoon', 0.7097703814506531),\n",
       "    ('pouring', 0.7090166807174683),\n",
       "    ('80', 0.701723575592041),\n",
       "    ('70', 0.700792670249939),\n",
       "    ('gloomy', 0.6959151029586792),\n",
       "    ('90', 0.6943837404251099),\n",
       "    ('pm', 0.6870354413986206),\n",
       "    (\"o'clock\", 0.682308554649353),\n",
       "    ('rained', 0.6783724427223206)]),\n",
       "  ('tomorrow',\n",
       "   [('later', 0.6698342561721802),\n",
       "    ('tuesday', 0.6382237672805786),\n",
       "    ('thursday', 0.6353632211685181),\n",
       "    ('monday', 0.6126554012298584),\n",
       "    ('wednesday', 0.6074701547622681),\n",
       "    ('2morrow', 0.5982251763343811),\n",
       "    ('tonight', 0.5858003497123718),\n",
       "    ('tmrw', 0.5839264392852783),\n",
       "    ('study', 0.5782750844955444),\n",
       "    ('class', 0.5763795375823975)])]]"
      ]
     },
     "execution_count": 77,
     "metadata": {},
     "output_type": "execute_result"
    }
   ],
   "source": [
    "# Reading from file\n",
    "read_w2v = Word2Vec.load('word2vec.model')\n",
    "getMostSimilarWords(tweets, w2v_model=read_w2v)"
   ]
  }
 ],
 "metadata": {
  "kernelspec": {
   "display_name": "Python 3.6.9 64-bit",
   "language": "python",
   "name": "python36964bit09ffa6b83fbc41028f310f6c92b0613d"
  },
  "language_info": {
   "codemirror_mode": {
    "name": "ipython",
    "version": 3
   },
   "file_extension": ".py",
   "mimetype": "text/x-python",
   "name": "python",
   "nbconvert_exporter": "python",
   "pygments_lexer": "ipython3",
   "version": "3.6.9"
  }
 },
 "nbformat": 4,
 "nbformat_minor": 4
}
