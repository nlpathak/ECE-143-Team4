{
 "cells": [
  {
   "cell_type": "code",
   "execution_count": 1,
   "metadata": {},
   "outputs": [],
   "source": [
    "import pandas as pd\n",
    "import numpy as np\n",
    "import pickle\n",
    "from sklearn.model_selection import train_test_split\n",
    "\n",
    "from sklearn.feature_extraction.text import CountVectorizer, TfidfVectorizer\n",
    "from sklearn.linear_model import LogisticRegression\n",
    "\n",
    "import scipy.sparse"
   ]
  },
  {
   "cell_type": "markdown",
   "metadata": {},
   "source": [
    "# Data Loading Stage + Pre-processing"
   ]
  },
  {
   "cell_type": "code",
   "execution_count": 2,
   "metadata": {},
   "outputs": [],
   "source": [
    "# From https://www.kaggle.com/kazanova/sentiment140\n",
    "# Added custom column header line to the csv after download\n",
    "df = pd.read_csv('training.1600000.processed.noemoticon.csv', encoding='latin-1')\n",
    "df.columns = ['target','ids','date','flag','user','text']"
   ]
  },
  {
   "cell_type": "code",
   "execution_count": 3,
   "metadata": {},
   "outputs": [
    {
     "data": {
      "text/html": [
       "<div>\n",
       "<style scoped>\n",
       "    .dataframe tbody tr th:only-of-type {\n",
       "        vertical-align: middle;\n",
       "    }\n",
       "\n",
       "    .dataframe tbody tr th {\n",
       "        vertical-align: top;\n",
       "    }\n",
       "\n",
       "    .dataframe thead th {\n",
       "        text-align: right;\n",
       "    }\n",
       "</style>\n",
       "<table border=\"1\" class=\"dataframe\">\n",
       "  <thead>\n",
       "    <tr style=\"text-align: right;\">\n",
       "      <th></th>\n",
       "      <th>target</th>\n",
       "      <th>ids</th>\n",
       "      <th>date</th>\n",
       "      <th>flag</th>\n",
       "      <th>user</th>\n",
       "      <th>text</th>\n",
       "    </tr>\n",
       "  </thead>\n",
       "  <tbody>\n",
       "    <tr>\n",
       "      <th>0</th>\n",
       "      <td>0</td>\n",
       "      <td>1467810672</td>\n",
       "      <td>Mon Apr 06 22:19:49 PDT 2009</td>\n",
       "      <td>NO_QUERY</td>\n",
       "      <td>scotthamilton</td>\n",
       "      <td>is upset that he can't update his Facebook by ...</td>\n",
       "    </tr>\n",
       "    <tr>\n",
       "      <th>1</th>\n",
       "      <td>0</td>\n",
       "      <td>1467810917</td>\n",
       "      <td>Mon Apr 06 22:19:53 PDT 2009</td>\n",
       "      <td>NO_QUERY</td>\n",
       "      <td>mattycus</td>\n",
       "      <td>@Kenichan I dived many times for the ball. Man...</td>\n",
       "    </tr>\n",
       "    <tr>\n",
       "      <th>2</th>\n",
       "      <td>0</td>\n",
       "      <td>1467811184</td>\n",
       "      <td>Mon Apr 06 22:19:57 PDT 2009</td>\n",
       "      <td>NO_QUERY</td>\n",
       "      <td>ElleCTF</td>\n",
       "      <td>my whole body feels itchy and like its on fire</td>\n",
       "    </tr>\n",
       "    <tr>\n",
       "      <th>3</th>\n",
       "      <td>0</td>\n",
       "      <td>1467811193</td>\n",
       "      <td>Mon Apr 06 22:19:57 PDT 2009</td>\n",
       "      <td>NO_QUERY</td>\n",
       "      <td>Karoli</td>\n",
       "      <td>@nationwideclass no, it's not behaving at all....</td>\n",
       "    </tr>\n",
       "    <tr>\n",
       "      <th>4</th>\n",
       "      <td>0</td>\n",
       "      <td>1467811372</td>\n",
       "      <td>Mon Apr 06 22:20:00 PDT 2009</td>\n",
       "      <td>NO_QUERY</td>\n",
       "      <td>joy_wolf</td>\n",
       "      <td>@Kwesidei not the whole crew</td>\n",
       "    </tr>\n",
       "    <tr>\n",
       "      <th>5</th>\n",
       "      <td>0</td>\n",
       "      <td>1467811592</td>\n",
       "      <td>Mon Apr 06 22:20:03 PDT 2009</td>\n",
       "      <td>NO_QUERY</td>\n",
       "      <td>mybirch</td>\n",
       "      <td>Need a hug</td>\n",
       "    </tr>\n",
       "    <tr>\n",
       "      <th>6</th>\n",
       "      <td>0</td>\n",
       "      <td>1467811594</td>\n",
       "      <td>Mon Apr 06 22:20:03 PDT 2009</td>\n",
       "      <td>NO_QUERY</td>\n",
       "      <td>coZZ</td>\n",
       "      <td>@LOLTrish hey  long time no see! Yes.. Rains a...</td>\n",
       "    </tr>\n",
       "    <tr>\n",
       "      <th>7</th>\n",
       "      <td>0</td>\n",
       "      <td>1467811795</td>\n",
       "      <td>Mon Apr 06 22:20:05 PDT 2009</td>\n",
       "      <td>NO_QUERY</td>\n",
       "      <td>2Hood4Hollywood</td>\n",
       "      <td>@Tatiana_K nope they didn't have it</td>\n",
       "    </tr>\n",
       "    <tr>\n",
       "      <th>8</th>\n",
       "      <td>0</td>\n",
       "      <td>1467812025</td>\n",
       "      <td>Mon Apr 06 22:20:09 PDT 2009</td>\n",
       "      <td>NO_QUERY</td>\n",
       "      <td>mimismo</td>\n",
       "      <td>@twittera que me muera ?</td>\n",
       "    </tr>\n",
       "    <tr>\n",
       "      <th>9</th>\n",
       "      <td>0</td>\n",
       "      <td>1467812416</td>\n",
       "      <td>Mon Apr 06 22:20:16 PDT 2009</td>\n",
       "      <td>NO_QUERY</td>\n",
       "      <td>erinx3leannexo</td>\n",
       "      <td>spring break in plain city... it's snowing</td>\n",
       "    </tr>\n",
       "  </tbody>\n",
       "</table>\n",
       "</div>"
      ],
      "text/plain": [
       "   target         ids                          date      flag  \\\n",
       "0       0  1467810672  Mon Apr 06 22:19:49 PDT 2009  NO_QUERY   \n",
       "1       0  1467810917  Mon Apr 06 22:19:53 PDT 2009  NO_QUERY   \n",
       "2       0  1467811184  Mon Apr 06 22:19:57 PDT 2009  NO_QUERY   \n",
       "3       0  1467811193  Mon Apr 06 22:19:57 PDT 2009  NO_QUERY   \n",
       "4       0  1467811372  Mon Apr 06 22:20:00 PDT 2009  NO_QUERY   \n",
       "5       0  1467811592  Mon Apr 06 22:20:03 PDT 2009  NO_QUERY   \n",
       "6       0  1467811594  Mon Apr 06 22:20:03 PDT 2009  NO_QUERY   \n",
       "7       0  1467811795  Mon Apr 06 22:20:05 PDT 2009  NO_QUERY   \n",
       "8       0  1467812025  Mon Apr 06 22:20:09 PDT 2009  NO_QUERY   \n",
       "9       0  1467812416  Mon Apr 06 22:20:16 PDT 2009  NO_QUERY   \n",
       "\n",
       "              user                                               text  \n",
       "0    scotthamilton  is upset that he can't update his Facebook by ...  \n",
       "1         mattycus  @Kenichan I dived many times for the ball. Man...  \n",
       "2          ElleCTF    my whole body feels itchy and like its on fire   \n",
       "3           Karoli  @nationwideclass no, it's not behaving at all....  \n",
       "4         joy_wolf                      @Kwesidei not the whole crew   \n",
       "5          mybirch                                        Need a hug   \n",
       "6             coZZ  @LOLTrish hey  long time no see! Yes.. Rains a...  \n",
       "7  2Hood4Hollywood               @Tatiana_K nope they didn't have it   \n",
       "8          mimismo                          @twittera que me muera ?   \n",
       "9   erinx3leannexo        spring break in plain city... it's snowing   "
      ]
     },
     "execution_count": 3,
     "metadata": {},
     "output_type": "execute_result"
    }
   ],
   "source": [
    "df.head(10)"
   ]
  },
  {
   "cell_type": "code",
   "execution_count": 4,
   "metadata": {},
   "outputs": [
    {
     "data": {
      "text/html": [
       "<div>\n",
       "<style scoped>\n",
       "    .dataframe tbody tr th:only-of-type {\n",
       "        vertical-align: middle;\n",
       "    }\n",
       "\n",
       "    .dataframe tbody tr th {\n",
       "        vertical-align: top;\n",
       "    }\n",
       "\n",
       "    .dataframe thead th {\n",
       "        text-align: right;\n",
       "    }\n",
       "</style>\n",
       "<table border=\"1\" class=\"dataframe\">\n",
       "  <thead>\n",
       "    <tr style=\"text-align: right;\">\n",
       "      <th></th>\n",
       "      <th>target</th>\n",
       "      <th>text</th>\n",
       "    </tr>\n",
       "  </thead>\n",
       "  <tbody>\n",
       "    <tr>\n",
       "      <th>0</th>\n",
       "      <td>0</td>\n",
       "      <td>is upset that he can't update his Facebook by ...</td>\n",
       "    </tr>\n",
       "    <tr>\n",
       "      <th>1</th>\n",
       "      <td>0</td>\n",
       "      <td>@Kenichan I dived many times for the ball. Man...</td>\n",
       "    </tr>\n",
       "    <tr>\n",
       "      <th>2</th>\n",
       "      <td>0</td>\n",
       "      <td>my whole body feels itchy and like its on fire</td>\n",
       "    </tr>\n",
       "    <tr>\n",
       "      <th>3</th>\n",
       "      <td>0</td>\n",
       "      <td>@nationwideclass no, it's not behaving at all....</td>\n",
       "    </tr>\n",
       "    <tr>\n",
       "      <th>4</th>\n",
       "      <td>0</td>\n",
       "      <td>@Kwesidei not the whole crew</td>\n",
       "    </tr>\n",
       "    <tr>\n",
       "      <th>...</th>\n",
       "      <td>...</td>\n",
       "      <td>...</td>\n",
       "    </tr>\n",
       "    <tr>\n",
       "      <th>1599994</th>\n",
       "      <td>4</td>\n",
       "      <td>Just woke up. Having no school is the best fee...</td>\n",
       "    </tr>\n",
       "    <tr>\n",
       "      <th>1599995</th>\n",
       "      <td>4</td>\n",
       "      <td>TheWDB.com - Very cool to hear old Walt interv...</td>\n",
       "    </tr>\n",
       "    <tr>\n",
       "      <th>1599996</th>\n",
       "      <td>4</td>\n",
       "      <td>Are you ready for your MoJo Makeover? Ask me f...</td>\n",
       "    </tr>\n",
       "    <tr>\n",
       "      <th>1599997</th>\n",
       "      <td>4</td>\n",
       "      <td>Happy 38th Birthday to my boo of alll time!!! ...</td>\n",
       "    </tr>\n",
       "    <tr>\n",
       "      <th>1599998</th>\n",
       "      <td>4</td>\n",
       "      <td>happy #charitytuesday @theNSPCC @SparksCharity...</td>\n",
       "    </tr>\n",
       "  </tbody>\n",
       "</table>\n",
       "<p>1599999 rows × 2 columns</p>\n",
       "</div>"
      ],
      "text/plain": [
       "         target                                               text\n",
       "0             0  is upset that he can't update his Facebook by ...\n",
       "1             0  @Kenichan I dived many times for the ball. Man...\n",
       "2             0    my whole body feels itchy and like its on fire \n",
       "3             0  @nationwideclass no, it's not behaving at all....\n",
       "4             0                      @Kwesidei not the whole crew \n",
       "...         ...                                                ...\n",
       "1599994       4  Just woke up. Having no school is the best fee...\n",
       "1599995       4  TheWDB.com - Very cool to hear old Walt interv...\n",
       "1599996       4  Are you ready for your MoJo Makeover? Ask me f...\n",
       "1599997       4  Happy 38th Birthday to my boo of alll time!!! ...\n",
       "1599998       4  happy #charitytuesday @theNSPCC @SparksCharity...\n",
       "\n",
       "[1599999 rows x 2 columns]"
      ]
     },
     "execution_count": 4,
     "metadata": {},
     "output_type": "execute_result"
    }
   ],
   "source": [
    "final_large_df = df.drop(['ids', 'date', 'flag', 'user'], axis=1) # drop cols that aren't useful for our model\n",
    "final_large_df"
   ]
  },
  {
   "cell_type": "code",
   "execution_count": 5,
   "metadata": {},
   "outputs": [
    {
     "name": "stdout",
     "output_type": "stream",
     "text": [
      "Number of Negative Sentiment Tweets: 799999\n",
      "Number of Neutral Sentiment Tweets: 0\n",
      "Number of Positive Sentiment Tweets: 800000\n"
     ]
    }
   ],
   "source": [
    "print('Number of Negative Sentiment Tweets:', len(final_large_df[final_large_df['target'] == 0]))\n",
    "print('Number of Neutral Sentiment Tweets:', len(final_large_df[final_large_df['target'] == 2]))\n",
    "print('Number of Positive Sentiment Tweets:', len(final_large_df[final_large_df['target'] == 4]))"
   ]
  },
  {
   "cell_type": "markdown",
   "metadata": {},
   "source": [
    "### Notice no neutral sentiment data and way too much data!"
   ]
  },
  {
   "cell_type": "code",
   "execution_count": 6,
   "metadata": {},
   "outputs": [],
   "source": [
    "final_large_df.target = final_large_df.target / 4 # convert the target column to 0 and 1 labels where 1 is positive"
   ]
  },
  {
   "cell_type": "code",
   "execution_count": 7,
   "metadata": {},
   "outputs": [
    {
     "data": {
      "text/html": [
       "<div>\n",
       "<style scoped>\n",
       "    .dataframe tbody tr th:only-of-type {\n",
       "        vertical-align: middle;\n",
       "    }\n",
       "\n",
       "    .dataframe tbody tr th {\n",
       "        vertical-align: top;\n",
       "    }\n",
       "\n",
       "    .dataframe thead th {\n",
       "        text-align: right;\n",
       "    }\n",
       "</style>\n",
       "<table border=\"1\" class=\"dataframe\">\n",
       "  <thead>\n",
       "    <tr style=\"text-align: right;\">\n",
       "      <th></th>\n",
       "      <th>target</th>\n",
       "      <th>text</th>\n",
       "    </tr>\n",
       "  </thead>\n",
       "  <tbody>\n",
       "    <tr>\n",
       "      <th>0</th>\n",
       "      <td>0.0</td>\n",
       "      <td>is upset that he can't update his Facebook by ...</td>\n",
       "    </tr>\n",
       "    <tr>\n",
       "      <th>1</th>\n",
       "      <td>0.0</td>\n",
       "      <td>@Kenichan I dived many times for the ball. Man...</td>\n",
       "    </tr>\n",
       "    <tr>\n",
       "      <th>2</th>\n",
       "      <td>0.0</td>\n",
       "      <td>my whole body feels itchy and like its on fire</td>\n",
       "    </tr>\n",
       "    <tr>\n",
       "      <th>3</th>\n",
       "      <td>0.0</td>\n",
       "      <td>@nationwideclass no, it's not behaving at all....</td>\n",
       "    </tr>\n",
       "    <tr>\n",
       "      <th>4</th>\n",
       "      <td>0.0</td>\n",
       "      <td>@Kwesidei not the whole crew</td>\n",
       "    </tr>\n",
       "    <tr>\n",
       "      <th>...</th>\n",
       "      <td>...</td>\n",
       "      <td>...</td>\n",
       "    </tr>\n",
       "    <tr>\n",
       "      <th>1599994</th>\n",
       "      <td>1.0</td>\n",
       "      <td>Just woke up. Having no school is the best fee...</td>\n",
       "    </tr>\n",
       "    <tr>\n",
       "      <th>1599995</th>\n",
       "      <td>1.0</td>\n",
       "      <td>TheWDB.com - Very cool to hear old Walt interv...</td>\n",
       "    </tr>\n",
       "    <tr>\n",
       "      <th>1599996</th>\n",
       "      <td>1.0</td>\n",
       "      <td>Are you ready for your MoJo Makeover? Ask me f...</td>\n",
       "    </tr>\n",
       "    <tr>\n",
       "      <th>1599997</th>\n",
       "      <td>1.0</td>\n",
       "      <td>Happy 38th Birthday to my boo of alll time!!! ...</td>\n",
       "    </tr>\n",
       "    <tr>\n",
       "      <th>1599998</th>\n",
       "      <td>1.0</td>\n",
       "      <td>happy #charitytuesday @theNSPCC @SparksCharity...</td>\n",
       "    </tr>\n",
       "  </tbody>\n",
       "</table>\n",
       "<p>1599999 rows × 2 columns</p>\n",
       "</div>"
      ],
      "text/plain": [
       "         target                                               text\n",
       "0           0.0  is upset that he can't update his Facebook by ...\n",
       "1           0.0  @Kenichan I dived many times for the ball. Man...\n",
       "2           0.0    my whole body feels itchy and like its on fire \n",
       "3           0.0  @nationwideclass no, it's not behaving at all....\n",
       "4           0.0                      @Kwesidei not the whole crew \n",
       "...         ...                                                ...\n",
       "1599994     1.0  Just woke up. Having no school is the best fee...\n",
       "1599995     1.0  TheWDB.com - Very cool to hear old Walt interv...\n",
       "1599996     1.0  Are you ready for your MoJo Makeover? Ask me f...\n",
       "1599997     1.0  Happy 38th Birthday to my boo of alll time!!! ...\n",
       "1599998     1.0  happy #charitytuesday @theNSPCC @SparksCharity...\n",
       "\n",
       "[1599999 rows x 2 columns]"
      ]
     },
     "execution_count": 7,
     "metadata": {},
     "output_type": "execute_result"
    }
   ],
   "source": [
    "final_large_df"
   ]
  },
  {
   "cell_type": "code",
   "execution_count": 8,
   "metadata": {},
   "outputs": [],
   "source": [
    "final_df = final_large_df.sample(200000)\n",
    "del final_large_df, df"
   ]
  },
  {
   "cell_type": "code",
   "execution_count": 9,
   "metadata": {},
   "outputs": [
    {
     "data": {
      "text/html": [
       "<div>\n",
       "<style scoped>\n",
       "    .dataframe tbody tr th:only-of-type {\n",
       "        vertical-align: middle;\n",
       "    }\n",
       "\n",
       "    .dataframe tbody tr th {\n",
       "        vertical-align: top;\n",
       "    }\n",
       "\n",
       "    .dataframe thead th {\n",
       "        text-align: right;\n",
       "    }\n",
       "</style>\n",
       "<table border=\"1\" class=\"dataframe\">\n",
       "  <thead>\n",
       "    <tr style=\"text-align: right;\">\n",
       "      <th></th>\n",
       "      <th>target</th>\n",
       "      <th>text</th>\n",
       "    </tr>\n",
       "  </thead>\n",
       "  <tbody>\n",
       "    <tr>\n",
       "      <th>260971</th>\n",
       "      <td>0.0</td>\n",
       "      <td>Lake Geneva was NICE, but I came back &amp;amp; Na...</td>\n",
       "    </tr>\n",
       "    <tr>\n",
       "      <th>635907</th>\n",
       "      <td>0.0</td>\n",
       "      <td>Woo the magnet culmination was cool aww ima mi...</td>\n",
       "    </tr>\n",
       "    <tr>\n",
       "      <th>953834</th>\n",
       "      <td>1.0</td>\n",
       "      <td>Fabulous lunch with a fabulous friend</td>\n",
       "    </tr>\n",
       "    <tr>\n",
       "      <th>1170116</th>\n",
       "      <td>1.0</td>\n",
       "      <td>good morning! just got up. its beautiful outsi...</td>\n",
       "    </tr>\n",
       "    <tr>\n",
       "      <th>1479335</th>\n",
       "      <td>1.0</td>\n",
       "      <td>talking about my scary ghost dream with lisa</td>\n",
       "    </tr>\n",
       "    <tr>\n",
       "      <th>...</th>\n",
       "      <td>...</td>\n",
       "      <td>...</td>\n",
       "    </tr>\n",
       "    <tr>\n",
       "      <th>1184151</th>\n",
       "      <td>1.0</td>\n",
       "      <td>@mileycyrus Good luck at the mtv movie awards ...</td>\n",
       "    </tr>\n",
       "    <tr>\n",
       "      <th>1004240</th>\n",
       "      <td>1.0</td>\n",
       "      <td>@iLoveColbyO he's mine too!!! lol</td>\n",
       "    </tr>\n",
       "    <tr>\n",
       "      <th>220613</th>\n",
       "      <td>0.0</td>\n",
       "      <td>Umm...why am I the only one in the theater abo...</td>\n",
       "    </tr>\n",
       "    <tr>\n",
       "      <th>755341</th>\n",
       "      <td>0.0</td>\n",
       "      <td>http://twitpic.com/85l0y - Almost done, I'm go...</td>\n",
       "    </tr>\n",
       "    <tr>\n",
       "      <th>441474</th>\n",
       "      <td>0.0</td>\n",
       "      <td>Ali's Thespian letter just made me cry.</td>\n",
       "    </tr>\n",
       "  </tbody>\n",
       "</table>\n",
       "<p>200000 rows × 2 columns</p>\n",
       "</div>"
      ],
      "text/plain": [
       "         target                                               text\n",
       "260971      0.0  Lake Geneva was NICE, but I came back &amp; Na...\n",
       "635907      0.0  Woo the magnet culmination was cool aww ima mi...\n",
       "953834      1.0             Fabulous lunch with a fabulous friend \n",
       "1170116     1.0  good morning! just got up. its beautiful outsi...\n",
       "1479335     1.0      talking about my scary ghost dream with lisa \n",
       "...         ...                                                ...\n",
       "1184151     1.0  @mileycyrus Good luck at the mtv movie awards ...\n",
       "1004240     1.0                 @iLoveColbyO he's mine too!!! lol \n",
       "220613      0.0  Umm...why am I the only one in the theater abo...\n",
       "755341      0.0  http://twitpic.com/85l0y - Almost done, I'm go...\n",
       "441474      0.0           Ali's Thespian letter just made me cry. \n",
       "\n",
       "[200000 rows x 2 columns]"
      ]
     },
     "execution_count": 9,
     "metadata": {},
     "output_type": "execute_result"
    }
   ],
   "source": [
    "final_df"
   ]
  },
  {
   "cell_type": "markdown",
   "metadata": {},
   "source": [
    "### Split into Training and Test Splits for Model Evaluation"
   ]
  },
  {
   "cell_type": "code",
   "execution_count": 10,
   "metadata": {},
   "outputs": [],
   "source": [
    "train_df, test_df = train_test_split(final_df, test_size=0.20)"
   ]
  },
  {
   "cell_type": "code",
   "execution_count": 11,
   "metadata": {},
   "outputs": [
    {
     "name": "stdout",
     "output_type": "stream",
     "text": [
      "Training Set Stats:\n",
      "Size of Training Set: 160000\n",
      "Number of Negative Sentiment Tweets: 80055\n",
      "Number of Positive Sentiment Tweets: 79945\n"
     ]
    }
   ],
   "source": [
    "print('Training Set Stats:')\n",
    "print('Size of Training Set:', len(train_df))\n",
    "print('Number of Negative Sentiment Tweets:', len(train_df[train_df['target'] == 0]))\n",
    "print('Number of Positive Sentiment Tweets:', len(train_df[train_df['target'] == 1]))"
   ]
  },
  {
   "cell_type": "code",
   "execution_count": 12,
   "metadata": {},
   "outputs": [
    {
     "name": "stdout",
     "output_type": "stream",
     "text": [
      "Test Set Stats:\n",
      "Size of Test Set: 40000\n",
      "Number of Negative Sentiment Tweets: 20070\n",
      "Number of Positive Sentiment Tweets: 19930\n"
     ]
    }
   ],
   "source": [
    "print('Test Set Stats:')\n",
    "print('Size of Test Set:', len(test_df))\n",
    "print('Number of Negative Sentiment Tweets:', len(test_df[test_df['target'] == 0]))\n",
    "print('Number of Positive Sentiment Tweets:', len(test_df[test_df['target'] == 1]))"
   ]
  },
  {
   "cell_type": "markdown",
   "metadata": {},
   "source": [
    "# Count-Vectorizer Model "
   ]
  },
  {
   "cell_type": "code",
   "execution_count": 13,
   "metadata": {},
   "outputs": [],
   "source": [
    "count_vectorizer = CountVectorizer(stop_words='english', ngram_range=(1,3), max_features=100000)\n",
    "X_train = count_vectorizer.fit_transform([entry['text'] for i, entry in train_df.iterrows()])\n",
    "Y_train = np.array([int(entry['target']) for i, entry in train_df.iterrows()])\n",
    "\n",
    "X_test = count_vectorizer.transform([entry['text'] for i, entry in test_df.iterrows()])\n",
    "Y_test = np.array([int(entry['target']) for i, entry in test_df.iterrows()])"
   ]
  },
  {
   "cell_type": "code",
   "execution_count": 14,
   "metadata": {},
   "outputs": [
    {
     "data": {
      "text/plain": [
       "LogisticRegression(C=0.1, max_iter=15000)"
      ]
     },
     "execution_count": 14,
     "metadata": {},
     "output_type": "execute_result"
    }
   ],
   "source": [
    "count_vect_model = LogisticRegression(C = 0.1, max_iter=15000)\n",
    "count_vect_model.fit(X_train, Y_train)"
   ]
  },
  {
   "cell_type": "code",
   "execution_count": 15,
   "metadata": {},
   "outputs": [
    {
     "name": "stdout",
     "output_type": "stream",
     "text": [
      "Training Accuracy: 0.80974375\n",
      "Testing Accuracy: 0.766575\n"
     ]
    }
   ],
   "source": [
    "print(f'Training Accuracy: {np.mean(count_vect_model.predict(X_train) == Y_train)}')\n",
    "print(f'Testing Accuracy: {np.mean(count_vect_model.predict(X_test) == Y_test)}')"
   ]
  },
  {
   "cell_type": "code",
   "execution_count": 16,
   "metadata": {},
   "outputs": [],
   "source": [
    "# Write everything to files\n",
    "pickle.dump(count_vectorizer, open('count_vectorizer.pickle', 'wb'))\n",
    "pickle.dump(count_vect_model, open('count_vect_model.pickle', 'wb'))\n",
    "scipy.sparse.save_npz('count_vect_X_train.npz', X_train)\n",
    "np.save('count_vect_Y_train.npy', Y_train)\n",
    "scipy.sparse.save_npz('count_vect_X_test.npz', X_test)\n",
    "np.save('count_vect_Y_test.npy', Y_test)"
   ]
  },
  {
   "cell_type": "code",
   "execution_count": 17,
   "metadata": {},
   "outputs": [
    {
     "name": "stdout",
     "output_type": "stream",
     "text": [
      "Pickled Training Accuracy: 0.80974375\n",
      "Pickled Testing Accuracy: 0.766575\n"
     ]
    }
   ],
   "source": [
    "# Test that pickling is working\n",
    "read_vect = pickle.load(open('count_vectorizer.pickle', 'rb'))\n",
    "read_model = pickle.load(open('count_vect_model.pickle', 'rb'))\n",
    "\n",
    "read_X_train = scipy.sparse.load_npz('count_vect_X_train.npz')\n",
    "read_Y_train = np.load('count_vect_Y_train.npy')\n",
    "read_X_test = scipy.sparse.load_npz('count_vect_X_test.npz')\n",
    "read_Y_test = np.load('count_vect_Y_test.npy')\n",
    "print(f'Pickled Training Accuracy: {np.mean(read_model.predict(read_X_train) == read_Y_train)}')\n",
    "print(f'Pickled Testing Accuracy: {np.mean(read_model.predict(read_X_test) == read_Y_test)}')"
   ]
  },
  {
   "cell_type": "code",
   "execution_count": 18,
   "metadata": {},
   "outputs": [
    {
     "data": {
      "text/plain": [
       "0.80974375"
      ]
     },
     "execution_count": 18,
     "metadata": {},
     "output_type": "execute_result"
    }
   ],
   "source": [
    "# Check probabilities work as expected\n",
    "np.mean(np.argmax(read_model.predict_proba(read_X_train), axis=1) == read_Y_train)"
   ]
  },
  {
   "cell_type": "markdown",
   "metadata": {},
   "source": [
    "# Tf-Idf Model"
   ]
  },
  {
   "cell_type": "code",
   "execution_count": 19,
   "metadata": {},
   "outputs": [],
   "source": [
    "tfidf_vectorizer = TfidfVectorizer(stop_words='english', ngram_range=(1,3), max_features=100000)\n",
    "X_train = tfidf_vectorizer.fit_transform([entry['text'] for i, entry in train_df.iterrows()])\n",
    "Y_train = np.array([int(entry['target']) for i, entry in train_df.iterrows()])\n",
    "\n",
    "X_test = tfidf_vectorizer.transform([entry['text'] for i, entry in test_df.iterrows()])\n",
    "Y_test = np.array([int(entry['target']) for i, entry in test_df.iterrows()])"
   ]
  },
  {
   "cell_type": "code",
   "execution_count": 20,
   "metadata": {},
   "outputs": [
    {
     "data": {
      "text/plain": [
       "LogisticRegression(C=1.5, max_iter=15000)"
      ]
     },
     "execution_count": 20,
     "metadata": {},
     "output_type": "execute_result"
    }
   ],
   "source": [
    "tfidf_model = LogisticRegression(C = 1.5, max_iter=15000)\n",
    "tfidf_model.fit(X_train, Y_train)"
   ]
  },
  {
   "cell_type": "code",
   "execution_count": 21,
   "metadata": {},
   "outputs": [
    {
     "name": "stdout",
     "output_type": "stream",
     "text": [
      "Training Accuracy: 0.84830625\n",
      "Testing Accuracy: 0.769725\n"
     ]
    }
   ],
   "source": [
    "print(f'Training Accuracy: {np.mean(tfidf_model.predict(X_train) == Y_train)}')\n",
    "print(f'Testing Accuracy: {np.mean(tfidf_model.predict(X_test) == Y_test)}')"
   ]
  },
  {
   "cell_type": "code",
   "execution_count": 22,
   "metadata": {},
   "outputs": [],
   "source": [
    "pickle.dump(tfidf_vectorizer, open('tfidf_vect.pickle', 'wb'))\n",
    "pickle.dump(tfidf_model, open('tfidf_model.pickle', 'wb'))\n",
    "scipy.sparse.save_npz('tfidf_vect_X_train.npz', X_train)\n",
    "np.save('tfidf_vect_Y_train.npy', Y_train)\n",
    "scipy.sparse.save_npz('tfidf_vect_X_test.npz', X_test)\n",
    "np.save('tfidf_vect_Y_test.npy', Y_test)"
   ]
  },
  {
   "cell_type": "code",
   "execution_count": 23,
   "metadata": {},
   "outputs": [
    {
     "name": "stdout",
     "output_type": "stream",
     "text": [
      "Pickled Training Accuracy: 0.84830625\n",
      "Pickled Testing Accuracy: 0.769725\n"
     ]
    }
   ],
   "source": [
    "# Test that pickling is working\n",
    "read_vect = pickle.load(open('tfidf_vect.pickle', 'rb'))\n",
    "read_model = pickle.load(open('tfidf_model.pickle', 'rb'))\n",
    "\n",
    "read_X_train = scipy.sparse.load_npz('tfidf_vect_X_train.npz')\n",
    "read_Y_train = np.load('tfidf_vect_Y_train.npy')\n",
    "read_X_test = scipy.sparse.load_npz('tfidf_vect_X_test.npz')\n",
    "read_Y_test = np.load('tfidf_vect_Y_test.npy')\n",
    "print(f'Pickled Training Accuracy: {np.mean(read_model.predict(read_X_train) == read_Y_train)}')\n",
    "print(f'Pickled Testing Accuracy: {np.mean(read_model.predict(read_X_test) == read_Y_test)}')"
   ]
  },
  {
   "cell_type": "markdown",
   "metadata": {},
   "source": [
    "# Model and Vectorizer Learned Information"
   ]
  },
  {
   "cell_type": "code",
   "execution_count": 24,
   "metadata": {},
   "outputs": [],
   "source": [
    "def getExtremeWords(vectorizer, model):\n",
    "    feature_names = np.array(read_vect.get_feature_names())\n",
    "    order = np.argsort(read_model.coef_)\n",
    "    \n",
    "    print(\"Top 50 Most Negative Words/Phrases in Order:\")\n",
    "    print(feature_names[order[0, :50]])\n",
    "    print()\n",
    "    print(\"Top 50 Most Positive Words/Phrases in Order:\")\n",
    "    print(feature_names[order[0, -50:]][::-1])\n",
    "    \n",
    "    return feature_names[order[0, :50]], feature_names[order[0, -50:]][::-1] # negative, positive    \n",
    "\n",
    "def predict(tweets, vectorizer, model):\n",
    "    tweet_vectors = vectorizer.transform(tweets)\n",
    "    preds = model.predict_proba(tweet_vectors)\n",
    "    returnList = []\n",
    "    for i, tweet in enumerate(tweets):\n",
    "        print(f'Tweet: {tweet}')\n",
    "        pred = \"Negative\" if np.argmax(preds[i]) == 0 else \"Positive\"\n",
    "        print(f'Prediction: {pred}')\n",
    "        print(f'Confidence of {pred} Prediction (0 to 1): {np.max(preds[i])}')\n",
    "        print()\n",
    "        returnList.append((tweet, pred, np.max(preds[i])))\n",
    "    return returnList\n",
    "\n",
    "def analyzeTweets(tweets, vectorizer, model):\n",
    "    returnList = []\n",
    "    for tweet in tweets:\n",
    "        tweetList = []\n",
    "        for word in tweet.split():\n",
    "            word = word.lower()\n",
    "            if word in vectorizer.get_feature_names():\n",
    "                index = vectorizer.get_feature_names().index(word)\n",
    "                print(f'Word: {word}, Connotation: {model.coef_[0, index]:.3f}')\n",
    "                tweetList.append((word, model.coef_[0, index]))\n",
    "            else: # not a top feature\n",
    "                print(f'Word: {word}, Connotation: {0:.3f}')\n",
    "                tweetList.append((word, 0))\n",
    "        returnList.append(tweetList)\n",
    "        print()\n",
    "    return returnList"
   ]
  },
  {
   "cell_type": "code",
   "execution_count": 25,
   "metadata": {},
   "outputs": [
    {
     "name": "stdout",
     "output_type": "stream",
     "text": [
      "Top 50 Most Negative Words/Phrases in Order:\n",
      "['sad' 'miss' 'wish' 'sick' 'poor' 'sucks' 'unfortunately' 'sadly' 'hurts'\n",
      " 'missing' 'ugh' 'hate' 'bummed' 'headache' 'broken' 'lost' 'sorry'\n",
      " 'bummer' 'upset' 'depressing' 'died' 'bad' 'missed' 'didn' 'rip' 'gutted'\n",
      " 'broke' 'boo' 'cancelled' 'hurt' 'stuck' 'anymore' 'depressed' 'lonely'\n",
      " 'crying' 'damn' 'disappointed' 'fail' 'worst' 'forgot' 'failed' 'ruined'\n",
      " 'shame' 'misses' 'awful' 'horrible' 'alas' 'gone' 'hates' 'closed']\n",
      "\n",
      "Top 50 Most Positive Words/Phrases in Order:\n",
      "['thanks' 'thank' 'wish luck' 'welcome' 'glad' 'awesome' 'yay' 'great'\n",
      " 'happy' 'excited' 'hehe' 'love' 'amazing' 'don forget' 'congratulations'\n",
      " 'best' 'hi' 'proud' 'enjoy' 'followfriday' 'cute' 'loving' 'yummy'\n",
      " 'hello' 'www' 'hehehe' 'nice' 'sweet' 'isn bad' 'fantastic' 'wonderful'\n",
      " 'lovin' 'pleasure' 'hey' 'enjoyed' 'cheers' 'lovely' 'congrats' 'smile'\n",
      " 'rocks' 'don miss' 'heh' 'thx' 'excellent' 'haha' 'worries'\n",
      " 'don feel bad' 'woohoo' 'cool' 'thankyou']\n"
     ]
    },
    {
     "data": {
      "text/plain": [
       "(array(['sad', 'miss', 'wish', 'sick', 'poor', 'sucks', 'unfortunately',\n",
       "        'sadly', 'hurts', 'missing', 'ugh', 'hate', 'bummed', 'headache',\n",
       "        'broken', 'lost', 'sorry', 'bummer', 'upset', 'depressing', 'died',\n",
       "        'bad', 'missed', 'didn', 'rip', 'gutted', 'broke', 'boo',\n",
       "        'cancelled', 'hurt', 'stuck', 'anymore', 'depressed', 'lonely',\n",
       "        'crying', 'damn', 'disappointed', 'fail', 'worst', 'forgot',\n",
       "        'failed', 'ruined', 'shame', 'misses', 'awful', 'horrible', 'alas',\n",
       "        'gone', 'hates', 'closed'], dtype='<U68'),\n",
       " array(['thanks', 'thank', 'wish luck', 'welcome', 'glad', 'awesome',\n",
       "        'yay', 'great', 'happy', 'excited', 'hehe', 'love', 'amazing',\n",
       "        'don forget', 'congratulations', 'best', 'hi', 'proud', 'enjoy',\n",
       "        'followfriday', 'cute', 'loving', 'yummy', 'hello', 'www',\n",
       "        'hehehe', 'nice', 'sweet', 'isn bad', 'fantastic', 'wonderful',\n",
       "        'lovin', 'pleasure', 'hey', 'enjoyed', 'cheers', 'lovely',\n",
       "        'congrats', 'smile', 'rocks', 'don miss', 'heh', 'thx',\n",
       "        'excellent', 'haha', 'worries', 'don feel bad', 'woohoo', 'cool',\n",
       "        'thankyou'], dtype='<U68'))"
      ]
     },
     "execution_count": 25,
     "metadata": {},
     "output_type": "execute_result"
    }
   ],
   "source": [
    "# read_vect = pickle.load(open('count_vectorizer.pickle', 'rb'))\n",
    "# read_model = pickle.load(open('count_vect_model.pickle', 'rb'))\n",
    "read_vect = pickle.load(open('tfidf_vect.pickle', 'rb'))\n",
    "read_model = pickle.load(open('tfidf_model.pickle', 'rb'))\n",
    "\n",
    "getExtremeWords(vectorizer=read_vect, model=read_model)"
   ]
  },
  {
   "cell_type": "code",
   "execution_count": 26,
   "metadata": {},
   "outputs": [
    {
     "name": "stdout",
     "output_type": "stream",
     "text": [
      "Tweet: This bag of chips is disgusting yuck\n",
      "Prediction: Negative\n",
      "Confidence of Negative Prediction (0 to 1): 0.7676623849916626\n",
      "\n",
      "Tweet: i really enjoy riding my bike\n",
      "Prediction: Positive\n",
      "Confidence of Positive Prediction (0 to 1): 0.8214782411338701\n",
      "\n",
      "Tweet: it will be 70 degrees tomorrow\n",
      "Prediction: Negative\n",
      "Confidence of Negative Prediction (0 to 1): 0.6281994780525346\n",
      "\n"
     ]
    },
    {
     "data": {
      "text/plain": [
       "[('This bag of chips is disgusting yuck', 'Negative', 0.7676623849916626),\n",
       " ('i really enjoy riding my bike', 'Positive', 0.8214782411338701),\n",
       " ('it will be 70 degrees tomorrow', 'Negative', 0.6281994780525346)]"
      ]
     },
     "execution_count": 26,
     "metadata": {},
     "output_type": "execute_result"
    }
   ],
   "source": [
    "tweets = ['This bag of chips is disgusting yuck', 'i really enjoy riding my bike', 'it will be 70 degrees tomorrow']\n",
    "predict(tweets, vectorizer=read_vect, model=read_model)"
   ]
  },
  {
   "cell_type": "code",
   "execution_count": 27,
   "metadata": {},
   "outputs": [
    {
     "name": "stdout",
     "output_type": "stream",
     "text": [
      "Word: this, Connotation: 0.000\n",
      "Word: bag, Connotation: -0.197\n",
      "Word: of, Connotation: 0.000\n",
      "Word: chips, Connotation: -0.150\n",
      "Word: is, Connotation: 0.000\n",
      "Word: disgusting, Connotation: -2.606\n",
      "Word: yuck, Connotation: -0.911\n",
      "\n",
      "Word: i, Connotation: 0.000\n",
      "Word: really, Connotation: -1.299\n",
      "Word: enjoy, Connotation: 3.644\n",
      "Word: riding, Connotation: -0.053\n",
      "Word: my, Connotation: 0.000\n",
      "Word: bike, Connotation: 0.524\n",
      "\n",
      "Word: it, Connotation: 0.000\n",
      "Word: will, Connotation: 0.000\n",
      "Word: be, Connotation: 0.000\n",
      "Word: 70, Connotation: 0.183\n",
      "Word: degrees, Connotation: -1.264\n",
      "Word: tomorrow, Connotation: -0.464\n",
      "\n"
     ]
    },
    {
     "data": {
      "text/plain": [
       "[[('this', 0),\n",
       "  ('bag', -0.19674551397103285),\n",
       "  ('of', 0),\n",
       "  ('chips', -0.14989987383719386),\n",
       "  ('is', 0),\n",
       "  ('disgusting', -2.605549562692836),\n",
       "  ('yuck', -0.9107116164737056)],\n",
       " [('i', 0),\n",
       "  ('really', -1.2989759532567624),\n",
       "  ('enjoy', 3.6437202642003683),\n",
       "  ('riding', -0.052755683831452155),\n",
       "  ('my', 0),\n",
       "  ('bike', 0.5235275738164094)],\n",
       " [('it', 0),\n",
       "  ('will', 0),\n",
       "  ('be', 0),\n",
       "  ('70', 0.18260201844797638),\n",
       "  ('degrees', -1.2641657773643316),\n",
       "  ('tomorrow', -0.46417964343026413)]]"
      ]
     },
     "execution_count": 27,
     "metadata": {},
     "output_type": "execute_result"
    }
   ],
   "source": [
    "analyzeTweets(tweets, vectorizer=read_vect, model=read_model)"
   ]
  },
  {
   "cell_type": "markdown",
   "metadata": {},
   "source": [
    "# Word2Vec Model \n",
    "### Generate similarity scores of words for visualization\n",
    "Referenced https://stackabuse.com/implementing-word2vec-with-gensim-library-in-python/ and https://radimrehurek.com/gensim/auto_examples/core/run_similarity_queries.html#sphx-glr-auto-examples-core-run-similarity-queries-py"
   ]
  },
  {
   "cell_type": "code",
   "execution_count": 30,
   "metadata": {},
   "outputs": [
    {
     "name": "stderr",
     "output_type": "stream",
     "text": [
      "[nltk_data] Downloading package punkt to /home/arhanna/nltk_data...\n",
      "[nltk_data]   Unzipping tokenizers/punkt.zip.\n"
     ]
    },
    {
     "data": {
      "text/plain": [
       "True"
      ]
     },
     "execution_count": 30,
     "metadata": {},
     "output_type": "execute_result"
    }
   ],
   "source": [
    "from gensim.models import Word2Vec\n",
    "import nltk\n",
    "nltk.download('punkt')"
   ]
  },
  {
   "cell_type": "code",
   "execution_count": 31,
   "metadata": {},
   "outputs": [],
   "source": [
    "tweets = [entry['text'].lower() for i, entry in train_df.iterrows()]\n",
    "words = [nltk.word_tokenize(tweet) for tweet in tweets]"
   ]
  },
  {
   "cell_type": "code",
   "execution_count": 32,
   "metadata": {},
   "outputs": [],
   "source": [
    "w2v = Word2Vec(words, min_count=5)\n",
    "w2v.save('word2vec.model') # write to file"
   ]
  },
  {
   "cell_type": "code",
   "execution_count": 33,
   "metadata": {},
   "outputs": [],
   "source": [
    "def getMostSimilarWords(tweets, w2v_model):\n",
    "    returnList = []\n",
    "    for tweet in tweets:\n",
    "        tweetList = []\n",
    "        for word in nltk.word_tokenize(tweet.lower()):\n",
    "            if word in w2v_model.wv.vocab:\n",
    "                tweetList.append((word, w2v_model.wv.most_similar(word)))\n",
    "            else:\n",
    "                tweetList.append((word, []))\n",
    "        returnList.append(tweetList)\n",
    "    return returnList"
   ]
  },
  {
   "cell_type": "code",
   "execution_count": 34,
   "metadata": {},
   "outputs": [
    {
     "data": {
      "text/plain": [
       "[[('this',\n",
       "   [('which', 0.5913453698158264),\n",
       "    ('that', 0.5436644554138184),\n",
       "    ('next', 0.5003108978271484),\n",
       "    ('it', 0.4632309675216675),\n",
       "    ('every', 0.4562388062477112),\n",
       "    ('the', 0.4461026191711426),\n",
       "    ('life', 0.4057804346084595),\n",
       "    ('everything', 0.39627110958099365),\n",
       "    ('another', 0.3860161602497101),\n",
       "    ('there', 0.3629739582538605)]),\n",
       "  ('bag',\n",
       "   [('glass', 0.8469563722610474),\n",
       "    ('hole', 0.8219588994979858),\n",
       "    ('pair', 0.8011025190353394),\n",
       "    ('copy', 0.7925000190734863),\n",
       "    ('bottle', 0.7881885766983032),\n",
       "    ('truck', 0.7877194881439209),\n",
       "    ('edge', 0.7855754494667053),\n",
       "    ('jeans', 0.7831417322158813),\n",
       "    ('bird', 0.7783561944961548),\n",
       "    ('flat', 0.7778118252754211)]),\n",
       "  ('of',\n",
       "   [('whole', 0.4544753432273865),\n",
       "    ('tree', 0.45442265272140503),\n",
       "    ('newer', 0.3826151192188263),\n",
       "    ('recent', 0.37735623121261597),\n",
       "    ('other', 0.3723407983779907),\n",
       "    ('under', 0.370388388633728),\n",
       "    ('small', 0.367741197347641),\n",
       "    ('throughout', 0.3645929992198944),\n",
       "    ('key', 0.362064391374588),\n",
       "    ('selling', 0.359643816947937)]),\n",
       "  ('chips',\n",
       "   [('bacon', 0.8752654790878296),\n",
       "    ('strawberries', 0.8636645078659058),\n",
       "    ('cookies', 0.8524472117424011),\n",
       "    ('potatoes', 0.8494188785552979),\n",
       "    ('lemon', 0.8493980765342712),\n",
       "    ('vanilla', 0.8395921587944031),\n",
       "    ('cheese', 0.8373355865478516),\n",
       "    ('fruit', 0.8373353481292725),\n",
       "    ('crackers', 0.8332610130310059),\n",
       "    ('corn', 0.8322681784629822)]),\n",
       "  ('is',\n",
       "   [('isnt', 0.6795647144317627),\n",
       "    (\"'s\", 0.672248363494873),\n",
       "    ('gets', 0.6102104783058167),\n",
       "    ('keeps', 0.592021644115448),\n",
       "    ('works', 0.5555229783058167),\n",
       "    ('was', 0.5515181422233582),\n",
       "    ('goes', 0.5293574333190918),\n",
       "    ('feels', 0.5107779502868652),\n",
       "    ('hates', 0.4917336106300354),\n",
       "    ('knows', 0.488595187664032)]),\n",
       "  ('disgusting',\n",
       "   [('proof', 0.831641674041748),\n",
       "    ('showcase', 0.8285635113716125),\n",
       "    ('claiming', 0.8065216541290283),\n",
       "    ('amazinggg', 0.8064709901809692),\n",
       "    ('ugly', 0.7994427680969238),\n",
       "    ('parody', 0.7979016304016113),\n",
       "    ('omfg', 0.7978698015213013),\n",
       "    ('highlight', 0.797243595123291),\n",
       "    ('shocking', 0.7923496961593628),\n",
       "    ('dorky', 0.7921655178070068)]),\n",
       "  ('yuck',\n",
       "   [('womp', 0.8288418054580688),\n",
       "    ('yuk', 0.8223108649253845),\n",
       "    ('skul', 0.8090527653694153),\n",
       "    ('owww', 0.8061095476150513),\n",
       "    ('damnit', 0.8043365478515625),\n",
       "    ('nordstrom', 0.8033384084701538),\n",
       "    ('sehr', 0.8012081384658813),\n",
       "    ('cramps', 0.798782467842102),\n",
       "    ('hahaaa', 0.7986247539520264),\n",
       "    ('werk', 0.7979311347007751)])],\n",
       " [('i',\n",
       "   [('you', 0.5192099809646606),\n",
       "    ('actually', 0.48264279961586),\n",
       "    ('we', 0.46669578552246094),\n",
       "    ('myself', 0.46300244331359863),\n",
       "    ('it', 0.4436246156692505),\n",
       "    ('someone', 0.44214925169944763),\n",
       "    ('them', 0.42952167987823486),\n",
       "    ('really', 0.42257481813430786),\n",
       "    ('him', 0.4143378436565399),\n",
       "    ('they', 0.41024166345596313)]),\n",
       "  ('really',\n",
       "   [('so', 0.596778392791748),\n",
       "    ('actually', 0.585883378982544),\n",
       "    ('quite', 0.5663002729415894),\n",
       "    ('kinda', 0.5632714033126831),\n",
       "    ('seriously', 0.5394105911254883),\n",
       "    ('too', 0.5116904973983765),\n",
       "    ('very', 0.49567148089408875),\n",
       "    ('pretty', 0.4651918411254883),\n",
       "    ('still', 0.4553877115249634),\n",
       "    ('but', 0.44797083735466003)]),\n",
       "  ('enjoy',\n",
       "   [('enjoyed', 0.6018739938735962),\n",
       "    ('revisit', 0.5482641458511353),\n",
       "    ('forward', 0.5214732885360718),\n",
       "    ('enjoying', 0.5199355483055115),\n",
       "    ('hows', 0.5137516260147095),\n",
       "    ('appreciate', 0.5098650455474854),\n",
       "    ('shoot', 0.4669293761253357),\n",
       "    ('celebrate', 0.46400120854377747),\n",
       "    ('lovely', 0.46350178122520447),\n",
       "    ('brighten', 0.45880743861198425)]),\n",
       "  ('riding',\n",
       "   [('gate', 0.8348466157913208),\n",
       "    ('bridge', 0.8203962445259094),\n",
       "    ('antonio', 0.8121156096458435),\n",
       "    ('bay', 0.8096675276756287),\n",
       "    ('garage', 0.8017721772193909),\n",
       "    ('sand', 0.8005695343017578),\n",
       "    ('grades', 0.7968358993530273),\n",
       "    ('richmond', 0.794028639793396),\n",
       "    ('carnival', 0.7898541688919067),\n",
       "    ('woods', 0.7778805494308472)]),\n",
       "  ('my',\n",
       "   [('his', 0.7730482816696167),\n",
       "    ('her', 0.7311731576919556),\n",
       "    ('your', 0.596735954284668),\n",
       "    ('their', 0.52842116355896),\n",
       "    ('broken', 0.478687584400177),\n",
       "    ('our', 0.4647154211997986),\n",
       "    ('cancer', 0.4449164569377899),\n",
       "    ('beet', 0.43811437487602234),\n",
       "    ('ache', 0.42624202370643616),\n",
       "    ('accidentally', 0.4223346710205078)]),\n",
       "  ('bike',\n",
       "   [('ride', 0.7841508984565735),\n",
       "    ('flat', 0.7742549180984497),\n",
       "    ('appointment', 0.7478107213973999),\n",
       "    ('mile', 0.7165201902389526),\n",
       "    ('machine', 0.7060055732727051),\n",
       "    ('studio', 0.6928293704986572),\n",
       "    ('road', 0.6903086304664612),\n",
       "    ('session', 0.6880478262901306),\n",
       "    ('ball', 0.6762727499008179),\n",
       "    ('car', 0.675684928894043)])],\n",
       " [('it',\n",
       "   [('that', 0.7366836071014404),\n",
       "    ('he', 0.6872786283493042),\n",
       "    ('mine', 0.6754658222198486),\n",
       "    ('she', 0.6300097703933716),\n",
       "    ('everything', 0.6221252679824829),\n",
       "    ('which', 0.5410675406455994),\n",
       "    ('them', 0.5325233936309814),\n",
       "    ('there', 0.5122586488723755),\n",
       "    ('something', 0.5007236003875732),\n",
       "    ('even', 0.4991194009780884)]),\n",
       "  ('will',\n",
       "   [(\"'ll\", 0.9141102433204651),\n",
       "    ('may', 0.8548386096954346),\n",
       "    ('might', 0.8084040880203247),\n",
       "    ('should', 0.788420557975769),\n",
       "    ('shall', 0.7653844952583313),\n",
       "    ('must', 0.7335436940193176),\n",
       "    ('ill', 0.7288364171981812),\n",
       "    ('can', 0.7104232311248779),\n",
       "    ('wont', 0.6752524375915527),\n",
       "    (\"'d\", 0.6466919183731079)]),\n",
       "  ('be',\n",
       "   [('b', 0.7248975038528442),\n",
       "    ('stay', 0.6943393349647522),\n",
       "    ('continue', 0.64109867811203),\n",
       "    ('happen', 0.6407070755958557),\n",
       "    ('die', 0.6266192197799683),\n",
       "    ('probably', 0.6225141882896423),\n",
       "    ('start', 0.6107274293899536),\n",
       "    ('stop', 0.6041560769081116),\n",
       "    ('survive', 0.6013517379760742),\n",
       "    ('pass', 0.6004022359848022)]),\n",
       "  ('70',\n",
       "   [('violent', 0.8329272270202637),\n",
       "    ('laps', 0.8305662870407104),\n",
       "    ('cases', 0.8297661542892456),\n",
       "    ('monsoon', 0.8266830444335938),\n",
       "    ('supernatural', 0.8260089159011841),\n",
       "    ('kg', 0.8232836723327637),\n",
       "    ('cola', 0.8217165470123291),\n",
       "    ('42', 0.8210591077804565),\n",
       "    ('41', 0.819374680519104),\n",
       "    ('wolves', 0.8184083104133606)]),\n",
       "  ('degrees',\n",
       "   [('90', 0.7717375159263611),\n",
       "    ('stone', 0.7447528839111328),\n",
       "    ('degree', 0.7406705617904663),\n",
       "    ('25', 0.7375763654708862),\n",
       "    ('heavily', 0.7171645164489746),\n",
       "    ('19', 0.7120469808578491),\n",
       "    ('heavy', 0.7097436189651489),\n",
       "    ('80', 0.7097274661064148),\n",
       "    ('85', 0.7079861760139465),\n",
       "    ('98', 0.7018132209777832)]),\n",
       "  ('tomorrow',\n",
       "   [('2morrow', 0.6568920016288757),\n",
       "    ('later', 0.6312969326972961),\n",
       "    ('monday', 0.6257286071777344),\n",
       "    ('study', 0.5997698307037354),\n",
       "    ('class', 0.591393232345581),\n",
       "    ('tmrw', 0.585552453994751),\n",
       "    ('tuesday', 0.5787153840065002),\n",
       "    ('wednesday', 0.5728627443313599),\n",
       "    ('tomorow', 0.5630927085876465),\n",
       "    ('thursday', 0.5549906492233276)])]]"
      ]
     },
     "execution_count": 34,
     "metadata": {},
     "output_type": "execute_result"
    }
   ],
   "source": [
    "tweets = ['This bag of chips is disgusting yuck', 'i really enjoy riding my bike', 'it will be 70 degrees tomorrow']\n",
    "getMostSimilarWords(tweets, w2v_model=w2v)"
   ]
  },
  {
   "cell_type": "code",
   "execution_count": 35,
   "metadata": {},
   "outputs": [
    {
     "data": {
      "text/plain": [
       "[[('this',\n",
       "   [('which', 0.5913453698158264),\n",
       "    ('that', 0.5436644554138184),\n",
       "    ('next', 0.5003108978271484),\n",
       "    ('it', 0.4632309675216675),\n",
       "    ('every', 0.4562388062477112),\n",
       "    ('the', 0.4461026191711426),\n",
       "    ('life', 0.4057804346084595),\n",
       "    ('everything', 0.39627110958099365),\n",
       "    ('another', 0.3860161602497101),\n",
       "    ('there', 0.3629739582538605)]),\n",
       "  ('bag',\n",
       "   [('glass', 0.8469563722610474),\n",
       "    ('hole', 0.8219588994979858),\n",
       "    ('pair', 0.8011025190353394),\n",
       "    ('copy', 0.7925000190734863),\n",
       "    ('bottle', 0.7881885766983032),\n",
       "    ('truck', 0.7877194881439209),\n",
       "    ('edge', 0.7855754494667053),\n",
       "    ('jeans', 0.7831417322158813),\n",
       "    ('bird', 0.7783561944961548),\n",
       "    ('flat', 0.7778118252754211)]),\n",
       "  ('of',\n",
       "   [('whole', 0.4544753432273865),\n",
       "    ('tree', 0.45442265272140503),\n",
       "    ('newer', 0.3826151192188263),\n",
       "    ('recent', 0.37735623121261597),\n",
       "    ('other', 0.3723407983779907),\n",
       "    ('under', 0.370388388633728),\n",
       "    ('small', 0.367741197347641),\n",
       "    ('throughout', 0.3645929992198944),\n",
       "    ('key', 0.362064391374588),\n",
       "    ('selling', 0.359643816947937)]),\n",
       "  ('chips',\n",
       "   [('bacon', 0.8752654790878296),\n",
       "    ('strawberries', 0.8636645078659058),\n",
       "    ('cookies', 0.8524472117424011),\n",
       "    ('potatoes', 0.8494188785552979),\n",
       "    ('lemon', 0.8493980765342712),\n",
       "    ('vanilla', 0.8395921587944031),\n",
       "    ('cheese', 0.8373355865478516),\n",
       "    ('fruit', 0.8373353481292725),\n",
       "    ('crackers', 0.8332610130310059),\n",
       "    ('corn', 0.8322681784629822)]),\n",
       "  ('is',\n",
       "   [('isnt', 0.6795647144317627),\n",
       "    (\"'s\", 0.672248363494873),\n",
       "    ('gets', 0.6102104783058167),\n",
       "    ('keeps', 0.592021644115448),\n",
       "    ('works', 0.5555229783058167),\n",
       "    ('was', 0.5515181422233582),\n",
       "    ('goes', 0.5293574333190918),\n",
       "    ('feels', 0.5107779502868652),\n",
       "    ('hates', 0.4917336106300354),\n",
       "    ('knows', 0.488595187664032)]),\n",
       "  ('disgusting',\n",
       "   [('proof', 0.831641674041748),\n",
       "    ('showcase', 0.8285635113716125),\n",
       "    ('claiming', 0.8065216541290283),\n",
       "    ('amazinggg', 0.8064709901809692),\n",
       "    ('ugly', 0.7994427680969238),\n",
       "    ('parody', 0.7979016304016113),\n",
       "    ('omfg', 0.7978698015213013),\n",
       "    ('highlight', 0.797243595123291),\n",
       "    ('shocking', 0.7923496961593628),\n",
       "    ('dorky', 0.7921655178070068)]),\n",
       "  ('yuck',\n",
       "   [('womp', 0.8288418054580688),\n",
       "    ('yuk', 0.8223108649253845),\n",
       "    ('skul', 0.8090527653694153),\n",
       "    ('owww', 0.8061095476150513),\n",
       "    ('damnit', 0.8043365478515625),\n",
       "    ('nordstrom', 0.8033384084701538),\n",
       "    ('sehr', 0.8012081384658813),\n",
       "    ('cramps', 0.798782467842102),\n",
       "    ('hahaaa', 0.7986247539520264),\n",
       "    ('werk', 0.7979311347007751)])],\n",
       " [('i',\n",
       "   [('you', 0.5192099809646606),\n",
       "    ('actually', 0.48264279961586),\n",
       "    ('we', 0.46669578552246094),\n",
       "    ('myself', 0.46300244331359863),\n",
       "    ('it', 0.4436246156692505),\n",
       "    ('someone', 0.44214925169944763),\n",
       "    ('them', 0.42952167987823486),\n",
       "    ('really', 0.42257481813430786),\n",
       "    ('him', 0.4143378436565399),\n",
       "    ('they', 0.41024166345596313)]),\n",
       "  ('really',\n",
       "   [('so', 0.596778392791748),\n",
       "    ('actually', 0.585883378982544),\n",
       "    ('quite', 0.5663002729415894),\n",
       "    ('kinda', 0.5632714033126831),\n",
       "    ('seriously', 0.5394105911254883),\n",
       "    ('too', 0.5116904973983765),\n",
       "    ('very', 0.49567148089408875),\n",
       "    ('pretty', 0.4651918411254883),\n",
       "    ('still', 0.4553877115249634),\n",
       "    ('but', 0.44797083735466003)]),\n",
       "  ('enjoy',\n",
       "   [('enjoyed', 0.6018739938735962),\n",
       "    ('revisit', 0.5482641458511353),\n",
       "    ('forward', 0.5214732885360718),\n",
       "    ('enjoying', 0.5199355483055115),\n",
       "    ('hows', 0.5137516260147095),\n",
       "    ('appreciate', 0.5098650455474854),\n",
       "    ('shoot', 0.4669293761253357),\n",
       "    ('celebrate', 0.46400120854377747),\n",
       "    ('lovely', 0.46350178122520447),\n",
       "    ('brighten', 0.45880743861198425)]),\n",
       "  ('riding',\n",
       "   [('gate', 0.8348466157913208),\n",
       "    ('bridge', 0.8203962445259094),\n",
       "    ('antonio', 0.8121156096458435),\n",
       "    ('bay', 0.8096675276756287),\n",
       "    ('garage', 0.8017721772193909),\n",
       "    ('sand', 0.8005695343017578),\n",
       "    ('grades', 0.7968358993530273),\n",
       "    ('richmond', 0.794028639793396),\n",
       "    ('carnival', 0.7898541688919067),\n",
       "    ('woods', 0.7778805494308472)]),\n",
       "  ('my',\n",
       "   [('his', 0.7730482816696167),\n",
       "    ('her', 0.7311731576919556),\n",
       "    ('your', 0.596735954284668),\n",
       "    ('their', 0.52842116355896),\n",
       "    ('broken', 0.478687584400177),\n",
       "    ('our', 0.4647154211997986),\n",
       "    ('cancer', 0.4449164569377899),\n",
       "    ('beet', 0.43811437487602234),\n",
       "    ('ache', 0.42624202370643616),\n",
       "    ('accidentally', 0.4223346710205078)]),\n",
       "  ('bike',\n",
       "   [('ride', 0.7841508984565735),\n",
       "    ('flat', 0.7742549180984497),\n",
       "    ('appointment', 0.7478107213973999),\n",
       "    ('mile', 0.7165201902389526),\n",
       "    ('machine', 0.7060055732727051),\n",
       "    ('studio', 0.6928293704986572),\n",
       "    ('road', 0.6903086304664612),\n",
       "    ('session', 0.6880478262901306),\n",
       "    ('ball', 0.6762727499008179),\n",
       "    ('car', 0.675684928894043)])],\n",
       " [('it',\n",
       "   [('that', 0.7366836071014404),\n",
       "    ('he', 0.6872786283493042),\n",
       "    ('mine', 0.6754658222198486),\n",
       "    ('she', 0.6300097703933716),\n",
       "    ('everything', 0.6221252679824829),\n",
       "    ('which', 0.5410675406455994),\n",
       "    ('them', 0.5325233936309814),\n",
       "    ('there', 0.5122586488723755),\n",
       "    ('something', 0.5007236003875732),\n",
       "    ('even', 0.4991194009780884)]),\n",
       "  ('will',\n",
       "   [(\"'ll\", 0.9141102433204651),\n",
       "    ('may', 0.8548386096954346),\n",
       "    ('might', 0.8084040880203247),\n",
       "    ('should', 0.788420557975769),\n",
       "    ('shall', 0.7653844952583313),\n",
       "    ('must', 0.7335436940193176),\n",
       "    ('ill', 0.7288364171981812),\n",
       "    ('can', 0.7104232311248779),\n",
       "    ('wont', 0.6752524375915527),\n",
       "    (\"'d\", 0.6466919183731079)]),\n",
       "  ('be',\n",
       "   [('b', 0.7248975038528442),\n",
       "    ('stay', 0.6943393349647522),\n",
       "    ('continue', 0.64109867811203),\n",
       "    ('happen', 0.6407070755958557),\n",
       "    ('die', 0.6266192197799683),\n",
       "    ('probably', 0.6225141882896423),\n",
       "    ('start', 0.6107274293899536),\n",
       "    ('stop', 0.6041560769081116),\n",
       "    ('survive', 0.6013517379760742),\n",
       "    ('pass', 0.6004022359848022)]),\n",
       "  ('70',\n",
       "   [('violent', 0.8329272270202637),\n",
       "    ('laps', 0.8305662870407104),\n",
       "    ('cases', 0.8297661542892456),\n",
       "    ('monsoon', 0.8266830444335938),\n",
       "    ('supernatural', 0.8260089159011841),\n",
       "    ('kg', 0.8232836723327637),\n",
       "    ('cola', 0.8217165470123291),\n",
       "    ('42', 0.8210591077804565),\n",
       "    ('41', 0.819374680519104),\n",
       "    ('wolves', 0.8184083104133606)]),\n",
       "  ('degrees',\n",
       "   [('90', 0.7717375159263611),\n",
       "    ('stone', 0.7447528839111328),\n",
       "    ('degree', 0.7406705617904663),\n",
       "    ('25', 0.7375763654708862),\n",
       "    ('heavily', 0.7171645164489746),\n",
       "    ('19', 0.7120469808578491),\n",
       "    ('heavy', 0.7097436189651489),\n",
       "    ('80', 0.7097274661064148),\n",
       "    ('85', 0.7079861760139465),\n",
       "    ('98', 0.7018132209777832)]),\n",
       "  ('tomorrow',\n",
       "   [('2morrow', 0.6568920016288757),\n",
       "    ('later', 0.6312969326972961),\n",
       "    ('monday', 0.6257286071777344),\n",
       "    ('study', 0.5997698307037354),\n",
       "    ('class', 0.591393232345581),\n",
       "    ('tmrw', 0.585552453994751),\n",
       "    ('tuesday', 0.5787153840065002),\n",
       "    ('wednesday', 0.5728627443313599),\n",
       "    ('tomorow', 0.5630927085876465),\n",
       "    ('thursday', 0.5549906492233276)])]]"
      ]
     },
     "execution_count": 35,
     "metadata": {},
     "output_type": "execute_result"
    }
   ],
   "source": [
    "# Reading from file\n",
    "read_w2v = Word2Vec.load('word2vec.model')\n",
    "getMostSimilarWords(tweets, w2v_model=read_w2v)"
   ]
  },
  {
   "cell_type": "code",
   "execution_count": null,
   "metadata": {},
   "outputs": [],
   "source": []
  }
 ],
 "metadata": {
  "kernelspec": {
   "display_name": "Python 3",
   "language": "python",
   "name": "python3"
  },
  "language_info": {
   "codemirror_mode": {
    "name": "ipython",
    "version": 3
   },
   "file_extension": ".py",
   "mimetype": "text/x-python",
   "name": "python",
   "nbconvert_exporter": "python",
   "pygments_lexer": "ipython3",
   "version": "3.8.5"
  }
 },
 "nbformat": 4,
 "nbformat_minor": 4
}
