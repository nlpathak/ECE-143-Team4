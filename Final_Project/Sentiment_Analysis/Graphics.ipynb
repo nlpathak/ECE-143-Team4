{
 "cells": [
  {
   "cell_type": "code",
   "execution_count": 1,
   "metadata": {},
   "outputs": [],
   "source": [
    "import pandas as pd\n",
    "import numpy as np\n",
    "import pickle\n",
    "import seaborn as sns\n",
    "import matplotlib.pyplot as plt\n",
    "import random\n",
    "\n",
    "import plotly.express as px\n",
    "import chart_studio.plotly as py\n",
    "import chart_studio.tools as tls\n",
    "import os"
   ]
  },
  {
   "cell_type": "code",
   "execution_count": 2,
   "metadata": {},
   "outputs": [
    {
     "name": "stdout",
     "output_type": "stream",
     "text": [
      "env: PLOTLY_USER=arhanna\n",
      "env: PLOTLY_API=6EStzo8mO5ZY6kfaehPe\n"
     ]
    }
   ],
   "source": [
    "%env PLOTLY_USER=arhanna\n",
    "%env PLOTLY_API=6EStzo8mO5ZY6kfaehPe"
   ]
  },
  {
   "cell_type": "code",
   "execution_count": 3,
   "metadata": {},
   "outputs": [],
   "source": [
    "user = %env PLOTLY_USER\n",
    "api = %env PLOTLY_API\n",
    "\n",
    "tls.set_credentials_file(username= user, api_key= api)"
   ]
  },
  {
   "cell_type": "markdown",
   "metadata": {},
   "source": [
    "# Data Loading Stage + Pre-processing"
   ]
  },
  {
   "cell_type": "code",
   "execution_count": 4,
   "metadata": {},
   "outputs": [
    {
     "data": {
      "text/html": [
       "<div>\n",
       "<style scoped>\n",
       "    .dataframe tbody tr th:only-of-type {\n",
       "        vertical-align: middle;\n",
       "    }\n",
       "\n",
       "    .dataframe tbody tr th {\n",
       "        vertical-align: top;\n",
       "    }\n",
       "\n",
       "    .dataframe thead th {\n",
       "        text-align: right;\n",
       "    }\n",
       "</style>\n",
       "<table border=\"1\" class=\"dataframe\">\n",
       "  <thead>\n",
       "    <tr style=\"text-align: right;\">\n",
       "      <th></th>\n",
       "      <th>id</th>\n",
       "      <th>confidence</th>\n",
       "    </tr>\n",
       "  </thead>\n",
       "  <tbody>\n",
       "    <tr>\n",
       "      <th>count</th>\n",
       "      <td>1.487000e+03</td>\n",
       "      <td>1487.000000</td>\n",
       "    </tr>\n",
       "    <tr>\n",
       "      <th>mean</th>\n",
       "      <td>1.358533e+18</td>\n",
       "      <td>0.729403</td>\n",
       "    </tr>\n",
       "    <tr>\n",
       "      <th>std</th>\n",
       "      <td>1.806123e+16</td>\n",
       "      <td>0.133144</td>\n",
       "    </tr>\n",
       "    <tr>\n",
       "      <th>min</th>\n",
       "      <td>1.240376e+18</td>\n",
       "      <td>0.500375</td>\n",
       "    </tr>\n",
       "    <tr>\n",
       "      <th>25%</th>\n",
       "      <td>1.359173e+18</td>\n",
       "      <td>0.611370</td>\n",
       "    </tr>\n",
       "    <tr>\n",
       "      <th>50%</th>\n",
       "      <td>1.364312e+18</td>\n",
       "      <td>0.726221</td>\n",
       "    </tr>\n",
       "    <tr>\n",
       "      <th>75%</th>\n",
       "      <td>1.365790e+18</td>\n",
       "      <td>0.836797</td>\n",
       "    </tr>\n",
       "    <tr>\n",
       "      <th>max</th>\n",
       "      <td>1.366625e+18</td>\n",
       "      <td>0.996064</td>\n",
       "    </tr>\n",
       "  </tbody>\n",
       "</table>\n",
       "</div>"
      ],
      "text/plain": [
       "                 id   confidence\n",
       "count  1.487000e+03  1487.000000\n",
       "mean   1.358533e+18     0.729403\n",
       "std    1.806123e+16     0.133144\n",
       "min    1.240376e+18     0.500375\n",
       "25%    1.359173e+18     0.611370\n",
       "50%    1.364312e+18     0.726221\n",
       "75%    1.365790e+18     0.836797\n",
       "max    1.366625e+18     0.996064"
      ]
     },
     "execution_count": 4,
     "metadata": {},
     "output_type": "execute_result"
    }
   ],
   "source": [
    "# Custom dataset\n",
    "# Added custom column header line to the csv after download\n",
    "df = pd.read_csv('./data.csv')\n",
    "df['created_at'] = pd.to_datetime(df['created_at'])\n",
    "df.describe()"
   ]
  },
  {
   "cell_type": "code",
   "execution_count": 5,
   "metadata": {},
   "outputs": [
    {
     "data": {
      "text/html": [
       "<div>\n",
       "<style scoped>\n",
       "    .dataframe tbody tr th:only-of-type {\n",
       "        vertical-align: middle;\n",
       "    }\n",
       "\n",
       "    .dataframe tbody tr th {\n",
       "        vertical-align: top;\n",
       "    }\n",
       "\n",
       "    .dataframe thead th {\n",
       "        text-align: right;\n",
       "    }\n",
       "</style>\n",
       "<table border=\"1\" class=\"dataframe\">\n",
       "  <thead>\n",
       "    <tr style=\"text-align: right;\">\n",
       "      <th></th>\n",
       "      <th>text</th>\n",
       "      <th>user</th>\n",
       "      <th>id</th>\n",
       "      <th>created_at</th>\n",
       "      <th>confidence</th>\n",
       "      <th>sentiment</th>\n",
       "    </tr>\n",
       "  </thead>\n",
       "  <tbody>\n",
       "    <tr>\n",
       "      <th>0</th>\n",
       "      <td>@jeff_foust Rockets are ridiculously hard (sigh)</td>\n",
       "      <td>elonmusk</td>\n",
       "      <td>1364707463510040586</td>\n",
       "      <td>2021-02-24 22:43:08+00:00</td>\n",
       "      <td>0.860945</td>\n",
       "      <td>Negative</td>\n",
       "    </tr>\n",
       "    <tr>\n",
       "      <th>1</th>\n",
       "      <td>@VitoTheGreat_ I love dogs &amp;amp; memes</td>\n",
       "      <td>elonmusk</td>\n",
       "      <td>1364564687396872193</td>\n",
       "      <td>2021-02-24 13:15:48+00:00</td>\n",
       "      <td>0.730632</td>\n",
       "      <td>Positive</td>\n",
       "    </tr>\n",
       "    <tr>\n",
       "      <th>2</th>\n",
       "      <td>@konstructivizm Hey babe 😉</td>\n",
       "      <td>elonmusk</td>\n",
       "      <td>1365122612217712642</td>\n",
       "      <td>2021-02-26 02:12:48+00:00</td>\n",
       "      <td>0.860025</td>\n",
       "      <td>Positive</td>\n",
       "    </tr>\n",
       "    <tr>\n",
       "      <th>3</th>\n",
       "      <td>On the actual moon</td>\n",
       "      <td>elonmusk</td>\n",
       "      <td>1364563280522453005</td>\n",
       "      <td>2021-02-24 13:10:13+00:00</td>\n",
       "      <td>0.770221</td>\n",
       "      <td>Positive</td>\n",
       "    </tr>\n",
       "    <tr>\n",
       "      <th>4</th>\n",
       "      <td>Literally https://t.co/XBAUqiVsPH</td>\n",
       "      <td>elonmusk</td>\n",
       "      <td>1364560733472579591</td>\n",
       "      <td>2021-02-24 13:00:05+00:00</td>\n",
       "      <td>0.552344</td>\n",
       "      <td>Negative</td>\n",
       "    </tr>\n",
       "  </tbody>\n",
       "</table>\n",
       "</div>"
      ],
      "text/plain": [
       "                                               text      user  \\\n",
       "0  @jeff_foust Rockets are ridiculously hard (sigh)  elonmusk   \n",
       "1            @VitoTheGreat_ I love dogs &amp; memes  elonmusk   \n",
       "2                        @konstructivizm Hey babe 😉  elonmusk   \n",
       "3                                On the actual moon  elonmusk   \n",
       "4                 Literally https://t.co/XBAUqiVsPH  elonmusk   \n",
       "\n",
       "                    id                created_at  confidence sentiment  \n",
       "0  1364707463510040586 2021-02-24 22:43:08+00:00    0.860945  Negative  \n",
       "1  1364564687396872193 2021-02-24 13:15:48+00:00    0.730632  Positive  \n",
       "2  1365122612217712642 2021-02-26 02:12:48+00:00    0.860025  Positive  \n",
       "3  1364563280522453005 2021-02-24 13:10:13+00:00    0.770221  Positive  \n",
       "4  1364560733472579591 2021-02-24 13:00:05+00:00    0.552344  Negative  "
      ]
     },
     "execution_count": 5,
     "metadata": {},
     "output_type": "execute_result"
    }
   ],
   "source": [
    "df.head()"
   ]
  },
  {
   "cell_type": "markdown",
   "metadata": {},
   "source": [
    "### Setup groups/counts/sums"
   ]
  },
  {
   "cell_type": "code",
   "execution_count": 6,
   "metadata": {},
   "outputs": [
    {
     "data": {
      "text/html": [
       "<div>\n",
       "<style scoped>\n",
       "    .dataframe tbody tr th:only-of-type {\n",
       "        vertical-align: middle;\n",
       "    }\n",
       "\n",
       "    .dataframe tbody tr th {\n",
       "        vertical-align: top;\n",
       "    }\n",
       "\n",
       "    .dataframe thead th {\n",
       "        text-align: right;\n",
       "    }\n",
       "</style>\n",
       "<table border=\"1\" class=\"dataframe\">\n",
       "  <thead>\n",
       "    <tr style=\"text-align: right;\">\n",
       "      <th></th>\n",
       "      <th>text</th>\n",
       "      <th>user</th>\n",
       "      <th>id</th>\n",
       "      <th>created_at</th>\n",
       "      <th>confidence</th>\n",
       "      <th>sentiment</th>\n",
       "    </tr>\n",
       "  </thead>\n",
       "  <tbody>\n",
       "    <tr>\n",
       "      <th>0</th>\n",
       "      <td>@jeff_foust Rockets are ridiculously hard (sigh)</td>\n",
       "      <td>elonmusk</td>\n",
       "      <td>1364707463510040586</td>\n",
       "      <td>2021-02-24 22:43:08+00:00</td>\n",
       "      <td>0.860945</td>\n",
       "      <td>-1</td>\n",
       "    </tr>\n",
       "    <tr>\n",
       "      <th>1</th>\n",
       "      <td>@VitoTheGreat_ I love dogs &amp;amp; memes</td>\n",
       "      <td>elonmusk</td>\n",
       "      <td>1364564687396872193</td>\n",
       "      <td>2021-02-24 13:15:48+00:00</td>\n",
       "      <td>0.730632</td>\n",
       "      <td>1</td>\n",
       "    </tr>\n",
       "    <tr>\n",
       "      <th>2</th>\n",
       "      <td>@konstructivizm Hey babe 😉</td>\n",
       "      <td>elonmusk</td>\n",
       "      <td>1365122612217712642</td>\n",
       "      <td>2021-02-26 02:12:48+00:00</td>\n",
       "      <td>0.860025</td>\n",
       "      <td>1</td>\n",
       "    </tr>\n",
       "    <tr>\n",
       "      <th>3</th>\n",
       "      <td>On the actual moon</td>\n",
       "      <td>elonmusk</td>\n",
       "      <td>1364563280522453005</td>\n",
       "      <td>2021-02-24 13:10:13+00:00</td>\n",
       "      <td>0.770221</td>\n",
       "      <td>1</td>\n",
       "    </tr>\n",
       "    <tr>\n",
       "      <th>4</th>\n",
       "      <td>Literally https://t.co/XBAUqiVsPH</td>\n",
       "      <td>elonmusk</td>\n",
       "      <td>1364560733472579591</td>\n",
       "      <td>2021-02-24 13:00:05+00:00</td>\n",
       "      <td>0.552344</td>\n",
       "      <td>-1</td>\n",
       "    </tr>\n",
       "  </tbody>\n",
       "</table>\n",
       "</div>"
      ],
      "text/plain": [
       "                                               text      user  \\\n",
       "0  @jeff_foust Rockets are ridiculously hard (sigh)  elonmusk   \n",
       "1            @VitoTheGreat_ I love dogs &amp; memes  elonmusk   \n",
       "2                        @konstructivizm Hey babe 😉  elonmusk   \n",
       "3                                On the actual moon  elonmusk   \n",
       "4                 Literally https://t.co/XBAUqiVsPH  elonmusk   \n",
       "\n",
       "                    id                created_at  confidence  sentiment  \n",
       "0  1364707463510040586 2021-02-24 22:43:08+00:00    0.860945         -1  \n",
       "1  1364564687396872193 2021-02-24 13:15:48+00:00    0.730632          1  \n",
       "2  1365122612217712642 2021-02-26 02:12:48+00:00    0.860025          1  \n",
       "3  1364563280522453005 2021-02-24 13:10:13+00:00    0.770221          1  \n",
       "4  1364560733472579591 2021-02-24 13:00:05+00:00    0.552344         -1  "
      ]
     },
     "execution_count": 6,
     "metadata": {},
     "output_type": "execute_result"
    }
   ],
   "source": [
    "# df_s: change sentiment to ints: 1,-1\n",
    "df_s = df.copy()\n",
    "df_s['sentiment'] = df_s['sentiment'].apply(lambda x: 1 if x==\"Positive\" else -1)\n",
    "df_s.head()"
   ]
  },
  {
   "cell_type": "code",
   "execution_count": 7,
   "metadata": {},
   "outputs": [
    {
     "data": {
      "text/html": [
       "<div>\n",
       "<style scoped>\n",
       "    .dataframe tbody tr th:only-of-type {\n",
       "        vertical-align: middle;\n",
       "    }\n",
       "\n",
       "    .dataframe tbody tr th {\n",
       "        vertical-align: top;\n",
       "    }\n",
       "\n",
       "    .dataframe thead th {\n",
       "        text-align: right;\n",
       "    }\n",
       "</style>\n",
       "<table border=\"1\" class=\"dataframe\">\n",
       "  <thead>\n",
       "    <tr style=\"text-align: right;\">\n",
       "      <th></th>\n",
       "      <th>text</th>\n",
       "      <th>user</th>\n",
       "      <th>id</th>\n",
       "      <th>created_at</th>\n",
       "      <th>confidence</th>\n",
       "      <th>sentiment</th>\n",
       "    </tr>\n",
       "  </thead>\n",
       "  <tbody>\n",
       "    <tr>\n",
       "      <th>0</th>\n",
       "      <td>@jeff_foust Rockets are ridiculously hard (sigh)</td>\n",
       "      <td>elonmusk</td>\n",
       "      <td>1364707463510040586</td>\n",
       "      <td>2021-02-24 22:43:08+00:00</td>\n",
       "      <td>0.860945</td>\n",
       "      <td>-1</td>\n",
       "    </tr>\n",
       "    <tr>\n",
       "      <th>1</th>\n",
       "      <td>@VitoTheGreat_ I love dogs &amp;amp; memes</td>\n",
       "      <td>elonmusk</td>\n",
       "      <td>1364564687396872193</td>\n",
       "      <td>2021-02-24 13:15:48+00:00</td>\n",
       "      <td>0.730632</td>\n",
       "      <td>1</td>\n",
       "    </tr>\n",
       "    <tr>\n",
       "      <th>2</th>\n",
       "      <td>@konstructivizm Hey babe 😉</td>\n",
       "      <td>elonmusk</td>\n",
       "      <td>1365122612217712642</td>\n",
       "      <td>2021-02-26 02:12:48+00:00</td>\n",
       "      <td>0.860025</td>\n",
       "      <td>1</td>\n",
       "    </tr>\n",
       "    <tr>\n",
       "      <th>3</th>\n",
       "      <td>On the actual moon</td>\n",
       "      <td>elonmusk</td>\n",
       "      <td>1364563280522453005</td>\n",
       "      <td>2021-02-24 13:10:13+00:00</td>\n",
       "      <td>0.770221</td>\n",
       "      <td>1</td>\n",
       "    </tr>\n",
       "    <tr>\n",
       "      <th>4</th>\n",
       "      <td>Literally https://t.co/XBAUqiVsPH</td>\n",
       "      <td>elonmusk</td>\n",
       "      <td>1364560733472579591</td>\n",
       "      <td>2021-02-24 13:00:05+00:00</td>\n",
       "      <td>0.552344</td>\n",
       "      <td>-1</td>\n",
       "    </tr>\n",
       "  </tbody>\n",
       "</table>\n",
       "</div>"
      ],
      "text/plain": [
       "                                               text      user  \\\n",
       "0  @jeff_foust Rockets are ridiculously hard (sigh)  elonmusk   \n",
       "1            @VitoTheGreat_ I love dogs &amp; memes  elonmusk   \n",
       "2                        @konstructivizm Hey babe 😉  elonmusk   \n",
       "3                                On the actual moon  elonmusk   \n",
       "4                 Literally https://t.co/XBAUqiVsPH  elonmusk   \n",
       "\n",
       "                    id                created_at  confidence  sentiment  \n",
       "0  1364707463510040586 2021-02-24 22:43:08+00:00    0.860945         -1  \n",
       "1  1364564687396872193 2021-02-24 13:15:48+00:00    0.730632          1  \n",
       "2  1365122612217712642 2021-02-26 02:12:48+00:00    0.860025          1  \n",
       "3  1364563280522453005 2021-02-24 13:10:13+00:00    0.770221          1  \n",
       "4  1364560733472579591 2021-02-24 13:00:05+00:00    0.552344         -1  "
      ]
     },
     "execution_count": 7,
     "metadata": {},
     "output_type": "execute_result"
    }
   ],
   "source": [
    "df_g = df_s.copy()\n",
    "df_g_sentiment = df_s.groupby(['user', pd.Grouper(key='created_at', freq='D')])['sentiment'].sum().reset_index(name ='sentiment')\n",
    "df_g.head()\n",
    "# df_g.describe()"
   ]
  },
  {
   "cell_type": "code",
   "execution_count": 8,
   "metadata": {},
   "outputs": [
    {
     "data": {
      "text/html": [
       "<div>\n",
       "<style scoped>\n",
       "    .dataframe tbody tr th:only-of-type {\n",
       "        vertical-align: middle;\n",
       "    }\n",
       "\n",
       "    .dataframe tbody tr th {\n",
       "        vertical-align: top;\n",
       "    }\n",
       "\n",
       "    .dataframe thead th {\n",
       "        text-align: right;\n",
       "    }\n",
       "</style>\n",
       "<table border=\"1\" class=\"dataframe\">\n",
       "  <thead>\n",
       "    <tr style=\"text-align: right;\">\n",
       "      <th></th>\n",
       "      <th>user</th>\n",
       "      <th>created_at</th>\n",
       "      <th>sentiment</th>\n",
       "    </tr>\n",
       "  </thead>\n",
       "  <tbody>\n",
       "    <tr>\n",
       "      <th>0</th>\n",
       "      <td>AndrewYang</td>\n",
       "      <td>2021-02-21 00:00:00+00:00</td>\n",
       "      <td>0</td>\n",
       "    </tr>\n",
       "    <tr>\n",
       "      <th>1</th>\n",
       "      <td>AndrewYang</td>\n",
       "      <td>2021-02-22 00:00:00+00:00</td>\n",
       "      <td>8</td>\n",
       "    </tr>\n",
       "    <tr>\n",
       "      <th>2</th>\n",
       "      <td>AndrewYang</td>\n",
       "      <td>2021-02-23 00:00:00+00:00</td>\n",
       "      <td>11</td>\n",
       "    </tr>\n",
       "    <tr>\n",
       "      <th>3</th>\n",
       "      <td>AndrewYang</td>\n",
       "      <td>2021-02-24 00:00:00+00:00</td>\n",
       "      <td>10</td>\n",
       "    </tr>\n",
       "    <tr>\n",
       "      <th>4</th>\n",
       "      <td>AndrewYang</td>\n",
       "      <td>2021-02-25 00:00:00+00:00</td>\n",
       "      <td>7</td>\n",
       "    </tr>\n",
       "  </tbody>\n",
       "</table>\n",
       "</div>"
      ],
      "text/plain": [
       "         user                created_at  sentiment\n",
       "0  AndrewYang 2021-02-21 00:00:00+00:00          0\n",
       "1  AndrewYang 2021-02-22 00:00:00+00:00          8\n",
       "2  AndrewYang 2021-02-23 00:00:00+00:00         11\n",
       "3  AndrewYang 2021-02-24 00:00:00+00:00         10\n",
       "4  AndrewYang 2021-02-25 00:00:00+00:00          7"
      ]
     },
     "execution_count": 8,
     "metadata": {},
     "output_type": "execute_result"
    }
   ],
   "source": [
    "df_g_sentiment.head()"
   ]
  },
  {
   "cell_type": "code",
   "execution_count": 9,
   "metadata": {},
   "outputs": [
    {
     "data": {
      "text/html": [
       "<div>\n",
       "<style scoped>\n",
       "    .dataframe tbody tr th:only-of-type {\n",
       "        vertical-align: middle;\n",
       "    }\n",
       "\n",
       "    .dataframe tbody tr th {\n",
       "        vertical-align: top;\n",
       "    }\n",
       "\n",
       "    .dataframe thead th {\n",
       "        text-align: right;\n",
       "    }\n",
       "</style>\n",
       "<table border=\"1\" class=\"dataframe\">\n",
       "  <thead>\n",
       "    <tr style=\"text-align: right;\">\n",
       "      <th></th>\n",
       "      <th>user</th>\n",
       "      <th>sentiment</th>\n",
       "      <th>count</th>\n",
       "    </tr>\n",
       "  </thead>\n",
       "  <tbody>\n",
       "    <tr>\n",
       "      <th>0</th>\n",
       "      <td>AndrewYang</td>\n",
       "      <td>Negative</td>\n",
       "      <td>26</td>\n",
       "    </tr>\n",
       "    <tr>\n",
       "      <th>1</th>\n",
       "      <td>AndrewYang</td>\n",
       "      <td>Positive</td>\n",
       "      <td>74</td>\n",
       "    </tr>\n",
       "    <tr>\n",
       "      <th>2</th>\n",
       "      <td>CNN</td>\n",
       "      <td>Negative</td>\n",
       "      <td>51</td>\n",
       "    </tr>\n",
       "    <tr>\n",
       "      <th>3</th>\n",
       "      <td>CNN</td>\n",
       "      <td>Positive</td>\n",
       "      <td>124</td>\n",
       "    </tr>\n",
       "    <tr>\n",
       "      <th>4</th>\n",
       "      <td>DonaldJTrumpJr</td>\n",
       "      <td>Negative</td>\n",
       "      <td>22</td>\n",
       "    </tr>\n",
       "  </tbody>\n",
       "</table>\n",
       "</div>"
      ],
      "text/plain": [
       "             user sentiment  count\n",
       "0      AndrewYang  Negative     26\n",
       "1      AndrewYang  Positive     74\n",
       "2             CNN  Negative     51\n",
       "3             CNN  Positive    124\n",
       "4  DonaldJTrumpJr  Negative     22"
      ]
     },
     "execution_count": 9,
     "metadata": {},
     "output_type": "execute_result"
    }
   ],
   "source": [
    "# fig, ax = plt.subplots(figsize=(30,10))\n",
    "cdm = {\"Positive\": \"Blue\", \"Negative\": \"Red\"}\n",
    "co ={\"sentiment\": [\"Positive\", \"Negative\"]}\n",
    "df_user_sum = df.groupby(['user', 'sentiment'])['sentiment'].count().reset_index(name='count')\n",
    "fig = px.bar(df_user_sum, x=\"user\", y=\"count\",color=\"sentiment\", title=\"User Total\", category_orders=co)\n",
    "url = py.plot(fig, filename='user_tweets')\n",
    "df_user_sum.head()"
   ]
  },
  {
   "cell_type": "markdown",
   "metadata": {},
   "source": [
    "### Specific User analysis"
   ]
  },
  {
   "cell_type": "code",
   "execution_count": 10,
   "metadata": {},
   "outputs": [
    {
     "data": {
      "text/plain": [
       "11"
      ]
     },
     "execution_count": 10,
     "metadata": {},
     "output_type": "execute_result"
    }
   ],
   "source": [
    "user = random.choice(df.user.unique())\n",
    "df_u = df_s[df_s['user']==user].groupby(['user', pd.Grouper(key='created_at', freq='H')])['sentiment'].sum().reset_index(name='sum')\n",
    "df_u['sentiment'] = df_u['sum'].apply(lambda x: \"Negative\" if x < 0 else \"Positive\")\n",
    "len(df_u['sentiment'])"
   ]
  },
  {
   "cell_type": "code",
   "execution_count": 11,
   "metadata": {},
   "outputs": [],
   "source": [
    "fig = px.bar(df_u, x=\"created_at\", y=\"sum\", color=\"sentiment\", category_orders=co, title=f'{user}: Tweets',hover_data=df_u.columns)\n",
    "url = py.plot(fig, filename=f'{user}_bar', auto_open=False)"
   ]
  },
  {
   "cell_type": "code",
   "execution_count": 12,
   "metadata": {},
   "outputs": [
    {
     "name": "stdout",
     "output_type": "stream",
     "text": [
      "https://plotly.com/~arhanna/40/\n"
     ]
    }
   ],
   "source": [
    "print(url)"
   ]
  },
  {
   "cell_type": "code",
   "execution_count": null,
   "metadata": {},
   "outputs": [],
   "source": []
  }
 ],
 "metadata": {
  "kernelspec": {
   "display_name": "Python 3",
   "language": "python",
   "name": "python3"
  },
  "language_info": {
   "codemirror_mode": {
    "name": "ipython",
    "version": 3
   },
   "file_extension": ".py",
   "mimetype": "text/x-python",
   "name": "python",
   "nbconvert_exporter": "python",
   "pygments_lexer": "ipython3",
   "version": "3.8.5"
  }
 },
 "nbformat": 4,
 "nbformat_minor": 4
}
