{
 "cells": [
  {
   "cell_type": "code",
   "execution_count": 1,
   "metadata": {},
   "outputs": [],
   "source": [
    "import pandas as pd\n",
    "import numpy as np\n",
    "import pickle\n",
    "from sklearn.model_selection import train_test_split\n",
    "\n",
    "from sklearn.feature_extraction.text import CountVectorizer, TfidfVectorizer\n",
    "from sklearn.linear_model import LogisticRegression\n",
    "\n",
    "import scipy.sparse\n",
    "\n",
    "from nltk.tokenize import TweetTokenizer"
   ]
  },
  {
   "cell_type": "code",
   "execution_count": 2,
   "metadata": {},
   "outputs": [],
   "source": [
    "tweetTokenizer = TweetTokenizer(strip_handles=True, preserve_case=False)"
   ]
  },
  {
   "cell_type": "markdown",
   "metadata": {},
   "source": [
    "# Data Loading Stage + Pre-processing"
   ]
  },
  {
   "cell_type": "code",
   "execution_count": 3,
   "metadata": {},
   "outputs": [],
   "source": [
    "# From https://www.kaggle.com/kazanova/sentiment140\n",
    "# Added custom column header line to the csv after download\n",
    "df = pd.read_csv('training.1600000.processed.noemoticon.csv', encoding='latin-1', header=None)\n",
    "df.columns = ['target','ids','date','flag','user','text']"
   ]
  },
  {
   "cell_type": "code",
   "execution_count": 4,
   "metadata": {},
   "outputs": [
    {
     "data": {
      "text/html": [
       "<div>\n",
       "<style scoped>\n",
       "    .dataframe tbody tr th:only-of-type {\n",
       "        vertical-align: middle;\n",
       "    }\n",
       "\n",
       "    .dataframe tbody tr th {\n",
       "        vertical-align: top;\n",
       "    }\n",
       "\n",
       "    .dataframe thead th {\n",
       "        text-align: right;\n",
       "    }\n",
       "</style>\n",
       "<table border=\"1\" class=\"dataframe\">\n",
       "  <thead>\n",
       "    <tr style=\"text-align: right;\">\n",
       "      <th></th>\n",
       "      <th>target</th>\n",
       "      <th>ids</th>\n",
       "      <th>date</th>\n",
       "      <th>flag</th>\n",
       "      <th>user</th>\n",
       "      <th>text</th>\n",
       "    </tr>\n",
       "  </thead>\n",
       "  <tbody>\n",
       "    <tr>\n",
       "      <th>0</th>\n",
       "      <td>0</td>\n",
       "      <td>1467810369</td>\n",
       "      <td>Mon Apr 06 22:19:45 PDT 2009</td>\n",
       "      <td>NO_QUERY</td>\n",
       "      <td>_TheSpecialOne_</td>\n",
       "      <td>@switchfoot http://twitpic.com/2y1zl - Awww, t...</td>\n",
       "    </tr>\n",
       "    <tr>\n",
       "      <th>1</th>\n",
       "      <td>0</td>\n",
       "      <td>1467810672</td>\n",
       "      <td>Mon Apr 06 22:19:49 PDT 2009</td>\n",
       "      <td>NO_QUERY</td>\n",
       "      <td>scotthamilton</td>\n",
       "      <td>is upset that he can't update his Facebook by ...</td>\n",
       "    </tr>\n",
       "    <tr>\n",
       "      <th>2</th>\n",
       "      <td>0</td>\n",
       "      <td>1467810917</td>\n",
       "      <td>Mon Apr 06 22:19:53 PDT 2009</td>\n",
       "      <td>NO_QUERY</td>\n",
       "      <td>mattycus</td>\n",
       "      <td>@Kenichan I dived many times for the ball. Man...</td>\n",
       "    </tr>\n",
       "    <tr>\n",
       "      <th>3</th>\n",
       "      <td>0</td>\n",
       "      <td>1467811184</td>\n",
       "      <td>Mon Apr 06 22:19:57 PDT 2009</td>\n",
       "      <td>NO_QUERY</td>\n",
       "      <td>ElleCTF</td>\n",
       "      <td>my whole body feels itchy and like its on fire</td>\n",
       "    </tr>\n",
       "    <tr>\n",
       "      <th>4</th>\n",
       "      <td>0</td>\n",
       "      <td>1467811193</td>\n",
       "      <td>Mon Apr 06 22:19:57 PDT 2009</td>\n",
       "      <td>NO_QUERY</td>\n",
       "      <td>Karoli</td>\n",
       "      <td>@nationwideclass no, it's not behaving at all....</td>\n",
       "    </tr>\n",
       "    <tr>\n",
       "      <th>5</th>\n",
       "      <td>0</td>\n",
       "      <td>1467811372</td>\n",
       "      <td>Mon Apr 06 22:20:00 PDT 2009</td>\n",
       "      <td>NO_QUERY</td>\n",
       "      <td>joy_wolf</td>\n",
       "      <td>@Kwesidei not the whole crew</td>\n",
       "    </tr>\n",
       "    <tr>\n",
       "      <th>6</th>\n",
       "      <td>0</td>\n",
       "      <td>1467811592</td>\n",
       "      <td>Mon Apr 06 22:20:03 PDT 2009</td>\n",
       "      <td>NO_QUERY</td>\n",
       "      <td>mybirch</td>\n",
       "      <td>Need a hug</td>\n",
       "    </tr>\n",
       "    <tr>\n",
       "      <th>7</th>\n",
       "      <td>0</td>\n",
       "      <td>1467811594</td>\n",
       "      <td>Mon Apr 06 22:20:03 PDT 2009</td>\n",
       "      <td>NO_QUERY</td>\n",
       "      <td>coZZ</td>\n",
       "      <td>@LOLTrish hey  long time no see! Yes.. Rains a...</td>\n",
       "    </tr>\n",
       "    <tr>\n",
       "      <th>8</th>\n",
       "      <td>0</td>\n",
       "      <td>1467811795</td>\n",
       "      <td>Mon Apr 06 22:20:05 PDT 2009</td>\n",
       "      <td>NO_QUERY</td>\n",
       "      <td>2Hood4Hollywood</td>\n",
       "      <td>@Tatiana_K nope they didn't have it</td>\n",
       "    </tr>\n",
       "    <tr>\n",
       "      <th>9</th>\n",
       "      <td>0</td>\n",
       "      <td>1467812025</td>\n",
       "      <td>Mon Apr 06 22:20:09 PDT 2009</td>\n",
       "      <td>NO_QUERY</td>\n",
       "      <td>mimismo</td>\n",
       "      <td>@twittera que me muera ?</td>\n",
       "    </tr>\n",
       "  </tbody>\n",
       "</table>\n",
       "</div>"
      ],
      "text/plain": [
       "   target         ids                          date      flag  \\\n",
       "0       0  1467810369  Mon Apr 06 22:19:45 PDT 2009  NO_QUERY   \n",
       "1       0  1467810672  Mon Apr 06 22:19:49 PDT 2009  NO_QUERY   \n",
       "2       0  1467810917  Mon Apr 06 22:19:53 PDT 2009  NO_QUERY   \n",
       "3       0  1467811184  Mon Apr 06 22:19:57 PDT 2009  NO_QUERY   \n",
       "4       0  1467811193  Mon Apr 06 22:19:57 PDT 2009  NO_QUERY   \n",
       "5       0  1467811372  Mon Apr 06 22:20:00 PDT 2009  NO_QUERY   \n",
       "6       0  1467811592  Mon Apr 06 22:20:03 PDT 2009  NO_QUERY   \n",
       "7       0  1467811594  Mon Apr 06 22:20:03 PDT 2009  NO_QUERY   \n",
       "8       0  1467811795  Mon Apr 06 22:20:05 PDT 2009  NO_QUERY   \n",
       "9       0  1467812025  Mon Apr 06 22:20:09 PDT 2009  NO_QUERY   \n",
       "\n",
       "              user                                               text  \n",
       "0  _TheSpecialOne_  @switchfoot http://twitpic.com/2y1zl - Awww, t...  \n",
       "1    scotthamilton  is upset that he can't update his Facebook by ...  \n",
       "2         mattycus  @Kenichan I dived many times for the ball. Man...  \n",
       "3          ElleCTF    my whole body feels itchy and like its on fire   \n",
       "4           Karoli  @nationwideclass no, it's not behaving at all....  \n",
       "5         joy_wolf                      @Kwesidei not the whole crew   \n",
       "6          mybirch                                        Need a hug   \n",
       "7             coZZ  @LOLTrish hey  long time no see! Yes.. Rains a...  \n",
       "8  2Hood4Hollywood               @Tatiana_K nope they didn't have it   \n",
       "9          mimismo                          @twittera que me muera ?   "
      ]
     },
     "execution_count": 4,
     "metadata": {},
     "output_type": "execute_result"
    }
   ],
   "source": [
    "df.head(10)"
   ]
  },
  {
   "cell_type": "code",
   "execution_count": 5,
   "metadata": {},
   "outputs": [
    {
     "data": {
      "text/html": [
       "<div>\n",
       "<style scoped>\n",
       "    .dataframe tbody tr th:only-of-type {\n",
       "        vertical-align: middle;\n",
       "    }\n",
       "\n",
       "    .dataframe tbody tr th {\n",
       "        vertical-align: top;\n",
       "    }\n",
       "\n",
       "    .dataframe thead th {\n",
       "        text-align: right;\n",
       "    }\n",
       "</style>\n",
       "<table border=\"1\" class=\"dataframe\">\n",
       "  <thead>\n",
       "    <tr style=\"text-align: right;\">\n",
       "      <th></th>\n",
       "      <th>target</th>\n",
       "      <th>text</th>\n",
       "    </tr>\n",
       "  </thead>\n",
       "  <tbody>\n",
       "    <tr>\n",
       "      <th>0</th>\n",
       "      <td>0</td>\n",
       "      <td>@switchfoot http://twitpic.com/2y1zl - Awww, t...</td>\n",
       "    </tr>\n",
       "    <tr>\n",
       "      <th>1</th>\n",
       "      <td>0</td>\n",
       "      <td>is upset that he can't update his Facebook by ...</td>\n",
       "    </tr>\n",
       "    <tr>\n",
       "      <th>2</th>\n",
       "      <td>0</td>\n",
       "      <td>@Kenichan I dived many times for the ball. Man...</td>\n",
       "    </tr>\n",
       "    <tr>\n",
       "      <th>3</th>\n",
       "      <td>0</td>\n",
       "      <td>my whole body feels itchy and like its on fire</td>\n",
       "    </tr>\n",
       "    <tr>\n",
       "      <th>4</th>\n",
       "      <td>0</td>\n",
       "      <td>@nationwideclass no, it's not behaving at all....</td>\n",
       "    </tr>\n",
       "    <tr>\n",
       "      <th>...</th>\n",
       "      <td>...</td>\n",
       "      <td>...</td>\n",
       "    </tr>\n",
       "    <tr>\n",
       "      <th>1599995</th>\n",
       "      <td>4</td>\n",
       "      <td>Just woke up. Having no school is the best fee...</td>\n",
       "    </tr>\n",
       "    <tr>\n",
       "      <th>1599996</th>\n",
       "      <td>4</td>\n",
       "      <td>TheWDB.com - Very cool to hear old Walt interv...</td>\n",
       "    </tr>\n",
       "    <tr>\n",
       "      <th>1599997</th>\n",
       "      <td>4</td>\n",
       "      <td>Are you ready for your MoJo Makeover? Ask me f...</td>\n",
       "    </tr>\n",
       "    <tr>\n",
       "      <th>1599998</th>\n",
       "      <td>4</td>\n",
       "      <td>Happy 38th Birthday to my boo of alll time!!! ...</td>\n",
       "    </tr>\n",
       "    <tr>\n",
       "      <th>1599999</th>\n",
       "      <td>4</td>\n",
       "      <td>happy #charitytuesday @theNSPCC @SparksCharity...</td>\n",
       "    </tr>\n",
       "  </tbody>\n",
       "</table>\n",
       "<p>1600000 rows × 2 columns</p>\n",
       "</div>"
      ],
      "text/plain": [
       "         target                                               text\n",
       "0             0  @switchfoot http://twitpic.com/2y1zl - Awww, t...\n",
       "1             0  is upset that he can't update his Facebook by ...\n",
       "2             0  @Kenichan I dived many times for the ball. Man...\n",
       "3             0    my whole body feels itchy and like its on fire \n",
       "4             0  @nationwideclass no, it's not behaving at all....\n",
       "...         ...                                                ...\n",
       "1599995       4  Just woke up. Having no school is the best fee...\n",
       "1599996       4  TheWDB.com - Very cool to hear old Walt interv...\n",
       "1599997       4  Are you ready for your MoJo Makeover? Ask me f...\n",
       "1599998       4  Happy 38th Birthday to my boo of alll time!!! ...\n",
       "1599999       4  happy #charitytuesday @theNSPCC @SparksCharity...\n",
       "\n",
       "[1600000 rows x 2 columns]"
      ]
     },
     "execution_count": 5,
     "metadata": {},
     "output_type": "execute_result"
    }
   ],
   "source": [
    "final_large_df = df.drop(['ids', 'date', 'flag', 'user'], axis=1) # drop cols that aren't useful for our model\n",
    "final_large_df"
   ]
  },
  {
   "cell_type": "code",
   "execution_count": 6,
   "metadata": {},
   "outputs": [
    {
     "name": "stdout",
     "output_type": "stream",
     "text": [
      "Number of Negative Sentiment Tweets: 800000\n",
      "Number of Neutral Sentiment Tweets: 0\n",
      "Number of Positive Sentiment Tweets: 800000\n"
     ]
    }
   ],
   "source": [
    "print('Number of Negative Sentiment Tweets:', len(final_large_df[final_large_df['target'] == 0]))\n",
    "print('Number of Neutral Sentiment Tweets:', len(final_large_df[final_large_df['target'] == 2]))\n",
    "print('Number of Positive Sentiment Tweets:', len(final_large_df[final_large_df['target'] == 4]))"
   ]
  },
  {
   "cell_type": "markdown",
   "metadata": {},
   "source": [
    "### Notice no neutral sentiment data and way too much data!"
   ]
  },
  {
   "cell_type": "code",
   "execution_count": 7,
   "metadata": {},
   "outputs": [],
   "source": [
    "final_large_df.target = final_large_df.target / 4 # convert the target column to 0 and 1 labels where 1 is positive"
   ]
  },
  {
   "cell_type": "code",
   "execution_count": 8,
   "metadata": {},
   "outputs": [
    {
     "data": {
      "text/html": [
       "<div>\n",
       "<style scoped>\n",
       "    .dataframe tbody tr th:only-of-type {\n",
       "        vertical-align: middle;\n",
       "    }\n",
       "\n",
       "    .dataframe tbody tr th {\n",
       "        vertical-align: top;\n",
       "    }\n",
       "\n",
       "    .dataframe thead th {\n",
       "        text-align: right;\n",
       "    }\n",
       "</style>\n",
       "<table border=\"1\" class=\"dataframe\">\n",
       "  <thead>\n",
       "    <tr style=\"text-align: right;\">\n",
       "      <th></th>\n",
       "      <th>target</th>\n",
       "      <th>text</th>\n",
       "    </tr>\n",
       "  </thead>\n",
       "  <tbody>\n",
       "    <tr>\n",
       "      <th>0</th>\n",
       "      <td>0.0</td>\n",
       "      <td>@switchfoot http://twitpic.com/2y1zl - Awww, t...</td>\n",
       "    </tr>\n",
       "    <tr>\n",
       "      <th>1</th>\n",
       "      <td>0.0</td>\n",
       "      <td>is upset that he can't update his Facebook by ...</td>\n",
       "    </tr>\n",
       "    <tr>\n",
       "      <th>2</th>\n",
       "      <td>0.0</td>\n",
       "      <td>@Kenichan I dived many times for the ball. Man...</td>\n",
       "    </tr>\n",
       "    <tr>\n",
       "      <th>3</th>\n",
       "      <td>0.0</td>\n",
       "      <td>my whole body feels itchy and like its on fire</td>\n",
       "    </tr>\n",
       "    <tr>\n",
       "      <th>4</th>\n",
       "      <td>0.0</td>\n",
       "      <td>@nationwideclass no, it's not behaving at all....</td>\n",
       "    </tr>\n",
       "    <tr>\n",
       "      <th>...</th>\n",
       "      <td>...</td>\n",
       "      <td>...</td>\n",
       "    </tr>\n",
       "    <tr>\n",
       "      <th>1599995</th>\n",
       "      <td>1.0</td>\n",
       "      <td>Just woke up. Having no school is the best fee...</td>\n",
       "    </tr>\n",
       "    <tr>\n",
       "      <th>1599996</th>\n",
       "      <td>1.0</td>\n",
       "      <td>TheWDB.com - Very cool to hear old Walt interv...</td>\n",
       "    </tr>\n",
       "    <tr>\n",
       "      <th>1599997</th>\n",
       "      <td>1.0</td>\n",
       "      <td>Are you ready for your MoJo Makeover? Ask me f...</td>\n",
       "    </tr>\n",
       "    <tr>\n",
       "      <th>1599998</th>\n",
       "      <td>1.0</td>\n",
       "      <td>Happy 38th Birthday to my boo of alll time!!! ...</td>\n",
       "    </tr>\n",
       "    <tr>\n",
       "      <th>1599999</th>\n",
       "      <td>1.0</td>\n",
       "      <td>happy #charitytuesday @theNSPCC @SparksCharity...</td>\n",
       "    </tr>\n",
       "  </tbody>\n",
       "</table>\n",
       "<p>1600000 rows × 2 columns</p>\n",
       "</div>"
      ],
      "text/plain": [
       "         target                                               text\n",
       "0           0.0  @switchfoot http://twitpic.com/2y1zl - Awww, t...\n",
       "1           0.0  is upset that he can't update his Facebook by ...\n",
       "2           0.0  @Kenichan I dived many times for the ball. Man...\n",
       "3           0.0    my whole body feels itchy and like its on fire \n",
       "4           0.0  @nationwideclass no, it's not behaving at all....\n",
       "...         ...                                                ...\n",
       "1599995     1.0  Just woke up. Having no school is the best fee...\n",
       "1599996     1.0  TheWDB.com - Very cool to hear old Walt interv...\n",
       "1599997     1.0  Are you ready for your MoJo Makeover? Ask me f...\n",
       "1599998     1.0  Happy 38th Birthday to my boo of alll time!!! ...\n",
       "1599999     1.0  happy #charitytuesday @theNSPCC @SparksCharity...\n",
       "\n",
       "[1600000 rows x 2 columns]"
      ]
     },
     "execution_count": 8,
     "metadata": {},
     "output_type": "execute_result"
    }
   ],
   "source": [
    "final_large_df"
   ]
  },
  {
   "cell_type": "code",
   "execution_count": 9,
   "metadata": {},
   "outputs": [],
   "source": [
    "final_df = final_large_df.sample(800000)\n",
    "del final_large_df, df"
   ]
  },
  {
   "cell_type": "code",
   "execution_count": 10,
   "metadata": {},
   "outputs": [
    {
     "data": {
      "text/html": [
       "<div>\n",
       "<style scoped>\n",
       "    .dataframe tbody tr th:only-of-type {\n",
       "        vertical-align: middle;\n",
       "    }\n",
       "\n",
       "    .dataframe tbody tr th {\n",
       "        vertical-align: top;\n",
       "    }\n",
       "\n",
       "    .dataframe thead th {\n",
       "        text-align: right;\n",
       "    }\n",
       "</style>\n",
       "<table border=\"1\" class=\"dataframe\">\n",
       "  <thead>\n",
       "    <tr style=\"text-align: right;\">\n",
       "      <th></th>\n",
       "      <th>target</th>\n",
       "      <th>text</th>\n",
       "    </tr>\n",
       "  </thead>\n",
       "  <tbody>\n",
       "    <tr>\n",
       "      <th>1552753</th>\n",
       "      <td>1.0</td>\n",
       "      <td>good morning twitter!</td>\n",
       "    </tr>\n",
       "    <tr>\n",
       "      <th>1195104</th>\n",
       "      <td>1.0</td>\n",
       "      <td>@etvthetrainer It's cool bro... I had your bac...</td>\n",
       "    </tr>\n",
       "    <tr>\n",
       "      <th>151484</th>\n",
       "      <td>0.0</td>\n",
       "      <td>Finally saw Star Trek, It was good. Had some s...</td>\n",
       "    </tr>\n",
       "    <tr>\n",
       "      <th>151130</th>\n",
       "      <td>0.0</td>\n",
       "      <td>ughh headached</td>\n",
       "    </tr>\n",
       "    <tr>\n",
       "      <th>77189</th>\n",
       "      <td>0.0</td>\n",
       "      <td>eating toast and hoping I'm not gonna be sick ...</td>\n",
       "    </tr>\n",
       "    <tr>\n",
       "      <th>...</th>\n",
       "      <td>...</td>\n",
       "      <td>...</td>\n",
       "    </tr>\n",
       "    <tr>\n",
       "      <th>97397</th>\n",
       "      <td>0.0</td>\n",
       "      <td>ugghhh.. i have a headache</td>\n",
       "    </tr>\n",
       "    <tr>\n",
       "      <th>1289824</th>\n",
       "      <td>1.0</td>\n",
       "      <td>@Strok Have fun on the sleeper</td>\n",
       "    </tr>\n",
       "    <tr>\n",
       "      <th>290325</th>\n",
       "      <td>0.0</td>\n",
       "      <td>I didn't watch MTV MA  sucks..</td>\n",
       "    </tr>\n",
       "    <tr>\n",
       "      <th>412779</th>\n",
       "      <td>0.0</td>\n",
       "      <td>PS. i'm like 2 shades darker now after playing...</td>\n",
       "    </tr>\n",
       "    <tr>\n",
       "      <th>767874</th>\n",
       "      <td>0.0</td>\n",
       "      <td>@tiggababz wooopppp  and yerr they do. i was l...</td>\n",
       "    </tr>\n",
       "  </tbody>\n",
       "</table>\n",
       "<p>800000 rows × 2 columns</p>\n",
       "</div>"
      ],
      "text/plain": [
       "         target                                               text\n",
       "1552753     1.0                             good morning twitter! \n",
       "1195104     1.0  @etvthetrainer It's cool bro... I had your bac...\n",
       "151484      0.0  Finally saw Star Trek, It was good. Had some s...\n",
       "151130      0.0                                    ughh headached \n",
       "77189       0.0  eating toast and hoping I'm not gonna be sick ...\n",
       "...         ...                                                ...\n",
       "97397       0.0                        ugghhh.. i have a headache \n",
       "1289824     1.0                    @Strok Have fun on the sleeper \n",
       "290325      0.0                     I didn't watch MTV MA  sucks..\n",
       "412779      0.0  PS. i'm like 2 shades darker now after playing...\n",
       "767874      0.0  @tiggababz wooopppp  and yerr they do. i was l...\n",
       "\n",
       "[800000 rows x 2 columns]"
      ]
     },
     "execution_count": 10,
     "metadata": {},
     "output_type": "execute_result"
    }
   ],
   "source": [
    "final_df"
   ]
  },
  {
   "cell_type": "markdown",
   "metadata": {},
   "source": [
    "### Split into Training and Test Splits for Model Evaluation"
   ]
  },
  {
   "cell_type": "code",
   "execution_count": 11,
   "metadata": {},
   "outputs": [],
   "source": [
    "train_df, test_df = train_test_split(final_df, test_size=0.20)"
   ]
  },
  {
   "cell_type": "code",
   "execution_count": 12,
   "metadata": {},
   "outputs": [
    {
     "name": "stdout",
     "output_type": "stream",
     "text": [
      "Training Set Stats:\n",
      "Size of Training Set: 640000\n",
      "Number of Negative Sentiment Tweets: 319778\n",
      "Number of Positive Sentiment Tweets: 320222\n"
     ]
    }
   ],
   "source": [
    "print('Training Set Stats:')\n",
    "print('Size of Training Set:', len(train_df))\n",
    "print('Number of Negative Sentiment Tweets:', len(train_df[train_df['target'] == 0]))\n",
    "print('Number of Positive Sentiment Tweets:', len(train_df[train_df['target'] == 1]))"
   ]
  },
  {
   "cell_type": "code",
   "execution_count": 13,
   "metadata": {},
   "outputs": [
    {
     "name": "stdout",
     "output_type": "stream",
     "text": [
      "Test Set Stats:\n",
      "Size of Test Set: 160000\n",
      "Number of Negative Sentiment Tweets: 80040\n",
      "Number of Positive Sentiment Tweets: 79960\n"
     ]
    }
   ],
   "source": [
    "print('Test Set Stats:')\n",
    "print('Size of Test Set:', len(test_df))\n",
    "print('Number of Negative Sentiment Tweets:', len(test_df[test_df['target'] == 0]))\n",
    "print('Number of Positive Sentiment Tweets:', len(test_df[test_df['target'] == 1]))"
   ]
  },
  {
   "cell_type": "markdown",
   "metadata": {},
   "source": [
    "# Count-Vectorizer Model "
   ]
  },
  {
   "cell_type": "code",
   "execution_count": 14,
   "metadata": {},
   "outputs": [],
   "source": [
    "count_vectorizer = CountVectorizer(stop_words='english', max_features=200000, tokenizer=tweetTokenizer.tokenize, ngram_range=(1,3))\n",
    "X_train = count_vectorizer.fit_transform([entry['text'] for i, entry in train_df.iterrows()])\n",
    "Y_train = np.array([int(entry['target']) for i, entry in train_df.iterrows()])\n",
    "\n",
    "X_test = count_vectorizer.transform([entry['text'] for i, entry in test_df.iterrows()])\n",
    "Y_test = np.array([int(entry['target']) for i, entry in test_df.iterrows()])"
   ]
  },
  {
   "cell_type": "code",
   "execution_count": 15,
   "metadata": {},
   "outputs": [
    {
     "data": {
      "text/plain": [
       "LogisticRegression(C=0.1, max_iter=15000)"
      ]
     },
     "execution_count": 15,
     "metadata": {},
     "output_type": "execute_result"
    }
   ],
   "source": [
    "count_vect_model = LogisticRegression(C = 0.1, max_iter=15000)\n",
    "count_vect_model.fit(X_train, Y_train)"
   ]
  },
  {
   "cell_type": "code",
   "execution_count": 16,
   "metadata": {},
   "outputs": [
    {
     "name": "stdout",
     "output_type": "stream",
     "text": [
      "Training Accuracy: 0.8215390625\n",
      "Testing Accuracy: 0.78840625\n"
     ]
    }
   ],
   "source": [
    "print(f'Training Accuracy: {np.mean(count_vect_model.predict(X_train) == Y_train)}')\n",
    "print(f'Testing Accuracy: {np.mean(count_vect_model.predict(X_test) == Y_test)}')"
   ]
  },
  {
   "cell_type": "code",
   "execution_count": 17,
   "metadata": {},
   "outputs": [],
   "source": [
    "# Write everything to files\n",
    "pickle.dump(count_vectorizer, open('count_vectorizer.pickle', 'wb'))\n",
    "pickle.dump(count_vect_model, open('count_vect_model.pickle', 'wb'))\n",
    "scipy.sparse.save_npz('count_vect_X_train.npz', X_train)\n",
    "np.save('count_vect_Y_train.npy', Y_train)\n",
    "scipy.sparse.save_npz('count_vect_X_test.npz', X_test)\n",
    "np.save('count_vect_Y_test.npy', Y_test)"
   ]
  },
  {
   "cell_type": "code",
   "execution_count": 18,
   "metadata": {},
   "outputs": [
    {
     "name": "stdout",
     "output_type": "stream",
     "text": [
      "Pickled Training Accuracy: 0.8215390625\n",
      "Pickled Testing Accuracy: 0.78840625\n"
     ]
    }
   ],
   "source": [
    "# Test that pickling is working\n",
    "read_vect = pickle.load(open('count_vectorizer.pickle', 'rb'))\n",
    "read_model = pickle.load(open('count_vect_model.pickle', 'rb'))\n",
    "\n",
    "read_X_train = scipy.sparse.load_npz('count_vect_X_train.npz')\n",
    "read_Y_train = np.load('count_vect_Y_train.npy')\n",
    "read_X_test = scipy.sparse.load_npz('count_vect_X_test.npz')\n",
    "read_Y_test = np.load('count_vect_Y_test.npy')\n",
    "print(f'Pickled Training Accuracy: {np.mean(read_model.predict(read_X_train) == read_Y_train)}')\n",
    "print(f'Pickled Testing Accuracy: {np.mean(read_model.predict(read_X_test) == read_Y_test)}')"
   ]
  },
  {
   "cell_type": "code",
   "execution_count": 19,
   "metadata": {},
   "outputs": [
    {
     "data": {
      "text/plain": [
       "0.8215390625"
      ]
     },
     "execution_count": 19,
     "metadata": {},
     "output_type": "execute_result"
    }
   ],
   "source": [
    "# Check probabilities work as expected\n",
    "np.mean(np.argmax(read_model.predict_proba(read_X_train), axis=1) == read_Y_train)"
   ]
  },
  {
   "cell_type": "markdown",
   "metadata": {},
   "source": [
    "# Tf-Idf Model"
   ]
  },
  {
   "cell_type": "code",
   "execution_count": 20,
   "metadata": {},
   "outputs": [],
   "source": [
    "tfidf_vectorizer = TfidfVectorizer(stop_words='english', max_features=200000, tokenizer=tweetTokenizer.tokenize, ngram_range=(1,3))\n",
    "X_train = tfidf_vectorizer.fit_transform([entry['text'] for i, entry in train_df.iterrows()])\n",
    "Y_train = np.array([int(entry['target']) for i, entry in train_df.iterrows()])\n",
    "\n",
    "X_test = tfidf_vectorizer.transform([entry['text'] for i, entry in test_df.iterrows()])\n",
    "Y_test = np.array([int(entry['target']) for i, entry in test_df.iterrows()])"
   ]
  },
  {
   "cell_type": "code",
   "execution_count": 21,
   "metadata": {},
   "outputs": [
    {
     "data": {
      "text/plain": [
       "LogisticRegression(C=1.5, max_iter=15000)"
      ]
     },
     "execution_count": 21,
     "metadata": {},
     "output_type": "execute_result"
    }
   ],
   "source": [
    "tfidf_model = LogisticRegression(C = 1.5, max_iter=15000)\n",
    "tfidf_model.fit(X_train, Y_train)"
   ]
  },
  {
   "cell_type": "code",
   "execution_count": 22,
   "metadata": {},
   "outputs": [
    {
     "name": "stdout",
     "output_type": "stream",
     "text": [
      "Training Accuracy: 0.8408359375\n",
      "Testing Accuracy: 0.7907375\n"
     ]
    }
   ],
   "source": [
    "print(f'Training Accuracy: {np.mean(tfidf_model.predict(X_train) == Y_train)}')\n",
    "print(f'Testing Accuracy: {np.mean(tfidf_model.predict(X_test) == Y_test)}')"
   ]
  },
  {
   "cell_type": "code",
   "execution_count": 23,
   "metadata": {},
   "outputs": [],
   "source": [
    "pickle.dump(tfidf_vectorizer, open('tfidf_vect.pickle', 'wb'))\n",
    "pickle.dump(tfidf_model, open('tfidf_model.pickle', 'wb'))\n",
    "scipy.sparse.save_npz('tfidf_vect_X_train.npz', X_train)\n",
    "np.save('tfidf_vect_Y_train.npy', Y_train)\n",
    "scipy.sparse.save_npz('tfidf_vect_X_test.npz', X_test)\n",
    "np.save('tfidf_vect_Y_test.npy', Y_test)"
   ]
  },
  {
   "cell_type": "code",
   "execution_count": 24,
   "metadata": {},
   "outputs": [
    {
     "name": "stdout",
     "output_type": "stream",
     "text": [
      "Pickled Training Accuracy: 0.8408359375\n",
      "Pickled Testing Accuracy: 0.7907375\n"
     ]
    }
   ],
   "source": [
    "# Test that pickling is working\n",
    "read_vect = pickle.load(open('tfidf_vect.pickle', 'rb'))\n",
    "read_model = pickle.load(open('tfidf_model.pickle', 'rb'))\n",
    "\n",
    "read_X_train = scipy.sparse.load_npz('tfidf_vect_X_train.npz')\n",
    "read_Y_train = np.load('tfidf_vect_Y_train.npy')\n",
    "read_X_test = scipy.sparse.load_npz('tfidf_vect_X_test.npz')\n",
    "read_Y_test = np.load('tfidf_vect_Y_test.npy')\n",
    "print(f'Pickled Training Accuracy: {np.mean(read_model.predict(read_X_train) == read_Y_train)}')\n",
    "print(f'Pickled Testing Accuracy: {np.mean(read_model.predict(read_X_test) == read_Y_test)}')"
   ]
  },
  {
   "cell_type": "markdown",
   "metadata": {},
   "source": [
    "# Model and Vectorizer Learned Information"
   ]
  },
  {
   "cell_type": "code",
   "execution_count": 25,
   "metadata": {},
   "outputs": [],
   "source": [
    "def getExtremeWords(vectorizer, model):\n",
    "    feature_names = np.array(read_vect.get_feature_names())\n",
    "    order = np.argsort(read_model.coef_)\n",
    "    \n",
    "    print(\"Top 50 Most Negative Words/Phrases in Order:\")\n",
    "    print(feature_names[order[0, :50]])\n",
    "    print()\n",
    "    print(\"Top 50 Most Positive Words/Phrases in Order:\")\n",
    "    print(feature_names[order[0, -50:]][::-1])\n",
    "    \n",
    "    return feature_names[order[0, :50]], feature_names[order[0, -50:]][::-1] # negative, positive    \n",
    "\n",
    "def predict(tweets, vectorizer, model):\n",
    "    tweet_vectors = vectorizer.transform(tweets)\n",
    "    preds = model.predict_proba(tweet_vectors)\n",
    "    returnList = []\n",
    "    for i, tweet in enumerate(tweets):\n",
    "        print(f'Tweet: {tweet}')\n",
    "        pred = \"Negative\" if np.argmax(preds[i]) == 0 else \"Positive\"\n",
    "        print(f'Prediction: {pred}')\n",
    "        print(f'Confidence of {pred} Prediction (0 to 1): {np.max(preds[i])}')\n",
    "        print()\n",
    "        returnList.append((tweet, pred, np.max(preds[i])))\n",
    "    return returnList\n",
    "\n",
    "def analyzeTweets(tweets, vectorizer, model):\n",
    "    returnList = []\n",
    "    for tweet in tweets:\n",
    "        tweetList = []\n",
    "        for word in tweet.split():\n",
    "            word = word.lower()\n",
    "            if word in vectorizer.get_feature_names():\n",
    "                index = vectorizer.get_feature_names().index(word)\n",
    "                print(f'Word: {word}, Connotation: {model.coef_[0, index]:.3f}')\n",
    "                tweetList.append((word, model.coef_[0, index]))\n",
    "            else: # not a top feature\n",
    "                print(f'Word: {word}, Connotation: {0:.3f}')\n",
    "                tweetList.append((word, 0))\n",
    "        returnList.append(tweetList)\n",
    "        print()\n",
    "    return returnList"
   ]
  },
  {
   "cell_type": "code",
   "execution_count": 26,
   "metadata": {},
   "outputs": [
    {
     "name": "stdout",
     "output_type": "stream",
     "text": [
      "Top 50 Most Negative Words/Phrases in Order:\n",
      "['sad' 'miss' 'sick' 'poor' 'missing' 'sucks' \"can't\" 'sadly' 'hurts'\n",
      " 'bummed' 'wish' 'headache' 'died' 'unfortunately' 'gutted' 'upset' 'hate'\n",
      " 'lost' 'ugh' 'cancelled' 'disappointed' 'broke' 'depressed' 'rip'\n",
      " 'missed' 'bummer' 'lonely' 'depressing' 'broken' \"didn't\" 'ruined' 'hurt'\n",
      " 'missin' 'horrible' 'misses' 'closed' 'sold' 'worst' 'disappointing'\n",
      " 'fml' 'hates' 'crying' 'sorry' 'failed' 'didnt' 'passed away' 'stuck'\n",
      " 'going miss' 'ouch' 'bad']\n",
      "\n",
      "Top 50 Most Positive Words/Phrases in Order:\n",
      "[\"can't wait\" 'wish luck' 'thank' 'thanks' 'smile' 'welcome' 'yay' 'proud'\n",
      " 'glad' 'congrats' 'awesome' \"isn't bad\" 'congratulations' 'blessed' '=('\n",
      " 'amazing' 'hehe' \"don't forget\" 'excited' 'great' 'let know'\n",
      " '#followfriday' 'love' \"doesn't mean\" 'hi' 'hello' 'pleasure' 'happy'\n",
      " \"don't feel bad\" 'feels good' 'hilarious' 'cute' \"doesn't hurt\" 'loving'\n",
      " 'hehehe' 'yummy' 'heh' 'best' 'smiling' 'nice' 'wonderful' \"don't need\"\n",
      " 'woohoo' 'sweet' 'feel free' 'life good' 'lovely' \"don't miss\"\n",
      " 'good luck' 'gotta love']\n"
     ]
    },
    {
     "data": {
      "text/plain": [
       "(array(['sad', 'miss', 'sick', 'poor', 'missing', 'sucks', \"can't\",\n",
       "        'sadly', 'hurts', 'bummed', 'wish', 'headache', 'died',\n",
       "        'unfortunately', 'gutted', 'upset', 'hate', 'lost', 'ugh',\n",
       "        'cancelled', 'disappointed', 'broke', 'depressed', 'rip', 'missed',\n",
       "        'bummer', 'lonely', 'depressing', 'broken', \"didn't\", 'ruined',\n",
       "        'hurt', 'missin', 'horrible', 'misses', 'closed', 'sold', 'worst',\n",
       "        'disappointing', 'fml', 'hates', 'crying', 'sorry', 'failed',\n",
       "        'didnt', 'passed away', 'stuck', 'going miss', 'ouch', 'bad'],\n",
       "       dtype='<U59'),\n",
       " array([\"can't wait\", 'wish luck', 'thank', 'thanks', 'smile', 'welcome',\n",
       "        'yay', 'proud', 'glad', 'congrats', 'awesome', \"isn't bad\",\n",
       "        'congratulations', 'blessed', '=(', 'amazing', 'hehe',\n",
       "        \"don't forget\", 'excited', 'great', 'let know', '#followfriday',\n",
       "        'love', \"doesn't mean\", 'hi', 'hello', 'pleasure', 'happy',\n",
       "        \"don't feel bad\", 'feels good', 'hilarious', 'cute',\n",
       "        \"doesn't hurt\", 'loving', 'hehehe', 'yummy', 'heh', 'best',\n",
       "        'smiling', 'nice', 'wonderful', \"don't need\", 'woohoo', 'sweet',\n",
       "        'feel free', 'life good', 'lovely', \"don't miss\", 'good luck',\n",
       "        'gotta love'], dtype='<U59'))"
      ]
     },
     "execution_count": 26,
     "metadata": {},
     "output_type": "execute_result"
    }
   ],
   "source": [
    "# read_vect = pickle.load(open('count_vectorizer.pickle', 'rb'))\n",
    "# read_model = pickle.load(open('count_vect_model.pickle', 'rb'))\n",
    "read_vect = pickle.load(open('tfidf_vect.pickle', 'rb'))\n",
    "read_model = pickle.load(open('tfidf_model.pickle', 'rb'))\n",
    "\n",
    "getExtremeWords(vectorizer=read_vect, model=read_model)"
   ]
  },
  {
   "cell_type": "code",
   "execution_count": 27,
   "metadata": {},
   "outputs": [
    {
     "name": "stdout",
     "output_type": "stream",
     "text": [
      "Tweet: This bag of chips is disgusting yuck\n",
      "Prediction: Negative\n",
      "Confidence of Negative Prediction (0 to 1): 0.956246861827081\n",
      "\n",
      "Tweet: i really enjoy riding my bike\n",
      "Prediction: Positive\n",
      "Confidence of Positive Prediction (0 to 1): 0.7709826743661118\n",
      "\n",
      "Tweet: it will be 70 degrees tomorrow\n",
      "Prediction: Positive\n",
      "Confidence of Positive Prediction (0 to 1): 0.6524418146486487\n",
      "\n"
     ]
    },
    {
     "data": {
      "text/plain": [
       "[('This bag of chips is disgusting yuck', 'Negative', 0.956246861827081),\n",
       " ('i really enjoy riding my bike', 'Positive', 0.7709826743661118),\n",
       " ('it will be 70 degrees tomorrow', 'Positive', 0.6524418146486487)]"
      ]
     },
     "execution_count": 27,
     "metadata": {},
     "output_type": "execute_result"
    }
   ],
   "source": [
    "tweets = ['This bag of chips is disgusting yuck', 'i really enjoy riding my bike', 'it will be 70 degrees tomorrow']\n",
    "predict(tweets, vectorizer=read_vect, model=read_model)"
   ]
  },
  {
   "cell_type": "code",
   "execution_count": 28,
   "metadata": {},
   "outputs": [
    {
     "name": "stdout",
     "output_type": "stream",
     "text": [
      "Word: this, Connotation: 0.000\n",
      "Word: bag, Connotation: -0.120\n",
      "Word: of, Connotation: 0.000\n",
      "Word: chips, Connotation: -0.022\n",
      "Word: is, Connotation: 0.000\n",
      "Word: disgusting, Connotation: -3.183\n",
      "Word: yuck, Connotation: -3.294\n",
      "\n",
      "Word: i, Connotation: 0.000\n",
      "Word: really, Connotation: -2.093\n",
      "Word: enjoy, Connotation: 3.382\n",
      "Word: riding, Connotation: 1.433\n",
      "Word: my, Connotation: 0.000\n",
      "Word: bike, Connotation: -0.039\n",
      "\n",
      "Word: it, Connotation: 0.000\n",
      "Word: will, Connotation: 0.000\n",
      "Word: be, Connotation: 0.000\n",
      "Word: 70, Connotation: 0.348\n",
      "Word: degrees, Connotation: -1.107\n",
      "Word: tomorrow, Connotation: -0.678\n",
      "\n"
     ]
    },
    {
     "data": {
      "text/plain": [
       "[[('this', 0),\n",
       "  ('bag', -0.1203894116242802),\n",
       "  ('of', 0),\n",
       "  ('chips', -0.021783181965084244),\n",
       "  ('is', 0),\n",
       "  ('disgusting', -3.1827745202146605),\n",
       "  ('yuck', -3.2939277923415817)],\n",
       " [('i', 0),\n",
       "  ('really', -2.092914940798131),\n",
       "  ('enjoy', 3.381730950190004),\n",
       "  ('riding', 1.4327370573246485),\n",
       "  ('my', 0),\n",
       "  ('bike', -0.03879990782602385)],\n",
       " [('it', 0),\n",
       "  ('will', 0),\n",
       "  ('be', 0),\n",
       "  ('70', 0.34848290843005564),\n",
       "  ('degrees', -1.1068396914910374),\n",
       "  ('tomorrow', -0.6779486903221125)]]"
      ]
     },
     "execution_count": 28,
     "metadata": {},
     "output_type": "execute_result"
    }
   ],
   "source": [
    "analyzeTweets(tweets, vectorizer=read_vect, model=read_model)"
   ]
  },
  {
   "cell_type": "markdown",
   "metadata": {},
   "source": [
    "# Word2Vec Model \n",
    "### Generate similarity scores of words for visualization\n",
    "Referenced https://stackabuse.com/implementing-word2vec-with-gensim-library-in-python/ and https://radimrehurek.com/gensim/auto_examples/core/run_similarity_queries.html#sphx-glr-auto-examples-core-run-similarity-queries-py"
   ]
  },
  {
   "cell_type": "code",
   "execution_count": 29,
   "metadata": {},
   "outputs": [
    {
     "name": "stderr",
     "output_type": "stream",
     "text": [
      "[nltk_data] Downloading package punkt to\n",
      "[nltk_data]     /home/nikhilpathak/nltk_data...\n",
      "[nltk_data]   Package punkt is already up-to-date!\n"
     ]
    },
    {
     "data": {
      "text/plain": [
       "True"
      ]
     },
     "execution_count": 29,
     "metadata": {},
     "output_type": "execute_result"
    }
   ],
   "source": [
    "from gensim.models import Word2Vec\n",
    "import nltk\n",
    "nltk.download('punkt')"
   ]
  },
  {
   "cell_type": "code",
   "execution_count": 30,
   "metadata": {},
   "outputs": [],
   "source": [
    "tweets = [entry['text'].lower() for i, entry in train_df.iterrows()]\n",
    "words = [tweetTokenizer.tokenize(tweet) for tweet in tweets]"
   ]
  },
  {
   "cell_type": "code",
   "execution_count": 3,
   "metadata": {},
   "outputs": [
    {
     "ename": "NameError",
     "evalue": "name 'Word2Vec' is not defined",
     "output_type": "error",
     "traceback": [
      "\u001b[0;31m---------------------------------------------------------------------------\u001b[0m",
      "\u001b[0;31mNameError\u001b[0m                                 Traceback (most recent call last)",
      "\u001b[0;32m<ipython-input-3-b168d645995d>\u001b[0m in \u001b[0;36m<module>\u001b[0;34m\u001b[0m\n\u001b[0;32m----> 1\u001b[0;31m \u001b[0mw2v\u001b[0m \u001b[0;34m=\u001b[0m \u001b[0mWord2Vec\u001b[0m\u001b[0;34m(\u001b[0m\u001b[0mwords\u001b[0m\u001b[0;34m,\u001b[0m \u001b[0mmin_count\u001b[0m\u001b[0;34m=\u001b[0m\u001b[0;36m5\u001b[0m\u001b[0;34m)\u001b[0m\u001b[0;34m\u001b[0m\u001b[0;34m\u001b[0m\u001b[0m\n\u001b[0m\u001b[1;32m      2\u001b[0m \u001b[0mw2v\u001b[0m\u001b[0;34m.\u001b[0m\u001b[0msave\u001b[0m\u001b[0;34m(\u001b[0m\u001b[0;34m'word2vec.model'\u001b[0m\u001b[0;34m)\u001b[0m \u001b[0;31m# write to file\u001b[0m\u001b[0;34m\u001b[0m\u001b[0;34m\u001b[0m\u001b[0m\n",
      "\u001b[0;31mNameError\u001b[0m: name 'Word2Vec' is not defined"
     ]
    }
   ],
   "source": [
    "w2v = Word2Vec(words, min_count=5)\n",
    "w2v.save('word2vec.model') # write to file"
   ]
  },
  {
   "cell_type": "code",
   "execution_count": 1,
   "metadata": {},
   "outputs": [],
   "source": [
    "def getMostSimilarWords(tweets):\n",
    "    returnList = []\n",
    "    for tweet in tweets:\n",
    "        tweetList = []\n",
    "        for word in tweetTokenizer.tokenize(tweet.lower()):\n",
    "            if word in w2v_model.wv.vocab:\n",
    "                tweetList.append((word, w2v_model.wv.most_similar(word)))\n",
    "            else:\n",
    "                tweetList.append((word, []))\n",
    "        returnList.append(tweetList)\n",
    "    return returnList"
   ]
  },
  {
   "cell_type": "code",
   "execution_count": 2,
   "metadata": {},
   "outputs": [
    {
     "ename": "NameError",
     "evalue": "name 'w2v' is not defined",
     "output_type": "error",
     "traceback": [
      "\u001b[0;31m---------------------------------------------------------------------------\u001b[0m",
      "\u001b[0;31mNameError\u001b[0m                                 Traceback (most recent call last)",
      "\u001b[0;32m<ipython-input-2-c8b08536e419>\u001b[0m in \u001b[0;36m<module>\u001b[0;34m\u001b[0m\n\u001b[1;32m      1\u001b[0m \u001b[0mtweets\u001b[0m \u001b[0;34m=\u001b[0m \u001b[0;34m[\u001b[0m\u001b[0;34m'This bag of chips is disgusting yuck'\u001b[0m\u001b[0;34m,\u001b[0m \u001b[0;34m'i really enjoy riding my bike'\u001b[0m\u001b[0;34m,\u001b[0m \u001b[0;34m'it will be 70 degrees tomorrow'\u001b[0m\u001b[0;34m]\u001b[0m\u001b[0;34m\u001b[0m\u001b[0;34m\u001b[0m\u001b[0m\n\u001b[0;32m----> 2\u001b[0;31m \u001b[0mgetMostSimilarWords\u001b[0m\u001b[0;34m(\u001b[0m\u001b[0mtweets\u001b[0m\u001b[0;34m,\u001b[0m \u001b[0mw2v_model\u001b[0m\u001b[0;34m=\u001b[0m\u001b[0mw2v\u001b[0m\u001b[0;34m)\u001b[0m\u001b[0;34m\u001b[0m\u001b[0;34m\u001b[0m\u001b[0m\n\u001b[0m",
      "\u001b[0;31mNameError\u001b[0m: name 'w2v' is not defined"
     ]
    }
   ],
   "source": [
    "tweets = ['This bag of chips is disgusting yuck', 'i really enjoy riding my bike', 'it will be 70 degrees tomorrow']\n",
    "getMostSimilarWords(tweets, w2v_model=w2v)"
   ]
  },
  {
   "cell_type": "code",
   "execution_count": 34,
   "metadata": {},
   "outputs": [
    {
     "data": {
      "text/plain": [
       "[[('this',\n",
       "   [('that', 0.5935733914375305),\n",
       "    ('which', 0.5301090478897095),\n",
       "    ('the', 0.49837833642959595),\n",
       "    ('it', 0.47747719287872314),\n",
       "    ('every', 0.4759232997894287),\n",
       "    ('next', 0.4756498634815216),\n",
       "    ('another', 0.40533578395843506),\n",
       "    ('a', 0.40285879373550415),\n",
       "    ('today', 0.3960303068161011),\n",
       "    ('ths', 0.39152267575263977)]),\n",
       "  ('bag',\n",
       "   [('pocket', 0.7745541930198669),\n",
       "    ('box', 0.7635934352874756),\n",
       "    ('closet', 0.729519784450531),\n",
       "    ('purse', 0.7203100919723511),\n",
       "    ('hole', 0.715181827545166),\n",
       "    ('mug', 0.7074861526489258),\n",
       "    ('fridge', 0.7056729197502136),\n",
       "    ('shoe', 0.7011345624923706),\n",
       "    ('bottle', 0.6992654204368591),\n",
       "    ('truck', 0.6980395913124084)]),\n",
       "  ('of',\n",
       "   [('current', 0.4695361852645874),\n",
       "    (\"world's\", 0.435147225856781),\n",
       "    ('valuable', 0.4214920103549957),\n",
       "    ('stanley', 0.42116615176200867),\n",
       "    ('involving', 0.41132527589797974),\n",
       "    ('recent', 0.4069414436817169),\n",
       "    ('gun', 0.3961132764816284),\n",
       "    ('led', 0.3896802067756653),\n",
       "    ('ov', 0.3890407085418701),\n",
       "    ('tree', 0.3803018033504486)]),\n",
       "  ('chips',\n",
       "   [('rice', 0.9037907123565674),\n",
       "    ('strawberries', 0.8931084871292114),\n",
       "    ('salad', 0.8854264616966248),\n",
       "    ('soup', 0.8826144933700562),\n",
       "    ('eggs', 0.8823279142379761),\n",
       "    ('fruit', 0.8818399906158447),\n",
       "    ('yogurt', 0.8807590007781982),\n",
       "    ('potatoes', 0.8772515058517456),\n",
       "    ('strawberry', 0.8756213188171387),\n",
       "    ('bread', 0.8750382661819458)]),\n",
       "  ('is',\n",
       "   [(\"isn't\", 0.7290782928466797),\n",
       "    ('isnt', 0.6854735612869263),\n",
       "    ('keeps', 0.6094664335250854),\n",
       "    ('was', 0.5938674211502075),\n",
       "    ('gets', 0.5444707870483398),\n",
       "    (\"she's\", 0.5371303558349609),\n",
       "    (\"wasn't\", 0.5240029692649841),\n",
       "    (\"he's\", 0.5117640495300293),\n",
       "    ('shes', 0.5107032060623169),\n",
       "    ('hes', 0.5040029287338257)]),\n",
       "  ('disgusting',\n",
       "   [('gross', 0.7441946864128113),\n",
       "    ('ridiculous', 0.7286189794540405),\n",
       "    ('painful', 0.7184179425239563),\n",
       "    ('nasty', 0.7049527764320374),\n",
       "    ('scary', 0.6907813549041748),\n",
       "    ('weird', 0.6804839968681335),\n",
       "    ('awkward', 0.680239737033844),\n",
       "    ('natural', 0.6747056245803833),\n",
       "    ('touching', 0.6737720966339111),\n",
       "    ('horrid', 0.6727739572525024)]),\n",
       "  ('yuck',\n",
       "   [('bleh', 0.8232910633087158),\n",
       "    ('urgh', 0.7194161415100098),\n",
       "    ('blah', 0.7086582779884338),\n",
       "    ('ughh', 0.6873703002929688),\n",
       "    ('ick', 0.6647330522537231),\n",
       "    ('yuk', 0.6619749069213867),\n",
       "    ('ew', 0.6602386236190796),\n",
       "    ('eugh', 0.6550784111022949),\n",
       "    ('booooo', 0.6450201272964478),\n",
       "    ('blahhh', 0.6380167603492737)])],\n",
       " [('i',\n",
       "   [('we', 0.6900800466537476),\n",
       "    ('they', 0.6304716467857361),\n",
       "    ('you', 0.615002453327179),\n",
       "    ('u', 0.5702714920043945),\n",
       "    ('it', 0.5603580474853516),\n",
       "    ('she', 0.508495032787323),\n",
       "    ('them', 0.4999309778213501),\n",
       "    ('someone', 0.47317177057266235),\n",
       "    ('that', 0.4717461168766022),\n",
       "    ('he', 0.4590998888015747)]),\n",
       "  ('really',\n",
       "   [('kinda', 0.6777538061141968),\n",
       "    ('actually', 0.6426687836647034),\n",
       "    ('quite', 0.6174392700195312),\n",
       "    ('so', 0.6133813261985779),\n",
       "    ('too', 0.5407472252845764),\n",
       "    ('seriously', 0.540216863155365),\n",
       "    ('very', 0.5352299213409424),\n",
       "    ('sooo', 0.5187753438949585),\n",
       "    ('soooo', 0.5083651542663574),\n",
       "    ('that', 0.4913714826107025)]),\n",
       "  ('enjoy',\n",
       "   [('enjoying', 0.5898585915565491),\n",
       "    ('enjoyed', 0.5683778524398804),\n",
       "    (\"how's\", 0.4712645411491394),\n",
       "    ('improve', 0.4569184482097626),\n",
       "    ('appreciate', 0.44937843084335327),\n",
       "    ('hows', 0.445090115070343),\n",
       "    ('loving', 0.4285920560359955),\n",
       "    ('spend', 0.42219048738479614),\n",
       "    ('shine', 0.4150094985961914),\n",
       "    ('love', 0.4100980758666992)]),\n",
       "  ('riding',\n",
       "   [('ride', 0.7132003307342529),\n",
       "    ('rode', 0.7130801677703857),\n",
       "    ('diving', 0.6793359518051147),\n",
       "    ('stroll', 0.6341256499290466),\n",
       "    ('biking', 0.6273849010467529),\n",
       "    ('hiking', 0.6181426048278809),\n",
       "    ('climbing', 0.6181020140647888),\n",
       "    ('rides', 0.6148781776428223),\n",
       "    ('bridge', 0.6130854487419128),\n",
       "    ('river', 0.6052507162094116)]),\n",
       "  ('my',\n",
       "   [('her', 0.758114218711853),\n",
       "    ('his', 0.7563732862472534),\n",
       "    ('your', 0.6690987348556519),\n",
       "    ('their', 0.6082019209861755),\n",
       "    ('mah', 0.5846965312957764),\n",
       "    ('our', 0.5841143727302551),\n",
       "    ('ma', 0.5457289814949036),\n",
       "    (\"someone's\", 0.5284388065338135),\n",
       "    ('busted', 0.4917634129524231),\n",
       "    ('ur', 0.4757302701473236)]),\n",
       "  ('bike',\n",
       "   [('bicycle', 0.7234179973602295),\n",
       "    ('car', 0.6842817068099976),\n",
       "    ('motorcycle', 0.676781177520752),\n",
       "    ('ride', 0.6619616150856018),\n",
       "    ('cap', 0.6067864298820496),\n",
       "    ('truck', 0.6060751676559448),\n",
       "    ('bus', 0.6021955013275146),\n",
       "    ('shoe', 0.5922870635986328),\n",
       "    ('flat', 0.5874089002609253),\n",
       "    ('riding', 0.5864610075950623)])],\n",
       " [('it',\n",
       "   [('that', 0.7686289548873901),\n",
       "    ('them', 0.670304536819458),\n",
       "    ('everything', 0.6586258411407471),\n",
       "    ('mine', 0.6474897861480713),\n",
       "    ('she', 0.6130172610282898),\n",
       "    ('he', 0.5971717238426208),\n",
       "    ('something', 0.5683382749557495),\n",
       "    ('anything', 0.563433051109314),\n",
       "    ('him', 0.5603914260864258),\n",
       "    ('i', 0.5603580474853516)]),\n",
       "  ('will',\n",
       "   [('shall', 0.8300872445106506),\n",
       "    (\"i'll\", 0.826840877532959),\n",
       "    (\"it'll\", 0.8245722055435181),\n",
       "    (\"they'll\", 0.8098161220550537),\n",
       "    (\"he'll\", 0.8069465756416321),\n",
       "    ('might', 0.8056529760360718),\n",
       "    ('may', 0.8013410568237305),\n",
       "    (\"we'll\", 0.7894213795661926),\n",
       "    ('should', 0.7836530804634094),\n",
       "    (\"she'll\", 0.7755962610244751)]),\n",
       "  ('be',\n",
       "   [('survive', 0.7101521492004395),\n",
       "    ('stay', 0.6686633825302124),\n",
       "    ('b', 0.6615966558456421),\n",
       "    ('continue', 0.6487985849380493),\n",
       "    ('die', 0.6422616243362427),\n",
       "    ('disappear', 0.6268044114112854),\n",
       "    ('happen', 0.6141219139099121),\n",
       "    ('start', 0.5933490991592407),\n",
       "    ('consider', 0.581397294998169),\n",
       "    ('ferrell', 0.5730156898498535)]),\n",
       "  ('70',\n",
       "   [('90', 0.8852760195732117),\n",
       "    ('60', 0.875576913356781),\n",
       "    ('75', 0.8572974801063538),\n",
       "    ('50', 0.8494996428489685),\n",
       "    ('80', 0.8419615030288696),\n",
       "    ('65', 0.8412148356437683),\n",
       "    ('25', 0.8325945734977722),\n",
       "    ('95', 0.8278458118438721),\n",
       "    ('40', 0.8256677389144897),\n",
       "    ('35', 0.8204493522644043)]),\n",
       "  ('degrees',\n",
       "   [('mph', 0.7401841878890991),\n",
       "    ('degree', 0.7037359476089478),\n",
       "    ('celsius', 0.6766952276229858),\n",
       "    ('deg', 0.6685981750488281),\n",
       "    ('8:', 0.663406252861023),\n",
       "    ('%', 0.6568595767021179),\n",
       "    ('temp', 0.6442878842353821),\n",
       "    ('75', 0.6428475379943848),\n",
       "    ('quid', 0.6417247653007507),\n",
       "    ('miles', 0.6405878663063049)]),\n",
       "  ('tomorrow',\n",
       "   [('tmrw', 0.7363724112510681),\n",
       "    ('tomorow', 0.7335979342460632),\n",
       "    ('tommorrow', 0.7206398248672485),\n",
       "    ('tommorow', 0.7043245434761047),\n",
       "    ('tmr', 0.6684670448303223),\n",
       "    ('2morrow', 0.6660335659980774),\n",
       "    ('wednesday', 0.637859046459198),\n",
       "    ('tomoz', 0.6115257143974304),\n",
       "    ('2moro', 0.6100858449935913),\n",
       "    ('tuesday', 0.6069828867912292)])]]"
      ]
     },
     "execution_count": 34,
     "metadata": {},
     "output_type": "execute_result"
    }
   ],
   "source": [
    "# Reading from file\n",
    "read_w2v = Word2Vec.load('word2vec.model')\n",
    "getMostSimilarWords(tweets, w2v_model=read_w2v)"
   ]
  }
 ],
 "metadata": {
  "kernelspec": {
   "display_name": "Python 3",
   "language": "python",
   "name": "python3"
  },
  "language_info": {
   "codemirror_mode": {
    "name": "ipython",
    "version": 3
   },
   "file_extension": ".py",
   "mimetype": "text/x-python",
   "name": "python",
   "nbconvert_exporter": "python",
   "pygments_lexer": "ipython3",
   "version": "3.8.5"
  }
 },
 "nbformat": 4,
 "nbformat_minor": 4
}
